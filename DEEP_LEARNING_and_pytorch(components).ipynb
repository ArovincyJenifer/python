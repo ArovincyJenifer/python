{
  "nbformat": 4,
  "nbformat_minor": 0,
  "metadata": {
    "colab": {
      "provenance": [],
      "gpuType": "T4",
      "include_colab_link": true
    },
    "kernelspec": {
      "name": "python3",
      "display_name": "Python 3"
    },
    "language_info": {
      "name": "python"
    },
    "accelerator": "GPU"
  },
  "cells": [
    {
      "cell_type": "markdown",
      "metadata": {
        "id": "view-in-github",
        "colab_type": "text"
      },
      "source": [
        "<a href=\"https://colab.research.google.com/github/ArovincyJenifer/python/blob/main/DEEP_LEARNING_and_pytorch(components).ipynb\" target=\"_parent\"><img src=\"https://colab.research.google.com/assets/colab-badge.svg\" alt=\"Open In Colab\"/></a>"
      ]
    },
    {
      "cell_type": "code",
      "execution_count": null,
      "metadata": {
        "id": "nswP_yFrrIyR"
      },
      "outputs": [],
      "source": []
    },
    {
      "cell_type": "markdown",
      "source": [
        "#Deep learning\n",
        "\n"
      ],
      "metadata": {
        "id": "16zGBUBQ7TS_"
      }
    },
    {
      "cell_type": "markdown",
      "source": [
        "Perceptron Implementation\n",
        "\n",
        "We’ll use the Iris dataset , but this time we’ll focus on a binary classification problem (e.g., classifying whether a flower is Iris-setosa or not).\n",
        "\n",
        "Step-by-Step Implementation\n",
        "\n",
        "\t1.\tLoad and preprocess the Iris dataset.\n",
        "\t2.\tDefine the perceptron model.\n",
        "\t3.\tTrain the perceptron.\n",
        "\t4.\tEvaluate the perceptron.\n"
      ],
      "metadata": {
        "id": "zLtg1smA25ok"
      }
    },
    {
      "cell_type": "markdown",
      "source": [
        "Load and Preprocess the Iris Dataset\n",
        "\n",
        "First, let’s load the Iris dataset and preprocess it for binary classification."
      ],
      "metadata": {
        "id": "NG9l3onI3BIf"
      }
    },
    {
      "cell_type": "code",
      "source": [
        "import numpy as np\n",
        "from sklearn.datasets import load_iris\n",
        "from sklearn.model_selection import train_test_split\n",
        "from sklearn.preprocessing import StandardScaler\n",
        "\n",
        "# Load the Iris dataset\n",
        "iris = load_iris()\n",
        "X = iris.data\n",
        "y = (iris.target == 0).astype(int)  # Binary classification: Iris-setosa vs. not Iris-setosa\n",
        "\n",
        "# Standardize the features\n",
        "scaler = StandardScaler()\n",
        "X = scaler.fit_transform(X)\n",
        "\n",
        "# Split the dataset into training and testing sets\n",
        "X_train, X_test, y_train, y_test = train_test_split(X, y, test_size=0.2, random_state=42)"
      ],
      "metadata": {
        "id": "jE4nw15A2_o9"
      },
      "execution_count": null,
      "outputs": []
    },
    {
      "cell_type": "markdown",
      "source": [
        "Define the Perceptron Model\n",
        "\n",
        "We’ll define a simple perceptron with one layer and a sigmoid activation function."
      ],
      "metadata": {
        "id": "cF5O45rb3HBM"
      }
    },
    {
      "cell_type": "code",
      "source": [
        "def sigmoid(x):\n",
        "    return 1 / (1 + np.exp(-x))\n",
        "\n",
        "def sigmoid_derivative(x):\n",
        "    return x * (1 - x)\n",
        "\n",
        "class Perceptron:\n",
        "    def __init__(self, input_dim):\n",
        "        self.weights = np.random.randn(input_dim)\n",
        "        self.bias = np.random.randn()\n",
        "\n",
        "    def predict(self, X):\n",
        "        linear_output = np.dot(X, self.weights) + self.bias\n",
        "        return sigmoid(linear_output)\n",
        "\n",
        "    def train(self, X, y, epochs, learning_rate):\n",
        "        for epoch in range(epochs):\n",
        "            for i in range(X.shape[0]):\n",
        "                linear_output = np.dot(X[i], self.weights) + self.bias\n",
        "                prediction = sigmoid(linear_output)\n",
        "\n",
        "                # Compute the error\n",
        "                error = y[i] - prediction\n",
        "\n",
        "                # Update the weights and bias\n",
        "                self.weights += learning_rate * error * X[i] * sigmoid_derivative(prediction)\n",
        "                self.bias += learning_rate * error * sigmoid_derivative(prediction)\n",
        "\n",
        "            if epoch % 100 == 0:\n",
        "                predictions = self.predict(X)\n",
        "                loss = np.mean((y - predictions) ** 2)\n",
        "                print(f\"Epoch {epoch}, Loss: {loss:.4f}\")\n",
        "\n",
        "# Initialize the perceptron\n",
        "perceptron = Perceptron(input_dim=X_train.shape[1])"
      ],
      "metadata": {
        "id": "e3AOSxTx26SS"
      },
      "execution_count": null,
      "outputs": []
    },
    {
      "cell_type": "markdown",
      "source": [
        "3. Train the Perceptron\n",
        "\n",
        "We’ll train the perceptron using the training data."
      ],
      "metadata": {
        "id": "2ZGB4eRW3OBC"
      }
    },
    {
      "cell_type": "code",
      "source": [
        "# Train the perceptron\n",
        "epochs = 1000\n",
        "learning_rate = 0.01\n",
        "perceptron.train(X_train, y_train, epochs, learning_rate)"
      ],
      "metadata": {
        "colab": {
          "base_uri": "https://localhost:8080/"
        },
        "id": "I3iNaExT3LOB",
        "outputId": "f19aa091-3feb-4150-959d-e10dbe2fefb7"
      },
      "execution_count": null,
      "outputs": [
        {
          "output_type": "stream",
          "name": "stdout",
          "text": [
            "Epoch 0, Loss: 0.2128\n",
            "Epoch 100, Loss: 0.0083\n",
            "Epoch 200, Loss: 0.0045\n",
            "Epoch 300, Loss: 0.0031\n",
            "Epoch 400, Loss: 0.0023\n",
            "Epoch 500, Loss: 0.0019\n",
            "Epoch 600, Loss: 0.0016\n",
            "Epoch 700, Loss: 0.0014\n",
            "Epoch 800, Loss: 0.0012\n",
            "Epoch 900, Loss: 0.0011\n"
          ]
        }
      ]
    },
    {
      "cell_type": "markdown",
      "source": [
        "4. Evaluate the Perceptron\n",
        "\n",
        "Finally, we’ll evaluate the perceptron using the testing data."
      ],
      "metadata": {
        "id": "8uLoskPo3Sn0"
      }
    },
    {
      "cell_type": "code",
      "source": [
        "def evaluate(model, X, y):\n",
        "    predictions = model.predict(X)\n",
        "    predictions = np.round(predictions)\n",
        "    accuracy = np.mean(predictions == y) * 100\n",
        "    return accuracy\n",
        "\n",
        "# Evaluate the perceptron\n",
        "train_accuracy = evaluate(perceptron, X_train, y_train)\n",
        "test_accuracy = evaluate(perceptron, X_test, y_test)\n",
        "\n",
        "print(f\"Training Accuracy: {train_accuracy:.2f}%\")\n",
        "print(f\"Testing Accuracy: {test_accuracy:.2f}%\")"
      ],
      "metadata": {
        "colab": {
          "base_uri": "https://localhost:8080/"
        },
        "id": "iMEVGipS3UQg",
        "outputId": "1f91997f-4f94-40f8-a3f7-717474c24e2c"
      },
      "execution_count": null,
      "outputs": [
        {
          "output_type": "stream",
          "name": "stdout",
          "text": [
            "Training Accuracy: 100.00%\n",
            "Testing Accuracy: 100.00%\n"
          ]
        }
      ]
    },
    {
      "cell_type": "markdown",
      "source": [
        "Achieving 100% accuracy on both the training and testing sets is highly unusual for most real-world machine learning tasks. There are a few possible reasons for this, which we should consider:\n",
        "\n",
        "\t1.\tOverfitting: The model might have memorized the training data, performing exceptionally well on both training and test sets. This is more likely if the dataset is small or simple.\n",
        "\t2.\tData Leakage: There might be a leakage of information from the test set into the training process, which can happen in various subtle ways.\n",
        "\t3.\tSimple Dataset: The Iris dataset is relatively simple and well-separated, especially when reduced to binary classification. Thus, it’s possible but still unusual.\n",
        "\t4.\tModel Simplicity: A simple perceptron may not be prone to overfitting as much as more complex models, but 100% accuracy is still rare."
      ],
      "metadata": {
        "id": "IAxCThEQ38JN"
      }
    },
    {
      "cell_type": "markdown",
      "source": [
        "This simple perceptron is designed to classify whether a given iris flower is Iris-setosa or not. The perceptron uses a sigmoid activation function to make predictions and is trained using gradient descent. You can see the training loss decreasing over epochs and the final training and testing accuracy."
      ],
      "metadata": {
        "id": "1t_eRyxe3cz8"
      }
    },
    {
      "cell_type": "code",
      "source": [
        "import pickle\n",
        "\n",
        "# Save the model to a file using Pickle\n",
        "with open('perceptron_model.pkl', 'wb') as file:\n",
        "    pickle.dump(perceptron, file)"
      ],
      "metadata": {
        "id": "cXDH2NWC3cnx"
      },
      "execution_count": null,
      "outputs": []
    },
    {
      "cell_type": "code",
      "source": [],
      "metadata": {
        "id": "8UKP7_JB5BUJ"
      },
      "execution_count": null,
      "outputs": []
    },
    {
      "cell_type": "code",
      "source": [],
      "metadata": {
        "id": "wma6MDNS52xq"
      },
      "execution_count": null,
      "outputs": []
    },
    {
      "cell_type": "markdown",
      "source": [
        "Let’s use a simpler dataset, the Iris dataset, which is often used for beginner machine learning tasks. The Iris dataset consists of 150 samples of iris flowers, each described by four features: sepal length, sepal width, petal length, and petal width. The goal is to classify the iris species into one of three categories."
      ],
      "metadata": {
        "id": "6kRF3p8l54mu"
      }
    },
    {
      "cell_type": "markdown",
      "source": [
        "Step-by-Step Implementation\n",
        "\n",
        "\t1.\tLoad and preprocess the Iris dataset.\n",
        "\t2.\tDefine the feedforward neural network.\n",
        "\t3.\tTrain the neural network.\n",
        "\t4.\tEvaluate the neural network."
      ],
      "metadata": {
        "id": "SxEHTMtg59jg"
      }
    },
    {
      "cell_type": "markdown",
      "source": [
        "1. Load and Preprocess the Iris Dataset\n",
        "\n",
        "We’ll use the scikit-learn library to load and preprocess the Iris dataset."
      ],
      "metadata": {
        "id": "SPp5MRxb6FXW"
      }
    },
    {
      "cell_type": "code",
      "source": [
        "import torch\n",
        "import torch.nn as nn\n",
        "import torch.optim as optim\n",
        "import numpy as np\n",
        "from sklearn.datasets import load_iris\n",
        "from sklearn.model_selection import train_test_split\n",
        "from sklearn.preprocessing import StandardScaler\n",
        "\n",
        "# Load the Iris dataset\n",
        "iris = load_iris()\n",
        "X = iris.data\n",
        "y = iris.target\n",
        "\n",
        "# Standardize the features\n",
        "scaler = StandardScaler()\n",
        "X = scaler.fit_transform(X)\n",
        "\n",
        "# Split the dataset into training and testing sets\n",
        "X_train, X_test, y_train, y_test = train_test_split(X, y, test_size=0.2, random_state=42)\n",
        "\n",
        "# Convert the data to PyTorch tensors\n",
        "X_train = torch.tensor(X_train, dtype=torch.float32)\n",
        "X_test = torch.tensor(X_test, dtype=torch.float32)\n",
        "y_train = torch.tensor(y_train, dtype=torch.long)\n",
        "y_test = torch.tensor(y_test, dtype=torch.long)"
      ],
      "metadata": {
        "id": "ljHiwuWU53ib"
      },
      "execution_count": null,
      "outputs": []
    },
    {
      "cell_type": "markdown",
      "source": [
        "2. Define the Feedforward Neural Network\n",
        "\n",
        "We’ll define a simple feedforward neural network with one hidden layer."
      ],
      "metadata": {
        "id": "vxEQlIQT6OIY"
      }
    },
    {
      "cell_type": "code",
      "source": [
        "class SimpleNN(nn.Module):\n",
        "    def __init__(self):\n",
        "        super(SimpleNN, self).__init__()\n",
        "        self.fc1 = nn.Linear(4, 10)  # Input layer (4 nodes) -> Hidden layer (10 nodes)\n",
        "        self.fc2 = nn.Linear(10, 3)  # Hidden layer (10 nodes) -> Output layer (3 nodes)\n",
        "\n",
        "    def forward(self, x):\n",
        "        x = torch.relu(self.fc1(x))\n",
        "        x = self.fc2(x)\n",
        "        return x\n",
        "\n",
        "# Initialize the neural network\n",
        "net = SimpleNN()"
      ],
      "metadata": {
        "id": "CSgD8w7l6J5m"
      },
      "execution_count": null,
      "outputs": []
    },
    {
      "cell_type": "markdown",
      "source": [
        "This line defines a new class SimpleNN that inherits from torch.nn.Module, which is the base class for all neural network modules in PyTorch. This inheritance provides SimpleNN with methods and properties that make defining and managing neural networks easier."
      ],
      "metadata": {
        "id": "nhBP7YyJ7FgR"
      }
    },
    {
      "cell_type": "markdown",
      "source": [
        "super(SimpleNN, self).__init__() calls the constructor of the parent class (nn.Module). This is necessary to properly initialize the module.\n",
        "\n",
        "\n",
        "*   self.fc1 = nn.Linear(4, 10) creates a fully connected (dense) layer with 4 input features (corresponding to the 4 features in the Iris dataset) and 10 output features (neurons) in the hidden layer. The nn.Linear class initializes the weights and biases for this layer.\n",
        "*   \tself.fc2 = nn.Linear(10, 3) creates another fully connected layer with 10 input features (from the previous layer) and 3 output features (corresponding to the 3 classes in the Iris dataset).\n",
        "\n",
        "\n"
      ],
      "metadata": {
        "id": "7y4Norn67Lnz"
      }
    },
    {
      "cell_type": "markdown",
      "source": [
        "3. Train the Neural Network\n",
        "\n",
        "We’ll define the loss function and the optimizer, then train the network."
      ],
      "metadata": {
        "id": "an2NlRO46YYV"
      }
    },
    {
      "cell_type": "code",
      "source": [
        "criterion = nn.CrossEntropyLoss()\n",
        "optimizer = optim.SGD(net.parameters(), lr=0.01, momentum=0.9)\n",
        "\n",
        "# Training the network\n",
        "epochs = 10\n",
        "for epoch in range(epochs):\n",
        "    # Forward pass\n",
        "    outputs = net(X_train)\n",
        "    loss = criterion(outputs, y_train)\n",
        "\n",
        "    # Backward pass and optimize\n",
        "    # optimizer.zero_grad()  # Zero the gradients\n",
        "    # loss.backward()  # Backpropagate the loss\n",
        "    # optimizer.step()  # Update the weights\n",
        "\n",
        "\n",
        "    if (epoch + 1) % 10 == 0:\n",
        "        print(f'Epoch [{epoch + 1}/{epochs}], Loss: {loss.item():.4f}')\n",
        "\n",
        "print('Finished Training')"
      ],
      "metadata": {
        "colab": {
          "base_uri": "https://localhost:8080/"
        },
        "id": "iXaj2lSh6YBT",
        "outputId": "ab090f6f-82f5-42db-fb34-b2c35f9ccc01"
      },
      "execution_count": null,
      "outputs": [
        {
          "output_type": "stream",
          "name": "stdout",
          "text": [
            "Epoch [10/10], Loss: 0.2789\n",
            "Finished Training\n"
          ]
        }
      ]
    },
    {
      "cell_type": "markdown",
      "source": [
        "he forward method defines how the input data flows through the network. This is where the forward pass is implemented.\n",
        "\n",
        "\n",
        "\t•\tx = torch.relu(self.fc1(x)):\n",
        "\t•\tself.fc1(x): Passes the input x through the first fully connected layer fc1. This operation performs a matrix multiplication of the input with the layer’s weights, adds the bias, and produces an output.\n",
        "\t•\ttorch.relu(...): Applies the ReLU activation function to the output of the first layer. The ReLU function introduces non-linearity into the model, which helps it learn complex patterns.\n",
        "\t•\tx = self.fc2(x): Passes the output of the first layer through the second fully connected layer fc2. This produces the final output of the network, which consists of 3 values (logits for each class).\n",
        "\t•\treturn x: Returns the final output of the network."
      ],
      "metadata": {
        "id": "yh_s4J727hH4"
      }
    },
    {
      "cell_type": "code",
      "source": [
        "# Evaluate the network\n",
        "with torch.no_grad():\n",
        "    outputs = net(X_test)\n",
        "    _, predicted = torch.max(outputs, 1)\n",
        "    accuracy = (predicted == y_test).sum().item() / y_test.size(0)\n",
        "\n",
        "print(f'Accuracy of the network on the test set: {accuracy * 100:.2f}%')"
      ],
      "metadata": {
        "colab": {
          "base_uri": "https://localhost:8080/"
        },
        "id": "nxb1MoE76e4P",
        "outputId": "e7bc0eee-8b2f-445f-99fe-574a72a8af1e"
      },
      "execution_count": null,
      "outputs": [
        {
          "output_type": "stream",
          "name": "stdout",
          "text": [
            "Accuracy of the network on the test set: 90.00%\n"
          ]
        }
      ]
    },
    {
      "cell_type": "markdown",
      "source": [
        "Disable Gradient Calculation:\n",
        "\n",
        "\n",
        "    1.  torch.no_grad() is used to disable gradient  calculation, which reduces memory usage and speeds up computations during evaluation.\n",
        "\t2.\tForward Pass: The test data X_test is passed through the network to get the output logits.\n",
        "\t3.\tPrediction: torch.max(outputs, 1) is used to get the predicted class labels by selecting the index of the maximum value in the output logits.\n",
        "\t4.\tCalculate Accuracy: The predicted labels are compared with the true labels y_test, and the accuracy is calculated as the percentage of correct predictions.\n"
      ],
      "metadata": {
        "id": "U9BysXDY8mMB"
      }
    },
    {
      "cell_type": "code",
      "source": [
        "!pip install torchviz"
      ],
      "metadata": {
        "colab": {
          "base_uri": "https://localhost:8080/"
        },
        "collapsed": true,
        "id": "z197L5X09i42",
        "outputId": "b24b6fdb-b6a7-4cd3-964a-62f8c3d74384"
      },
      "execution_count": null,
      "outputs": [
        {
          "output_type": "stream",
          "name": "stdout",
          "text": [
            "Collecting torchviz\n",
            "  Downloading torchviz-0.0.2.tar.gz (4.9 kB)\n",
            "  Preparing metadata (setup.py) ... \u001b[?25l\u001b[?25hdone\n",
            "Requirement already satisfied: torch in /usr/local/lib/python3.10/dist-packages (from torchviz) (2.2.1+cu121)\n",
            "Requirement already satisfied: graphviz in /usr/local/lib/python3.10/dist-packages (from torchviz) (0.20.3)\n",
            "Requirement already satisfied: filelock in /usr/local/lib/python3.10/dist-packages (from torch->torchviz) (3.14.0)\n",
            "Requirement already satisfied: typing-extensions>=4.8.0 in /usr/local/lib/python3.10/dist-packages (from torch->torchviz) (4.11.0)\n",
            "Requirement already satisfied: sympy in /usr/local/lib/python3.10/dist-packages (from torch->torchviz) (1.12)\n",
            "Requirement already satisfied: networkx in /usr/local/lib/python3.10/dist-packages (from torch->torchviz) (3.3)\n",
            "Requirement already satisfied: jinja2 in /usr/local/lib/python3.10/dist-packages (from torch->torchviz) (3.1.4)\n",
            "Requirement already satisfied: fsspec in /usr/local/lib/python3.10/dist-packages (from torch->torchviz) (2023.6.0)\n",
            "Collecting nvidia-cuda-nvrtc-cu12==12.1.105 (from torch->torchviz)\n",
            "  Using cached nvidia_cuda_nvrtc_cu12-12.1.105-py3-none-manylinux1_x86_64.whl (23.7 MB)\n",
            "Collecting nvidia-cuda-runtime-cu12==12.1.105 (from torch->torchviz)\n",
            "  Using cached nvidia_cuda_runtime_cu12-12.1.105-py3-none-manylinux1_x86_64.whl (823 kB)\n",
            "Collecting nvidia-cuda-cupti-cu12==12.1.105 (from torch->torchviz)\n",
            "  Using cached nvidia_cuda_cupti_cu12-12.1.105-py3-none-manylinux1_x86_64.whl (14.1 MB)\n",
            "Collecting nvidia-cudnn-cu12==8.9.2.26 (from torch->torchviz)\n",
            "  Using cached nvidia_cudnn_cu12-8.9.2.26-py3-none-manylinux1_x86_64.whl (731.7 MB)\n",
            "Collecting nvidia-cublas-cu12==12.1.3.1 (from torch->torchviz)\n",
            "  Using cached nvidia_cublas_cu12-12.1.3.1-py3-none-manylinux1_x86_64.whl (410.6 MB)\n",
            "Collecting nvidia-cufft-cu12==11.0.2.54 (from torch->torchviz)\n",
            "  Using cached nvidia_cufft_cu12-11.0.2.54-py3-none-manylinux1_x86_64.whl (121.6 MB)\n",
            "Collecting nvidia-curand-cu12==10.3.2.106 (from torch->torchviz)\n",
            "  Using cached nvidia_curand_cu12-10.3.2.106-py3-none-manylinux1_x86_64.whl (56.5 MB)\n",
            "Collecting nvidia-cusolver-cu12==11.4.5.107 (from torch->torchviz)\n",
            "  Using cached nvidia_cusolver_cu12-11.4.5.107-py3-none-manylinux1_x86_64.whl (124.2 MB)\n",
            "Collecting nvidia-cusparse-cu12==12.1.0.106 (from torch->torchviz)\n",
            "  Using cached nvidia_cusparse_cu12-12.1.0.106-py3-none-manylinux1_x86_64.whl (196.0 MB)\n",
            "Collecting nvidia-nccl-cu12==2.19.3 (from torch->torchviz)\n",
            "  Using cached nvidia_nccl_cu12-2.19.3-py3-none-manylinux1_x86_64.whl (166.0 MB)\n",
            "Collecting nvidia-nvtx-cu12==12.1.105 (from torch->torchviz)\n",
            "  Using cached nvidia_nvtx_cu12-12.1.105-py3-none-manylinux1_x86_64.whl (99 kB)\n",
            "Requirement already satisfied: triton==2.2.0 in /usr/local/lib/python3.10/dist-packages (from torch->torchviz) (2.2.0)\n",
            "Collecting nvidia-nvjitlink-cu12 (from nvidia-cusolver-cu12==11.4.5.107->torch->torchviz)\n",
            "  Using cached nvidia_nvjitlink_cu12-12.4.127-py3-none-manylinux2014_x86_64.whl (21.1 MB)\n",
            "Requirement already satisfied: MarkupSafe>=2.0 in /usr/local/lib/python3.10/dist-packages (from jinja2->torch->torchviz) (2.1.5)\n",
            "Requirement already satisfied: mpmath>=0.19 in /usr/local/lib/python3.10/dist-packages (from sympy->torch->torchviz) (1.3.0)\n",
            "Building wheels for collected packages: torchviz\n",
            "  Building wheel for torchviz (setup.py) ... \u001b[?25l\u001b[?25hdone\n",
            "  Created wheel for torchviz: filename=torchviz-0.0.2-py3-none-any.whl size=4132 sha256=f94c41afbbca471e054b169aab552cc0f38d45d295eba10268d2da7964589b96\n",
            "  Stored in directory: /root/.cache/pip/wheels/4c/97/88/a02973217949e0db0c9f4346d154085f4725f99c4f15a87094\n",
            "Successfully built torchviz\n",
            "Installing collected packages: nvidia-nvtx-cu12, nvidia-nvjitlink-cu12, nvidia-nccl-cu12, nvidia-curand-cu12, nvidia-cufft-cu12, nvidia-cuda-runtime-cu12, nvidia-cuda-nvrtc-cu12, nvidia-cuda-cupti-cu12, nvidia-cublas-cu12, nvidia-cusparse-cu12, nvidia-cudnn-cu12, nvidia-cusolver-cu12, torchviz\n",
            "Successfully installed nvidia-cublas-cu12-12.1.3.1 nvidia-cuda-cupti-cu12-12.1.105 nvidia-cuda-nvrtc-cu12-12.1.105 nvidia-cuda-runtime-cu12-12.1.105 nvidia-cudnn-cu12-8.9.2.26 nvidia-cufft-cu12-11.0.2.54 nvidia-curand-cu12-10.3.2.106 nvidia-cusolver-cu12-11.4.5.107 nvidia-cusparse-cu12-12.1.0.106 nvidia-nccl-cu12-2.19.3 nvidia-nvjitlink-cu12-12.4.127 nvidia-nvtx-cu12-12.1.105 torchviz-0.0.2\n"
          ]
        }
      ]
    },
    {
      "cell_type": "code",
      "source": [
        "from torchviz import make_dot\n",
        "# Visualize the network architecture\n",
        "x = torch.randn(1, 4)  # Create some sample input data with the same input dimension as the model\n",
        "y = net(x)  # Generate predictions for the sample data\n",
        "\n",
        "# Generate a model architecture visualization\n",
        "dot = make_dot(y.mean(), params=dict(net.named_parameters()), show_attrs=True, show_saved=True)\n",
        "dot.render(\"SimpleNN_torchviz\", format=\"png\")"
      ],
      "metadata": {
        "colab": {
          "base_uri": "https://localhost:8080/",
          "height": 35
        },
        "id": "HhAsP9d-9aDf",
        "outputId": "2ceca2b9-0ddf-43c0-e29a-87742b46763d"
      },
      "execution_count": null,
      "outputs": [
        {
          "output_type": "execute_result",
          "data": {
            "text/plain": [
              "'SimpleNN_torchviz.png'"
            ],
            "application/vnd.google.colaboratory.intrinsic+json": {
              "type": "string"
            }
          },
          "metadata": {},
          "execution_count": 12
        }
      ]
    },
    {
      "cell_type": "markdown",
      "source": [
        "#MLP\n"
      ],
      "metadata": {
        "id": "bOAblMixBSdp"
      }
    },
    {
      "cell_type": "code",
      "source": [],
      "metadata": {
        "id": "L7KYfFNUBqEK"
      },
      "execution_count": null,
      "outputs": []
    },
    {
      "cell_type": "code",
      "source": [
        "import numpy as np\n",
        "import pandas as pd\n",
        "import matplotlib.pyplot as plt\n",
        "import warnings\n",
        "from sklearn.metrics import mean_absolute_error\n",
        "from keras.models import Sequential\n",
        "from keras.layers import Dense, LSTM, Dropout,Flatten\n",
        "warnings.filterwarnings(\"ignore\")"
      ],
      "metadata": {
        "id": "GNvE2xV1BqTn"
      },
      "execution_count": null,
      "outputs": []
    },
    {
      "cell_type": "code",
      "source": [
        "bit_data=pd.read_csv(\"/content/drive/MyDrive/Classroom/StockData.csv\")\n",
        "bit_data[\"date\"]=pd.to_datetime(bit_data[\"Date\"]).dt.date\n",
        "group=bit_data.groupby(\"date\")\n",
        "data=group[\"Close\"].mean()"
      ],
      "metadata": {
        "id": "95UqEv-zBqTo"
      },
      "execution_count": null,
      "outputs": []
    },
    {
      "cell_type": "code",
      "source": [
        "close_train=data.iloc[:len(data)-60]\n",
        "close_test=data.iloc[len(close_train):]"
      ],
      "metadata": {
        "id": "Sy6SZTR1BqTo"
      },
      "execution_count": null,
      "outputs": []
    },
    {
      "cell_type": "code",
      "source": [
        "close_train=np.array(close_train)\n",
        "close_train=close_train.reshape(close_train.shape[0],1)\n",
        "from sklearn.preprocessing import MinMaxScaler\n",
        "scaler=MinMaxScaler(feature_range=(0,1))\n",
        "close_scaled=scaler.fit_transform(close_train)"
      ],
      "metadata": {
        "id": "X0lUnyAuBqTo"
      },
      "execution_count": null,
      "outputs": []
    },
    {
      "cell_type": "code",
      "source": [
        "timestep=60\n",
        "x_train=[]\n",
        "y_train=[]\n",
        "\n",
        "for i in range(timestep,close_scaled.shape[0]):\n",
        "    x_train.append(close_scaled[i-timestep:i,0])\n",
        "    y_train.append(close_scaled[i,0])\n",
        "\n",
        "x_train,y_train=np.array(x_train),np.array(y_train)\n",
        "x_train=x_train.reshape(x_train.shape[0],x_train.shape[1],1) #reshaped for RNN\n",
        "print(\"x-train-shape= \",x_train.shape)\n",
        "print(\"y-train-shape= \",y_train.shape)"
      ],
      "metadata": {
        "colab": {
          "base_uri": "https://localhost:8080/"
        },
        "outputId": "527c3b78-2f58-4413-a23d-78eab5ca474c",
        "id": "BPtw3v5pBqTo"
      },
      "execution_count": null,
      "outputs": [
        {
          "output_type": "stream",
          "name": "stdout",
          "text": [
            "x-train-shape=  (9280, 60, 1)\n",
            "y-train-shape=  (9280,)\n"
          ]
        }
      ]
    },
    {
      "cell_type": "code",
      "source": [
        "model = Sequential()\n",
        "model.add(Dense(56, input_shape=(x_train.shape[1],1), activation='relu'))\n",
        "model.add(Dense(32, activation='relu'))\n",
        "model.add(Flatten())\n",
        "model.add(Dense(1))\n",
        "\n",
        "model.compile(optimizer=\"adam\",loss=\"mean_squared_error\")\n",
        "model.fit(x_train,y_train,epochs=50,batch_size=64)"
      ],
      "metadata": {
        "colab": {
          "base_uri": "https://localhost:8080/"
        },
        "id": "7ZPhlNrKBSMT",
        "outputId": "9fabb862-9642-40fc-ce30-8fa80441912d"
      },
      "execution_count": null,
      "outputs": [
        {
          "output_type": "stream",
          "name": "stdout",
          "text": [
            "Epoch 1/50\n",
            "145/145 [==============================] - 5s 16ms/step - loss: 0.0033\n",
            "Epoch 2/50\n",
            "145/145 [==============================] - 2s 15ms/step - loss: 7.2067e-04\n",
            "Epoch 3/50\n",
            "145/145 [==============================] - 2s 12ms/step - loss: 4.6228e-04\n",
            "Epoch 4/50\n",
            "145/145 [==============================] - 2s 11ms/step - loss: 3.8610e-04\n",
            "Epoch 5/50\n",
            "145/145 [==============================] - 1s 10ms/step - loss: 2.9512e-04\n",
            "Epoch 6/50\n",
            "145/145 [==============================] - 1s 6ms/step - loss: 4.9378e-04\n",
            "Epoch 7/50\n",
            "145/145 [==============================] - 1s 5ms/step - loss: 2.4008e-04\n",
            "Epoch 8/50\n",
            "145/145 [==============================] - 1s 5ms/step - loss: 2.2864e-04\n",
            "Epoch 9/50\n",
            "145/145 [==============================] - 1s 6ms/step - loss: 2.5062e-04\n",
            "Epoch 10/50\n",
            "145/145 [==============================] - 1s 6ms/step - loss: 2.6301e-04\n",
            "Epoch 11/50\n",
            "145/145 [==============================] - 1s 6ms/step - loss: 1.8337e-04\n",
            "Epoch 12/50\n",
            "145/145 [==============================] - 1s 6ms/step - loss: 2.7301e-04\n",
            "Epoch 13/50\n",
            "145/145 [==============================] - 1s 9ms/step - loss: 2.2448e-04\n",
            "Epoch 14/50\n",
            "145/145 [==============================] - 1s 9ms/step - loss: 2.1687e-04\n",
            "Epoch 15/50\n",
            "145/145 [==============================] - 1s 10ms/step - loss: 2.2303e-04\n",
            "Epoch 16/50\n",
            "145/145 [==============================] - 1s 6ms/step - loss: 1.9842e-04\n",
            "Epoch 17/50\n",
            "145/145 [==============================] - 1s 6ms/step - loss: 1.6568e-04\n",
            "Epoch 18/50\n",
            "145/145 [==============================] - 1s 6ms/step - loss: 2.1325e-04\n",
            "Epoch 19/50\n",
            "145/145 [==============================] - 1s 6ms/step - loss: 2.1027e-04\n",
            "Epoch 20/50\n",
            "145/145 [==============================] - 1s 6ms/step - loss: 1.7486e-04\n",
            "Epoch 21/50\n",
            "145/145 [==============================] - 1s 6ms/step - loss: 1.9040e-04\n",
            "Epoch 22/50\n",
            "145/145 [==============================] - 1s 5ms/step - loss: 2.0282e-04\n",
            "Epoch 23/50\n",
            "145/145 [==============================] - 1s 5ms/step - loss: 1.6586e-04\n",
            "Epoch 24/50\n",
            "145/145 [==============================] - 1s 6ms/step - loss: 2.0858e-04\n",
            "Epoch 25/50\n",
            "145/145 [==============================] - 1s 6ms/step - loss: 1.7839e-04\n",
            "Epoch 26/50\n",
            "145/145 [==============================] - 1s 5ms/step - loss: 1.7601e-04\n",
            "Epoch 27/50\n",
            "145/145 [==============================] - 1s 6ms/step - loss: 1.9918e-04\n",
            "Epoch 28/50\n",
            "145/145 [==============================] - 1s 10ms/step - loss: 1.6952e-04\n",
            "Epoch 29/50\n",
            "145/145 [==============================] - 1s 10ms/step - loss: 1.6808e-04\n",
            "Epoch 30/50\n",
            "145/145 [==============================] - 1s 9ms/step - loss: 1.5325e-04\n",
            "Epoch 31/50\n",
            "145/145 [==============================] - 1s 5ms/step - loss: 1.6694e-04\n",
            "Epoch 32/50\n",
            "145/145 [==============================] - 1s 6ms/step - loss: 2.4219e-04\n",
            "Epoch 33/50\n",
            "145/145 [==============================] - 1s 6ms/step - loss: 1.5801e-04\n",
            "Epoch 34/50\n",
            "145/145 [==============================] - 1s 6ms/step - loss: 2.0638e-04\n",
            "Epoch 35/50\n",
            "145/145 [==============================] - 1s 6ms/step - loss: 2.2035e-04\n",
            "Epoch 36/50\n",
            "145/145 [==============================] - 1s 6ms/step - loss: 1.8461e-04\n",
            "Epoch 37/50\n",
            "145/145 [==============================] - 1s 6ms/step - loss: 1.4299e-04\n",
            "Epoch 38/50\n",
            "145/145 [==============================] - 1s 6ms/step - loss: 1.5531e-04\n",
            "Epoch 39/50\n",
            "145/145 [==============================] - 1s 6ms/step - loss: 1.8261e-04\n",
            "Epoch 40/50\n",
            "145/145 [==============================] - 1s 6ms/step - loss: 1.5781e-04\n",
            "Epoch 41/50\n",
            "145/145 [==============================] - 1s 6ms/step - loss: 1.4709e-04\n",
            "Epoch 42/50\n",
            "145/145 [==============================] - 1s 8ms/step - loss: 1.5739e-04\n",
            "Epoch 43/50\n",
            "145/145 [==============================] - 1s 10ms/step - loss: 1.3449e-04\n",
            "Epoch 44/50\n",
            "145/145 [==============================] - 1s 10ms/step - loss: 1.9810e-04\n",
            "Epoch 45/50\n",
            "145/145 [==============================] - 1s 7ms/step - loss: 1.4814e-04\n",
            "Epoch 46/50\n",
            "145/145 [==============================] - 1s 6ms/step - loss: 1.4448e-04\n",
            "Epoch 47/50\n",
            "145/145 [==============================] - 1s 5ms/step - loss: 1.5986e-04\n",
            "Epoch 48/50\n",
            "145/145 [==============================] - 1s 6ms/step - loss: 1.6481e-04\n",
            "Epoch 49/50\n",
            "145/145 [==============================] - 1s 6ms/step - loss: 1.3903e-04\n",
            "Epoch 50/50\n",
            "145/145 [==============================] - 1s 6ms/step - loss: 1.7570e-04\n"
          ]
        },
        {
          "output_type": "execute_result",
          "data": {
            "text/plain": [
              "<keras.src.callbacks.History at 0x784fd620c400>"
            ]
          },
          "metadata": {},
          "execution_count": 22
        }
      ]
    },
    {
      "cell_type": "code",
      "source": [
        "inputs=data[len(data)-len(close_test)-timestep:]\n",
        "inputs=inputs.values.reshape(-1,1)\n",
        "inputs=scaler.transform(inputs)"
      ],
      "metadata": {
        "id": "q3r5S16ZBbOa"
      },
      "execution_count": null,
      "outputs": []
    },
    {
      "cell_type": "code",
      "source": [
        "x_test=[]\n",
        "for i in range(timestep,inputs.shape[0]):\n",
        "    x_test.append(inputs[i-timestep:i,0])\n",
        "x_test=np.array(x_test)\n",
        "x_test=x_test.reshape(x_test.shape[0],x_test.shape[1],1)"
      ],
      "metadata": {
        "id": "iBpUZoELBfkX"
      },
      "execution_count": null,
      "outputs": []
    },
    {
      "cell_type": "code",
      "source": [
        "predicted_data=model.predict(x_test)\n",
        "predicted_data=scaler.inverse_transform(predicted_data)"
      ],
      "metadata": {
        "colab": {
          "base_uri": "https://localhost:8080/"
        },
        "id": "r04arxn3BiFi",
        "outputId": "8ef0186b-2290-4081-d840-b2c5a46c1a6a"
      },
      "execution_count": null,
      "outputs": [
        {
          "output_type": "stream",
          "name": "stdout",
          "text": [
            "2/2 [==============================] - 0s 8ms/step\n"
          ]
        }
      ]
    },
    {
      "cell_type": "code",
      "source": [
        "data_test=np.array(close_test)\n",
        "data_test=data_test.reshape(len(data_test),1)"
      ],
      "metadata": {
        "id": "q_-DPpdzBkIJ"
      },
      "execution_count": null,
      "outputs": []
    },
    {
      "cell_type": "code",
      "source": [
        "plt.figure(figsize=(8,4), dpi=80, facecolor='w', edgecolor='k')\n",
        "plt.plot(data_test,color=\"r\",label=\"true result\")\n",
        "plt.plot(predicted_data,color=\"b\",label=\"predicted result\")\n",
        "plt.legend()\n",
        "plt.xlabel(\"Time(60 days)\")\n",
        "plt.ylabel(\"Values\")\n",
        "plt.grid(True)\n",
        "plt.show()"
      ],
      "metadata": {
        "colab": {
          "base_uri": "https://localhost:8080/",
          "height": 311
        },
        "id": "xnjcALo-Bl-R",
        "outputId": "8f1816f6-b228-407b-9b6b-7efdf8d0e829"
      },
      "execution_count": null,
      "outputs": [
        {
          "output_type": "display_data",
          "data": {
            "text/plain": [
              "<Figure size 640x320 with 1 Axes>"
            ],
            "image/png": "[encoded data removed]"
          },
          "metadata": {}
        }
      ]
    },
    {
      "cell_type": "markdown",
      "source": [
        "#LSTM"
      ],
      "metadata": {
        "id": "g-lPm0IB8KH_"
      }
    },
    {
      "cell_type": "markdown",
      "source": [
        "From Keras Layers API, important classes like LSTM layer, regularization layer dropout, and core layer dense are imported.\n",
        "\n",
        "In the first layer, where the input is of 50 units, return_sequence is kept true as it will return the sequence of vectors of dimension 50. As the return_sequence of the next layer is False, it will return the single vector of dimension 100."
      ],
      "metadata": {
        "id": "HWP-Uv9y8XrZ"
      }
    },
    {
      "cell_type": "code",
      "source": [
        "import numpy as np\n",
        "import pandas as pd\n",
        "import matplotlib.pyplot as plt\n",
        "import warnings\n",
        "from sklearn.metrics import mean_absolute_error\n",
        "from keras.models import Sequential\n",
        "from keras.layers import Dense, LSTM, Dropout,Flatten\n",
        "warnings.filterwarnings(\"ignore\")"
      ],
      "metadata": {
        "id": "GZVGIZDi8XTQ"
      },
      "execution_count": null,
      "outputs": []
    },
    {
      "cell_type": "code",
      "source": [
        "bit_data=pd.read_csv(\"/content/drive/MyDrive/Classroom/StockData.csv\")\n",
        "bit_data[\"date\"]=pd.to_datetime(bit_data[\"Date\"]).dt.date\n",
        "group=bit_data.groupby(\"date\")\n",
        "data=group[\"Close\"].mean()"
      ],
      "metadata": {
        "id": "NySPbHH8_21c"
      },
      "execution_count": null,
      "outputs": []
    },
    {
      "cell_type": "code",
      "source": [
        "close_train=data.iloc[:len(data)-60]\n",
        "close_test=data.iloc[len(close_train):]"
      ],
      "metadata": {
        "id": "Kg0QBPUEAhqo"
      },
      "execution_count": null,
      "outputs": []
    },
    {
      "cell_type": "code",
      "source": [
        "close_train=np.array(close_train)\n",
        "close_train=close_train.reshape(close_train.shape[0],1)\n",
        "from sklearn.preprocessing import MinMaxScaler\n",
        "scaler=MinMaxScaler(feature_range=(0,1))\n",
        "close_scaled=scaler.fit_transform(close_train)"
      ],
      "metadata": {
        "id": "vb3FW0Z0AkXj"
      },
      "execution_count": null,
      "outputs": []
    },
    {
      "cell_type": "code",
      "source": [
        "timestep=60\n",
        "x_train=[]\n",
        "y_train=[]\n",
        "\n",
        "for i in range(timestep,close_scaled.shape[0]):\n",
        "    x_train.append(close_scaled[i-timestep:i,0])\n",
        "    y_train.append(close_scaled[i,0])\n",
        "\n",
        "x_train,y_train=np.array(x_train),np.array(y_train)\n",
        "x_train=x_train.reshape(x_train.shape[0],x_train.shape[1],1) #reshaped for RNN\n",
        "print(\"x-train-shape= \",x_train.shape)\n",
        "print(\"y-train-shape= \",y_train.shape)"
      ],
      "metadata": {
        "colab": {
          "base_uri": "https://localhost:8080/"
        },
        "id": "r9JLSoYtAnEP",
        "outputId": "460b8784-e1ac-4cfb-c025-bbe733f72765"
      },
      "execution_count": null,
      "outputs": [
        {
          "output_type": "stream",
          "name": "stdout",
          "text": [
            "x-train-shape=  (9280, 60, 1)\n",
            "y-train-shape=  (9280,)\n"
          ]
        }
      ]
    },
    {
      "cell_type": "code",
      "source": [
        "from sklearn.metrics import mean_absolute_error\n",
        "from keras.models import Sequential\n",
        "from keras.layers import Dense, LSTM, Dropout\n",
        "\n",
        "modell = Sequential()\n",
        "modell.add(LSTM(50, return_sequences=True, input_shape=(x_train.shape[1],1)))\n",
        "modell.add(Dropout(0.2))\n",
        "modell.add(LSTM(100, return_sequences=False))\n",
        "modell.add(Dropout(0.2))\n",
        "modell.add(Dense(1))\n",
        "\n",
        "modell.compile(loss=\"mean_squared_error\",optimizer=\"rmsprop\")\n",
        "\n",
        "modell.fit(x_train,y_train,epochs= 50,batch_size=64)"
      ],
      "metadata": {
        "colab": {
          "base_uri": "https://localhost:8080/"
        },
        "id": "0afgl8tU8JoG",
        "outputId": "defe243b-4ef4-4a5b-b829-60fd177e0486"
      },
      "execution_count": null,
      "outputs": [
        {
          "output_type": "stream",
          "name": "stdout",
          "text": [
            "Epoch 1/50\n",
            "145/145 [==============================] - 23s 126ms/step - loss: 0.0023\n",
            "Epoch 2/50\n",
            "145/145 [==============================] - 17s 120ms/step - loss: 9.8725e-04\n",
            "Epoch 3/50\n",
            "145/145 [==============================] - 27s 190ms/step - loss: 8.6448e-04\n",
            "Epoch 4/50\n",
            "145/145 [==============================] - 28s 194ms/step - loss: 7.7454e-04\n",
            "Epoch 5/50\n",
            "145/145 [==============================] - 21s 144ms/step - loss: 6.9728e-04\n",
            "Epoch 6/50\n",
            "145/145 [==============================] - 25s 171ms/step - loss: 6.8910e-04\n",
            "Epoch 7/50\n",
            "145/145 [==============================] - 18s 127ms/step - loss: 6.3579e-04\n",
            "Epoch 8/50\n",
            "145/145 [==============================] - 23s 155ms/step - loss: 6.4260e-04\n",
            "Epoch 9/50\n",
            "145/145 [==============================] - 17s 120ms/step - loss: 5.4586e-04\n",
            "Epoch 10/50\n",
            "145/145 [==============================] - 24s 163ms/step - loss: 5.9752e-04\n",
            "Epoch 11/50\n",
            "145/145 [==============================] - 18s 126ms/step - loss: 5.7475e-04\n",
            "Epoch 12/50\n",
            "145/145 [==============================] - 20s 140ms/step - loss: 5.2995e-04\n",
            "Epoch 13/50\n",
            "145/145 [==============================] - 19s 132ms/step - loss: 5.4156e-04\n",
            "Epoch 14/50\n",
            "145/145 [==============================] - 19s 128ms/step - loss: 5.1451e-04\n",
            "Epoch 15/50\n",
            "145/145 [==============================] - 19s 132ms/step - loss: 5.1666e-04\n",
            "Epoch 16/50\n",
            "145/145 [==============================] - 18s 120ms/step - loss: 5.1215e-04\n",
            "Epoch 17/50\n",
            "145/145 [==============================] - 17s 118ms/step - loss: 4.6027e-04\n",
            "Epoch 18/50\n",
            "145/145 [==============================] - 17s 120ms/step - loss: 4.8525e-04\n",
            "Epoch 19/50\n",
            "145/145 [==============================] - 20s 138ms/step - loss: 4.5116e-04\n",
            "Epoch 20/50\n",
            "145/145 [==============================] - 18s 122ms/step - loss: 4.8667e-04\n",
            "Epoch 21/50\n",
            "145/145 [==============================] - 18s 121ms/step - loss: 4.4010e-04\n",
            "Epoch 22/50\n",
            "145/145 [==============================] - 18s 123ms/step - loss: 4.5838e-04\n",
            "Epoch 23/50\n",
            "145/145 [==============================] - 19s 130ms/step - loss: 4.6055e-04\n",
            "Epoch 24/50\n",
            "145/145 [==============================] - 18s 122ms/step - loss: 4.8276e-04\n",
            "Epoch 25/50\n",
            "145/145 [==============================] - 17s 120ms/step - loss: 4.1878e-04\n",
            "Epoch 26/50\n",
            "145/145 [==============================] - 18s 127ms/step - loss: 4.5087e-04\n",
            "Epoch 27/50\n",
            "145/145 [==============================] - 18s 125ms/step - loss: 4.4603e-04\n",
            "Epoch 28/50\n",
            "145/145 [==============================] - 17s 119ms/step - loss: 4.4014e-04\n",
            "Epoch 29/50\n",
            "145/145 [==============================] - 17s 120ms/step - loss: 4.1133e-04\n",
            "Epoch 30/50\n",
            "145/145 [==============================] - 19s 134ms/step - loss: 4.3100e-04\n",
            "Epoch 31/50\n",
            "145/145 [==============================] - 18s 124ms/step - loss: 4.0885e-04\n",
            "Epoch 32/50\n",
            "145/145 [==============================] - 18s 123ms/step - loss: 4.1997e-04\n",
            "Epoch 33/50\n",
            "145/145 [==============================] - 18s 126ms/step - loss: 4.3153e-04\n",
            "Epoch 34/50\n",
            "145/145 [==============================] - 19s 130ms/step - loss: 4.1108e-04\n",
            "Epoch 35/50\n",
            "145/145 [==============================] - 17s 120ms/step - loss: 4.3155e-04\n",
            "Epoch 36/50\n",
            "145/145 [==============================] - 17s 119ms/step - loss: 4.1006e-04\n",
            "Epoch 37/50\n",
            "145/145 [==============================] - 19s 130ms/step - loss: 3.9842e-04\n",
            "Epoch 38/50\n",
            "145/145 [==============================] - 18s 123ms/step - loss: 4.0004e-04\n",
            "Epoch 39/50\n",
            "145/145 [==============================] - 18s 121ms/step - loss: 4.0511e-04\n",
            "Epoch 40/50\n",
            "145/145 [==============================] - 18s 122ms/step - loss: 3.8644e-04\n",
            "Epoch 41/50\n",
            "145/145 [==============================] - 20s 136ms/step - loss: 4.0448e-04\n",
            "Epoch 42/50\n",
            "145/145 [==============================] - 18s 123ms/step - loss: 4.3141e-04\n",
            "Epoch 43/50\n",
            "145/145 [==============================] - 18s 122ms/step - loss: 4.0603e-04\n",
            "Epoch 44/50\n",
            "145/145 [==============================] - 18s 126ms/step - loss: 3.7241e-04\n",
            "Epoch 45/50\n",
            "145/145 [==============================] - 19s 128ms/step - loss: 3.8943e-04\n",
            "Epoch 46/50\n",
            "145/145 [==============================] - 17s 120ms/step - loss: 3.7890e-04\n",
            "Epoch 47/50\n",
            "145/145 [==============================] - 18s 123ms/step - loss: 3.8559e-04\n",
            "Epoch 48/50\n",
            "145/145 [==============================] - 19s 133ms/step - loss: 3.6373e-04\n",
            "Epoch 49/50\n",
            "145/145 [==============================] - 18s 122ms/step - loss: 3.9267e-04\n",
            "Epoch 50/50\n",
            "145/145 [==============================] - 18s 122ms/step - loss: 3.9027e-04\n"
          ]
        },
        {
          "output_type": "execute_result",
          "data": {
            "text/plain": [
              "<keras.src.callbacks.History at 0x784fd673dcc0>"
            ]
          },
          "metadata": {},
          "execution_count": 10
        }
      ]
    },
    {
      "cell_type": "code",
      "source": [
        "inputs=data[len(data)-len(close_test)-timestep:]\n",
        "inputs=inputs.values.reshape(-1,1)\n",
        "inputs=scaler.transform(inputs)"
      ],
      "metadata": {
        "id": "XWJIGAQS8Jlc"
      },
      "execution_count": null,
      "outputs": []
    },
    {
      "cell_type": "code",
      "source": [
        "x_test=[]\n",
        "for i in range(timestep,inputs.shape[0]):\n",
        "    x_test.append(inputs[i-timestep:i,0])\n",
        "x_test=np.array(x_test)\n",
        "x_test=x_test.reshape(x_test.shape[0],x_test.shape[1],1)"
      ],
      "metadata": {
        "id": "CRizVBWV8JiU"
      },
      "execution_count": null,
      "outputs": []
    },
    {
      "cell_type": "code",
      "source": [
        "predicted_data=modell.predict(x_test)\n",
        "predicted_data=scaler.inverse_transform(predicted_data)"
      ],
      "metadata": {
        "colab": {
          "base_uri": "https://localhost:8080/"
        },
        "id": "Nd9slEpgA_Xg",
        "outputId": "bde8c7c3-03a3-44bf-b3f1-36ccaaaec914"
      },
      "execution_count": null,
      "outputs": [
        {
          "output_type": "stream",
          "name": "stdout",
          "text": [
            "2/2 [==============================] - 1s 29ms/step\n"
          ]
        }
      ]
    },
    {
      "cell_type": "code",
      "source": [
        "data_test=np.array(close_test)\n",
        "data_test=data_test.reshape(len(data_test),1)"
      ],
      "metadata": {
        "id": "oQFUeEV2BCog"
      },
      "execution_count": null,
      "outputs": []
    },
    {
      "cell_type": "code",
      "source": [
        "plt.figure(figsize=(8,4), dpi=80, facecolor='w', edgecolor='k')\n",
        "plt.plot(data_test,color=\"r\",label=\"true-result\")\n",
        "plt.plot(predicted_data,color=\"g\",label=\"predicted-result\")\n",
        "plt.legend()\n",
        "plt.title(\"LSTM\")\n",
        "plt.xlabel(\"Time(60 days)\")\n",
        "plt.ylabel(\"Close Values\")\n",
        "plt.grid(True)\n",
        "plt.show()"
      ],
      "metadata": {
        "colab": {
          "base_uri": "https://localhost:8080/",
          "height": 328
        },
        "id": "P8Lwuv6QBFPW",
        "outputId": "541c8421-2771-4486-cd13-da8bbee646ab"
      },
      "execution_count": null,
      "outputs": [
        {
          "output_type": "display_data",
          "data": {
            "text/plain": [
              "<Figure size 640x320 with 1 Axes>"
            ],
            "image/png": "[encoded data removed]"
          },
          "metadata": {}
        }
      ]
    },
    {
      "cell_type": "markdown",
      "source": [
        "# Pytorch Fundamentals\n"
      ],
      "metadata": {
        "id": "bzuOSScS7LG_"
      }
    },
    {
      "cell_type": "code",
      "source": [],
      "metadata": {
        "id": "mnwkT7EI7JBa"
      },
      "execution_count": null,
      "outputs": []
    },
    {
      "cell_type": "markdown",
      "metadata": {
        "id": "5v3iRCRUTGeu"
      },
      "source": [
        "## Importing PyTorch\n",
        "\n",
        "> **Note:** Before running any of the code in this notebook, you should have gone through the [PyTorch setup steps](https://pytorch.org/get-started/locally/).\n",
        ">\n",
        "> However, **if you're running on Google Colab**, everything should work (Google Colab comes with PyTorch and other libraries installed).\n",
        "\n",
        "Let's start by importing PyTorch and checking the version we're using."
      ]
    },
    {
      "cell_type": "code",
      "source": [
        "import torch\n",
        "torch.__version__"
      ],
      "metadata": {
        "colab": {
          "base_uri": "https://localhost:8080/",
          "height": 35
        },
        "id": "x10bFxYi8VIw",
        "outputId": "8e348ab7-7911-4748-81fa-8b7c6143bf78"
      },
      "execution_count": null,
      "outputs": [
        {
          "output_type": "execute_result",
          "data": {
            "text/plain": [
              "'2.2.1+cu121'"
            ],
            "application/vnd.google.colaboratory.intrinsic+json": {
              "type": "string"
            }
          },
          "metadata": {},
          "execution_count": 2
        }
      ]
    },
    {
      "cell_type": "markdown",
      "metadata": {
        "id": "i-33BKR16iWc"
      },
      "source": [
        "## Introduction to tensors\n",
        "\n",
        "Now we've got PyTorch imported, it's time to learn about tensors.\n",
        "\n",
        "Tensors are the fundamental building block of machine learning.\n",
        "\n",
        "Their job is to represent data in a numerical way.\n",
        "\n",
        "For example, you could represent an image as a tensor with shape `[3, 224, 224]` which would mean `[colour_channels, height, width]`, as in the image has `3` colour channels (red, green, blue), a height of `224` pixels and a width of `224` pixels.\n",
        "\n",
        "![example of going from an input image to a tensor representation of the image, image gets broken down into 3 colour channels as well as numbers to represent the height and width](https://raw.githubusercontent.com/mrdbourke/pytorch-deep-learning/main/images/00-tensor-shape-example-of-image.png)\n",
        "\n",
        "In tensor-speak (the language used to describe tensors), the tensor would have three dimensions, one for `colour_channels`, `height` and `width`.\n",
        "\n",
        "But we're getting ahead of ourselves.\n",
        "\n",
        "Let's learn more about tensors by coding them.\n"
      ]
    },
    {
      "cell_type": "markdown",
      "metadata": {
        "id": "gFF0N2TU7S7Q"
      },
      "source": [
        "### Creating tensors\n",
        "\n",
        "PyTorch loves tensors. So much so there's a whole documentation page dedicated to the [`torch.Tensor`](https://pytorch.org/docs/stable/tensors.html) class.\n",
        "\n",
        "Your first piece of homework is to [read through the documentation on `torch.Tensor`](https://pytorch.org/docs/stable/tensors.html) for 10-minutes. But you can get to that later.\n",
        "\n",
        "Let's code.\n",
        "\n",
        "The first thing we're going to create is a **scalar**.\n",
        "\n",
        "A scalar is a single number and in tensor-speak it's a zero dimension tensor.\n",
        "\n",
        "> **Note:** That's a trend for this course. We'll focus on writing specific code. But often I'll set exercises which involve reading and getting familiar with the PyTorch documentation. Because after all, once you're finished this course, you'll no doubt want to learn more. And the documentation is somewhere you'll be finding yourself quite often."
      ]
    },
    {
      "cell_type": "code",
      "execution_count": null,
      "metadata": {
        "colab": {
          "base_uri": "https://localhost:8080/"
        },
        "id": "YUDgG2zk7Us5",
        "outputId": "8b125e2f-117d-40fe-ed64-f03ff9770fa6"
      },
      "outputs": [
        {
          "output_type": "execute_result",
          "data": {
            "text/plain": [
              "tensor(7)"
            ]
          },
          "metadata": {},
          "execution_count": 3
        }
      ],
      "source": [
        "# Scalar\n",
        "scalar = torch.tensor(7)\n",
        "scalar"
      ]
    },
    {
      "cell_type": "markdown",
      "metadata": {
        "id": "JqSuhW7rTGey"
      },
      "source": [
        "See how the above printed out `tensor(7)`?\n",
        "\n",
        "That means although `scalar` is a single number, it's of type `torch.Tensor`.\n",
        "\n",
        "We can check the dimensions of a tensor using the `ndim` attribute."
      ]
    },
    {
      "cell_type": "code",
      "execution_count": null,
      "metadata": {
        "colab": {
          "base_uri": "https://localhost:8080/"
        },
        "id": "lV98Yz868bav",
        "outputId": "b7aeb11c-2292-47b0-ceb9-d48f0907c5ae"
      },
      "outputs": [
        {
          "output_type": "execute_result",
          "data": {
            "text/plain": [
              "0"
            ]
          },
          "metadata": {},
          "execution_count": 4
        }
      ],
      "source": [
        "scalar.ndim"
      ]
    },
    {
      "cell_type": "markdown",
      "metadata": {
        "id": "ZO2YW_QGTGez"
      },
      "source": [
        "What if we wanted to retrieve the number from the tensor?\n",
        "\n",
        "As in, turn it from `torch.Tensor` to a Python integer?\n",
        "\n",
        "To do we can use the `item()` method."
      ]
    },
    {
      "cell_type": "code",
      "execution_count": null,
      "metadata": {
        "colab": {
          "base_uri": "https://localhost:8080/"
        },
        "id": "-k4cyKumPfbE",
        "outputId": "1f6a7916-0c7c-403f-8ebd-875454a94470"
      },
      "outputs": [
        {
          "data": {
            "text/plain": [
              "7"
            ]
          },
          "execution_count": 4,
          "metadata": {},
          "output_type": "execute_result"
        }
      ],
      "source": [
        "# Get the Python number within a tensor (only works with one-element tensors)\n",
        "scalar.item()"
      ]
    },
    {
      "cell_type": "markdown",
      "metadata": {
        "id": "qYs7ulrATGe0"
      },
      "source": [
        "Okay, now let's see a **vector**.\n",
        "\n",
        "A vector is a single dimension tensor but can contain many numbers.\n",
        "\n",
        "As in, you could have a vector `[3, 2]` to describe `[bedrooms, bathrooms]` in your house. Or you could have `[3, 2, 2]` to describe `[bedrooms, bathrooms, car_parks]` in your house.\n",
        "\n",
        "The important trend here is that a vector is flexible in what it can represent (the same with tensors)."
      ]
    },
    {
      "cell_type": "code",
      "execution_count": null,
      "metadata": {
        "colab": {
          "base_uri": "https://localhost:8080/"
        },
        "id": "-IZF6ASs8QH9",
        "outputId": "e556ed2a-e58a-440f-b103-0f06c91bc75c"
      },
      "outputs": [
        {
          "data": {
            "text/plain": [
              "tensor([7, 7])"
            ]
          },
          "execution_count": 5,
          "metadata": {},
          "output_type": "execute_result"
        }
      ],
      "source": [
        "# Vector\n",
        "vector = torch.tensor([7, 7])\n",
        "vector"
      ]
    },
    {
      "cell_type": "markdown",
      "metadata": {
        "id": "mXxRUUW2TGe1"
      },
      "source": [
        "Wonderful, `vector` now contains two 7's, my favourite number.\n",
        "\n",
        "How many dimensions do you think it'll have?"
      ]
    },
    {
      "cell_type": "code",
      "execution_count": null,
      "metadata": {
        "colab": {
          "base_uri": "https://localhost:8080/"
        },
        "id": "03hm3VVv8kr4",
        "outputId": "2035bb26-0189-4b28-fa02-34220d44677f"
      },
      "outputs": [
        {
          "data": {
            "text/plain": [
              "1"
            ]
          },
          "execution_count": 6,
          "metadata": {},
          "output_type": "execute_result"
        }
      ],
      "source": [
        "# Check the number of dimensions of vector\n",
        "vector.ndim"
      ]
    },
    {
      "cell_type": "markdown",
      "metadata": {
        "id": "W0VYvSGbTGe1"
      },
      "source": [
        "Hmm, that's strange, `vector` contains two numbers but only has a single dimension.\n",
        "\n",
        "I'll let you in on a trick.\n",
        "\n",
        "You can tell the number of dimensions a tensor in PyTorch has by the number of square brackets on the outside (`[`) and you only need to count one side.\n",
        "\n",
        "How many square brackets does `vector` have?\n",
        "\n",
        "Another important concept for tensors is their `shape` attribute. The shape tells you how the elements inside them are arranged.\n",
        "\n",
        "Let's check out the shape of `vector`."
      ]
    },
    {
      "cell_type": "code",
      "execution_count": null,
      "metadata": {
        "colab": {
          "base_uri": "https://localhost:8080/"
        },
        "id": "6zREV1bDTGe2",
        "outputId": "2a6e7ceb-7eb2-422b-b006-2c6e4825272f"
      },
      "outputs": [
        {
          "data": {
            "text/plain": [
              "torch.Size([2])"
            ]
          },
          "execution_count": 7,
          "metadata": {},
          "output_type": "execute_result"
        }
      ],
      "source": [
        "# Check shape of vector\n",
        "vector.shape"
      ]
    },
    {
      "cell_type": "markdown",
      "metadata": {
        "id": "9aWKppNyTGe2"
      },
      "source": [
        "The above returns `torch.Size([2])` which means our vector has a shape of `[2]`. This is because of the two elements we placed inside the square brackets (`[7, 7]`).\n",
        "\n",
        "Let's now see a **matrix**."
      ]
    },
    {
      "cell_type": "code",
      "execution_count": null,
      "metadata": {
        "colab": {
          "base_uri": "https://localhost:8080/"
        },
        "id": "D5iNwCYL8QO9",
        "outputId": "88fc63a7-4130-4c7a-a574-c61e85d2e99e"
      },
      "outputs": [
        {
          "data": {
            "text/plain": [
              "tensor([[ 7,  8],\n",
              "        [ 9, 10]])"
            ]
          },
          "execution_count": 8,
          "metadata": {},
          "output_type": "execute_result"
        }
      ],
      "source": [
        "# Matrix\n",
        "MATRIX = torch.tensor([[7, 8],\n",
        "                       [9, 10]])\n",
        "MATRIX"
      ]
    },
    {
      "cell_type": "markdown",
      "metadata": {
        "id": "a3U1bCdjTGe3"
      },
      "source": [
        "Wow! More numbers! Matrices are as flexible as vectors, except they've got an extra dimension.\n",
        "\n"
      ]
    },
    {
      "cell_type": "code",
      "execution_count": null,
      "metadata": {
        "colab": {
          "base_uri": "https://localhost:8080/"
        },
        "id": "8LREUbeb8r8j",
        "outputId": "636246b0-b109-472a-c6d5-8601a9e08654"
      },
      "outputs": [
        {
          "data": {
            "text/plain": [
              "2"
            ]
          },
          "execution_count": 9,
          "metadata": {},
          "output_type": "execute_result"
        }
      ],
      "source": [
        "# Check number of dimensions\n",
        "MATRIX.ndim"
      ]
    },
    {
      "cell_type": "markdown",
      "metadata": {
        "id": "LhXXgq-dTGe3"
      },
      "source": [
        "`MATRIX` has two dimensions (did you count the number of square brakcets on the outside of one side?).\n",
        "\n",
        "What `shape` do you think it will have?"
      ]
    },
    {
      "cell_type": "code",
      "execution_count": null,
      "metadata": {
        "colab": {
          "base_uri": "https://localhost:8080/"
        },
        "id": "_TL26I31TGe3",
        "outputId": "f05ec0b6-0bc1-4381-9474-56cbe6c67139"
      },
      "outputs": [
        {
          "data": {
            "text/plain": [
              "torch.Size([2, 2])"
            ]
          },
          "execution_count": 10,
          "metadata": {},
          "output_type": "execute_result"
        }
      ],
      "source": [
        "MATRIX.shape"
      ]
    },
    {
      "cell_type": "markdown",
      "metadata": {
        "id": "dvLpUvrKTGe4"
      },
      "source": [
        "We get the output `torch.Size([2, 2])` because `MATRIX` is two elements deep and two elements wide.\n",
        "\n",
        "How about we create a **tensor**?"
      ]
    },
    {
      "cell_type": "code",
      "execution_count": null,
      "metadata": {
        "colab": {
          "base_uri": "https://localhost:8080/"
        },
        "id": "wEMDQr188QWW",
        "outputId": "4230e6bd-1844-4210-eea8-245bb8b8b265"
      },
      "outputs": [
        {
          "data": {
            "text/plain": [
              "tensor([[[1, 2, 3],\n",
              "         [3, 6, 9],\n",
              "         [2, 4, 5]]])"
            ]
          },
          "execution_count": 11,
          "metadata": {},
          "output_type": "execute_result"
        }
      ],
      "source": [
        "# Tensor\n",
        "TENSOR = torch.tensor([[[1, 2, 3],\n",
        "                        [3, 6, 9],\n",
        "                        [2, 4, 5]]])\n",
        "TENSOR"
      ]
    },
    {
      "cell_type": "markdown",
      "metadata": {
        "id": "UmJKkXD7TGe4"
      },
      "source": [
        "Woah! What a nice looking tensor.\n",
        "\n",
        "I want to stress that tensors can represent almost anything.\n",
        "\n",
        "The one we just created could be the sales numbers for a steak and almond butter store (two of my favourite foods).\n",
        "\n",
        "![a simple tensor in google sheets showing day of week, steak sales and almond butter sales](https://raw.githubusercontent.com/mrdbourke/pytorch-deep-learning/main/images/00_simple_tensor.png)\n",
        "\n",
        "How many dimensions do you think it has? (hint: use the square bracket counting trick)"
      ]
    },
    {
      "cell_type": "code",
      "execution_count": null,
      "metadata": {
        "colab": {
          "base_uri": "https://localhost:8080/"
        },
        "id": "8dhuEsjS8QcT",
        "outputId": "7a45df1b-fc32-4cc5-e330-527c6ef7ba5d"
      },
      "outputs": [
        {
          "data": {
            "text/plain": [
              "3"
            ]
          },
          "execution_count": 12,
          "metadata": {},
          "output_type": "execute_result"
        }
      ],
      "source": [
        "# Check number of dimensions for TENSOR\n",
        "TENSOR.ndim"
      ]
    },
    {
      "cell_type": "markdown",
      "metadata": {
        "id": "ln9dys5VTGe4"
      },
      "source": [
        "And what about its shape?"
      ]
    },
    {
      "cell_type": "code",
      "execution_count": null,
      "metadata": {
        "colab": {
          "base_uri": "https://localhost:8080/"
        },
        "id": "hdVv4iNRTGe5",
        "outputId": "d8ac706c-020b-4926-b145-d44e41f35e90"
      },
      "outputs": [
        {
          "data": {
            "text/plain": [
              "torch.Size([1, 3, 3])"
            ]
          },
          "execution_count": 13,
          "metadata": {},
          "output_type": "execute_result"
        }
      ],
      "source": [
        "# Check shape of TENSOR\n",
        "TENSOR.shape"
      ]
    },
    {
      "cell_type": "markdown",
      "metadata": {
        "id": "zxk8GU7oTGe5"
      },
      "source": [
        "Alright, it outputs `torch.Size([1, 3, 3])`.\n",
        "\n",
        "The dimensions go outer to inner.\n",
        "\n",
        "That means there's 1 dimension of 3 by 3.\n",
        "\n",
        "![example of different tensor dimensions](https://raw.githubusercontent.com/mrdbourke/pytorch-deep-learning/main/images/00-pytorch-different-tensor-dimensions.png)\n",
        "\n",
        "> **Note:** You might've noticed me using lowercase letters for `scalar` and `vector` and uppercase letters for `MATRIX` and `TENSOR`. This was on purpose. In practice, you'll often see scalars and vectors denoted as lowercase letters such as `y` or `a`. And matrices and tensors denoted as uppercase letters such as `X` or `W`.\n",
        ">\n",
        "> You also might notice the names martrix and tensor used interchangably. This is common. Since in PyTorch you're often dealing with `torch.Tensor`s (hence the tensor name), however, the shape and dimensions of what's inside will dictate what it actually is.\n",
        "\n",
        "Let's summarise.\n",
        "\n",
        "| Name | What is it? | Number of dimensions | Lower or upper (usually/example) |\n",
        "| ----- | ----- | ----- | ----- |\n",
        "| **scalar** | a single number | 0 | Lower (`a`) |\n",
        "| **vector** | a number with direction (e.g. wind speed with direction) but can also have many other numbers | 1 | Lower (`y`) |\n",
        "| **matrix** | a 2-dimensional array of numbers | 2 | Upper (`Q`) |\n",
        "| **tensor** | an n-dimensional array of numbers | can be any number, a 0-dimension tensor is a scalar, a 1-dimension tensor is a vector | Upper (`X`) |\n",
        "\n",
        "![scalar vector matrix tensor and what they look like](https://raw.githubusercontent.com/mrdbourke/pytorch-deep-learning/main/images/00-scalar-vector-matrix-tensor.png)"
      ]
    },
    {
      "cell_type": "markdown",
      "metadata": {
        "id": "dms7G4nkTGe5"
      },
      "source": [
        "### Random tensors\n",
        "\n",
        "We've established tensors represent some form of data.\n",
        "\n",
        "And machine learning models such as neural networks manipulate and seek patterns within tensors.\n",
        "\n",
        "But when building machine learning models with PyTorch, it's rare you'll create tensors by hand (like what we've being doing).\n",
        "\n",
        "Instead, a machine learning model often starts out with large random tensors of numbers and adjusts these random numbers as it works through data to better represent it.\n",
        "\n",
        "In essence:\n",
        "\n",
        "`Start with random numbers -> look at data -> update random numbers -> look at data -> update random numbers...`\n",
        "\n",
        "As a data scientist, you can define how the machine learning model starts (initialization), looks at data (representation) and updates (optimization) its random numbers.\n",
        "\n",
        "We'll get hands on with these steps later on.\n",
        "\n",
        "For now, let's see how to create a tensor of random numbers.\n",
        "\n",
        "We can do so using [`torch.rand()`](https://pytorch.org/docs/stable/generated/torch.rand.html) and passing in the `size` parameter."
      ]
    },
    {
      "cell_type": "code",
      "execution_count": null,
      "metadata": {
        "colab": {
          "base_uri": "https://localhost:8080/"
        },
        "id": "EOJEtDx--GnK",
        "outputId": "2680d44b-e31c-4ab1-d5b1-c0cd76706a0d"
      },
      "outputs": [
        {
          "data": {
            "text/plain": [
              "(tensor([[0.6541, 0.4807, 0.2162, 0.6168],\n",
              "         [0.4428, 0.6608, 0.6194, 0.8620],\n",
              "         [0.2795, 0.6055, 0.4958, 0.5483]]),\n",
              " torch.float32)"
            ]
          },
          "execution_count": 14,
          "metadata": {},
          "output_type": "execute_result"
        }
      ],
      "source": [
        "# Create a random tensor of size (3, 4)\n",
        "random_tensor = torch.rand(size=(3, 4))\n",
        "random_tensor, random_tensor.dtype"
      ]
    },
    {
      "cell_type": "markdown",
      "metadata": {
        "id": "-wB1c_cXTGe5"
      },
      "source": [
        "The flexibility of `torch.rand()` is that we can adjust the `size` to be whatever we want.\n",
        "\n",
        "For example, say you wanted a random tensor in the common image shape of `[224, 224, 3]` (`[height, width, color_channels`])."
      ]
    },
    {
      "cell_type": "code",
      "execution_count": null,
      "metadata": {
        "colab": {
          "base_uri": "https://localhost:8080/"
        },
        "id": "xMF_NUp3Ym__",
        "outputId": "8346b853-0b1e-481a-d9ee-a410ee21bab0"
      },
      "outputs": [
        {
          "data": {
            "text/plain": [
              "(torch.Size([224, 224, 3]), 3)"
            ]
          },
          "execution_count": 15,
          "metadata": {},
          "output_type": "execute_result"
        }
      ],
      "source": [
        "# Create a random tensor of size (224, 224, 3)\n",
        "random_image_size_tensor = torch.rand(size=(224, 224, 3))\n",
        "random_image_size_tensor.shape, random_image_size_tensor.ndim"
      ]
    },
    {
      "cell_type": "markdown",
      "metadata": {
        "id": "0MQNTY0eTGe6"
      },
      "source": [
        "### Zeros and ones\n",
        "\n",
        "Sometimes you'll just want to fill tensors with zeros or ones.\n",
        "\n",
        "This happens a lot with masking (like masking some of the values in one tensor with zeros to let a model know not to learn them).\n",
        "\n",
        "Let's create a tensor full of zeros with [`torch.zeros()`](https://pytorch.org/docs/stable/generated/torch.zeros.html)\n",
        "\n",
        "Again, the `size` parameter comes into play."
      ]
    },
    {
      "cell_type": "code",
      "execution_count": null,
      "metadata": {
        "colab": {
          "base_uri": "https://localhost:8080/"
        },
        "id": "oCzhd0hl9Vp6",
        "outputId": "9c8ec87f-d8c9-4751-a13e-6a5e986daaa9"
      },
      "outputs": [
        {
          "data": {
            "text/plain": [
              "(tensor([[0., 0., 0., 0.],\n",
              "         [0., 0., 0., 0.],\n",
              "         [0., 0., 0., 0.]]),\n",
              " torch.float32)"
            ]
          },
          "execution_count": 16,
          "metadata": {},
          "output_type": "execute_result"
        }
      ],
      "source": [
        "# Create a tensor of all zeros\n",
        "zeros = torch.zeros(size=(3, 4))\n",
        "zeros, zeros.dtype"
      ]
    },
    {
      "cell_type": "markdown",
      "metadata": {
        "id": "WDQBZJRUZWTN"
      },
      "source": [
        "We can do the same to create a tensor of all ones except using [`torch.ones()` ](https://pytorch.org/docs/stable/generated/torch.ones.html) instead."
      ]
    },
    {
      "cell_type": "code",
      "execution_count": null,
      "metadata": {
        "colab": {
          "base_uri": "https://localhost:8080/"
        },
        "id": "HRe6sSXiTGe6",
        "outputId": "3f45b0b8-7f65-423d-c664-f5b5f7866fd2"
      },
      "outputs": [
        {
          "data": {
            "text/plain": [
              "(tensor([[1., 1., 1., 1.],\n",
              "         [1., 1., 1., 1.],\n",
              "         [1., 1., 1., 1.]]),\n",
              " torch.float32)"
            ]
          },
          "execution_count": 17,
          "metadata": {},
          "output_type": "execute_result"
        }
      ],
      "source": [
        "# Create a tensor of all ones\n",
        "ones = torch.ones(size=(3, 4))\n",
        "ones, ones.dtype"
      ]
    },
    {
      "cell_type": "markdown",
      "metadata": {
        "id": "hib1NYrSarL2"
      },
      "source": [
        "### Creating a range and tensors like\n",
        "\n",
        "Sometimes you might want a range of numbers, such as 1 to 10 or 0 to 100.\n",
        "\n",
        "You can use `torch.arange(start, end, step)` to do so.\n",
        "\n",
        "Where:\n",
        "* `start` = start of range (e.g. 0)\n",
        "* `end` = end of range (e.g. 10)\n",
        "* `step` = how many steps in between each value (e.g. 1)\n",
        "\n",
        "> **Note:** In Python, you can use `range()` to create a range. However in PyTorch, `torch.range()` is deprecated and may show an error in the future."
      ]
    },
    {
      "cell_type": "code",
      "execution_count": null,
      "metadata": {
        "colab": {
          "base_uri": "https://localhost:8080/"
        },
        "id": "1IqUs81d9W4W",
        "outputId": "2a6f0c08-052e-4b36-b4eb-6a537239026f"
      },
      "outputs": [
        {
          "name": "stderr",
          "output_type": "stream",
          "text": [
            "/tmp/ipykernel_3695928/193451495.py:2: UserWarning: torch.range is deprecated and will be removed in a future release because its behavior is inconsistent with Python's range builtin. Instead, use torch.arange, which produces values in [start, end).\n",
            "  zero_to_ten_deprecated = torch.range(0, 10) # Note: this may return an error in the future\n"
          ]
        },
        {
          "data": {
            "text/plain": [
              "tensor([0, 1, 2, 3, 4, 5, 6, 7, 8, 9])"
            ]
          },
          "execution_count": 18,
          "metadata": {},
          "output_type": "execute_result"
        }
      ],
      "source": [
        "# Use torch.arange(), torch.range() is deprecated\n",
        "zero_to_ten_deprecated = torch.range(0, 10) # Note: this may return an error in the future\n",
        "\n",
        "# Create a range of values 0 to 10\n",
        "zero_to_ten = torch.arange(start=0, end=10, step=1)\n",
        "zero_to_ten"
      ]
    },
    {
      "cell_type": "markdown",
      "metadata": {
        "id": "i-bXf0Ugbh-D"
      },
      "source": [
        "Sometimes you might want one tensor of a certain type with the same shape as another tensor.\n",
        "\n",
        "For example, a tensor of all zeros with the same shape as a previous tensor.\n",
        "\n",
        "To do so you can use [`torch.zeros_like(input)`](https://pytorch.org/docs/stable/generated/torch.zeros_like.html) or [`torch.ones_like(input)`](https://pytorch.org/docs/1.9.1/generated/torch.ones_like.html) which return a tensor filled with zeros or ones in the same shape as the `input` respectively."
      ]
    },
    {
      "cell_type": "code",
      "execution_count": null,
      "metadata": {
        "colab": {
          "base_uri": "https://localhost:8080/"
        },
        "id": "ZvXwUut5BhHq",
        "outputId": "096b2f8e-8c21-4ace-97b9-c36b92b2fe77"
      },
      "outputs": [
        {
          "data": {
            "text/plain": [
              "tensor([0, 0, 0, 0, 0, 0, 0, 0, 0, 0])"
            ]
          },
          "execution_count": 19,
          "metadata": {},
          "output_type": "execute_result"
        }
      ],
      "source": [
        "# Can also create a tensor of zeros similar to another tensor\n",
        "ten_zeros = torch.zeros_like(input=zero_to_ten) # will have same shape\n",
        "ten_zeros"
      ]
    },
    {
      "cell_type": "markdown",
      "metadata": {
        "id": "huKZ6QlYTGe7"
      },
      "source": [
        "### Tensor datatypes\n",
        "\n",
        "There are many different [tensor datatypes available in PyTorch](https://pytorch.org/docs/stable/tensors.html#data-types).\n",
        "\n",
        "Some are specific for CPU and some are better for GPU.\n",
        "\n",
        "Getting to know which is which can take some time.\n",
        "\n",
        "Generally if you see `torch.cuda` anywhere, the tensor is being used for GPU (since Nvidia GPUs use a computing toolkit called CUDA).\n",
        "\n",
        "The most common type (and generally the default) is `torch.float32` or `torch.float`.\n",
        "\n",
        "This is referred to as \"32-bit floating point\".\n",
        "\n",
        "But there's also 16-bit floating point (`torch.float16` or `torch.half`) and 64-bit floating point (`torch.float64` or `torch.double`).\n",
        "\n",
        "And to confuse things even more there's also 8-bit, 16-bit, 32-bit and 64-bit integers.\n",
        "\n",
        "Plus more!\n",
        "\n",
        "> **Note:** An integer is a flat round number like `7` whereas a float has a decimal `7.0`.\n",
        "\n",
        "The reason for all of these is to do with **precision in computing**.\n",
        "\n",
        "Precision is the amount of detail used to describe a number.\n",
        "\n",
        "The higher the precision value (8, 16, 32), the more detail and hence data used to express a number.\n",
        "\n",
        "This matters in deep learning and numerical computing because you're making so many operations, the more detail you have to calculate on, the more compute you have to use.\n",
        "\n",
        "So lower precision datatypes are generally faster to compute on but sacrifice some performance on evaluation metrics like accuracy (faster to compute but less accurate).\n",
        "\n",
        "> **Resources:**\n",
        "  * See the [PyTorch documentation for a list of all available tensor datatypes](https://pytorch.org/docs/stable/tensors.html#data-types).\n",
        "  * Read the [Wikipedia page for an overview of what precision in computing](https://en.wikipedia.org/wiki/Precision_(computer_science)) is.\n",
        "\n",
        "Let's see how to create some tensors with specific datatypes. We can do so using the `dtype` parameter."
      ]
    },
    {
      "cell_type": "code",
      "execution_count": null,
      "metadata": {
        "colab": {
          "base_uri": "https://localhost:8080/"
        },
        "id": "q3MoGnpw9XaF",
        "outputId": "61070939-8c52-4ac6-bed7-e64b3ce24615"
      },
      "outputs": [
        {
          "data": {
            "text/plain": [
              "(torch.Size([3]), torch.float32, device(type='cpu'))"
            ]
          },
          "execution_count": 20,
          "metadata": {},
          "output_type": "execute_result"
        }
      ],
      "source": [
        "# Default datatype for tensors is float32\n",
        "float_32_tensor = torch.tensor([3.0, 6.0, 9.0],\n",
        "                               dtype=None, # defaults to None, which is torch.float32 or whatever datatype is passed\n",
        "                               device=None, # defaults to None, which uses the default tensor type\n",
        "                               requires_grad=False) # if True, operations performed on the tensor are recorded\n",
        "\n",
        "float_32_tensor.shape, float_32_tensor.dtype, float_32_tensor.device"
      ]
    },
    {
      "cell_type": "markdown",
      "metadata": {
        "id": "MhP8kzDfe_ty"
      },
      "source": [
        "Aside from shape issues (tensor shapes don't match up), two of the other most common issues you'll come across in PyTorch are datatype and device issues.\n",
        "\n",
        "For example, one of tensors is `torch.float32` and the other is `torch.float16` (PyTorch often likes tensors to be the same format).\n",
        "\n",
        "Or one of your tensors is on the CPU and the other is on the GPU (PyTorch likes calculations between tensors to be on the same device).\n",
        "\n",
        "We'll see more of this device talk later on.\n",
        "\n",
        "For now let's create a tensor with `dtype=torch.float16`."
      ]
    },
    {
      "cell_type": "code",
      "execution_count": null,
      "metadata": {
        "colab": {
          "base_uri": "https://localhost:8080/"
        },
        "id": "PKSuajld_09s",
        "outputId": "cbac29d9-3371-4fe1-b47c-3af4623b5fbf"
      },
      "outputs": [
        {
          "data": {
            "text/plain": [
              "torch.float16"
            ]
          },
          "execution_count": 21,
          "metadata": {},
          "output_type": "execute_result"
        }
      ],
      "source": [
        "float_16_tensor = torch.tensor([3.0, 6.0, 9.0],\n",
        "                               dtype=torch.float16) # torch.half would also work\n",
        "\n",
        "float_16_tensor.dtype"
      ]
    },
    {
      "cell_type": "markdown",
      "metadata": {
        "id": "gUjkB2AX7Upz"
      },
      "source": [
        "## Getting information from tensors\n",
        "\n",
        "Once you've created tensors (or someone else or a PyTorch module has created them for you), you might want to get some information from them.\n",
        "\n",
        "We've seen these before but three of the most common attributes you'll want to find out about tensors are:\n",
        "* `shape` - what shape is the tensor? (some operations require specific shape rules)\n",
        "* `dtype` - what datatype are the elements within the tensor stored in?\n",
        "* `device` - what device is the tensor stored on? (usually GPU or CPU)\n",
        "\n",
        "Let's create a random tensor and find out details about it."
      ]
    },
    {
      "cell_type": "code",
      "execution_count": null,
      "metadata": {
        "colab": {
          "base_uri": "https://localhost:8080/"
        },
        "id": "hd_X4D0j7Umq",
        "outputId": "86045713-ab36-4c8e-840c-e788f80c5266"
      },
      "outputs": [
        {
          "name": "stdout",
          "output_type": "stream",
          "text": [
            "tensor([[0.4688, 0.0055, 0.8551, 0.0646],\n",
            "        [0.6538, 0.5157, 0.4071, 0.2109],\n",
            "        [0.9960, 0.3061, 0.9369, 0.7008]])\n",
            "Shape of tensor: torch.Size([3, 4])\n",
            "Datatype of tensor: torch.float32\n",
            "Device tensor is stored on: cpu\n"
          ]
        }
      ],
      "source": [
        "# Create a tensor\n",
        "some_tensor = torch.rand(3, 4)\n",
        "\n",
        "# Find out details about it\n",
        "print(some_tensor)\n",
        "print(f\"Shape of tensor: {some_tensor.shape}\")\n",
        "print(f\"Datatype of tensor: {some_tensor.dtype}\")\n",
        "print(f\"Device tensor is stored on: {some_tensor.device}\") # will default to CPU"
      ]
    },
    {
      "cell_type": "markdown",
      "metadata": {
        "id": "45K-E5uPg6cj"
      },
      "source": [
        "> **Note:** When you run into issues in PyTorch, it's very often one to do with one of the three attributes above. So when the error messages show up, sing yourself a little song called \"what, what, where\":\n",
        "  * \"*what shape are my tensors? what datatype are they and where are they stored? what shape, what datatype, where where where*\""
      ]
    },
    {
      "cell_type": "markdown",
      "metadata": {
        "id": "BdiWvoAi7UjL"
      },
      "source": [
        "## Manipulating tensors (tensor operations)\n",
        "\n",
        "In deep learning, data (images, text, video, audio, protein structures, etc) gets represented as tensors.\n",
        "\n",
        "A model learns by investigating those tensors and performing a series of operations (could be 1,000,000s+) on tensors to create a representation of the patterns in the input data.\n",
        "\n",
        "These operations are often a wonderful dance between:\n",
        "* Addition\n",
        "* Substraction\n",
        "* Multiplication (element-wise)\n",
        "* Division\n",
        "* Matrix multiplication\n",
        "\n",
        "And that's it. Sure there are a few more here and there but these are the basic building blocks of neural networks.\n",
        "\n",
        "Stacking these building blocks in the right way, you can create the most sophisticated of neural networks (just like lego!)."
      ]
    },
    {
      "cell_type": "markdown",
      "metadata": {
        "id": "Sk_6Dd7L7Uce"
      },
      "source": [
        "### Basic operations\n",
        "\n",
        "Let's start with a few of the fundamental operations, addition (`+`), subtraction (`-`), mutliplication (`*`).\n",
        "\n",
        "They work just as you think they would."
      ]
    },
    {
      "cell_type": "code",
      "execution_count": null,
      "metadata": {
        "colab": {
          "base_uri": "https://localhost:8080/"
        },
        "id": "X71WpQoPD7a4",
        "outputId": "ab30f13e-fc67-4ae4-c5ce-1006410dba07"
      },
      "outputs": [
        {
          "data": {
            "text/plain": [
              "tensor([11, 12, 13])"
            ]
          },
          "execution_count": 23,
          "metadata": {},
          "output_type": "execute_result"
        }
      ],
      "source": [
        "# Create a tensor of values and add a number to it\n",
        "tensor = torch.tensor([1, 2, 3])\n",
        "tensor + 10"
      ]
    },
    {
      "cell_type": "code",
      "execution_count": null,
      "metadata": {
        "colab": {
          "base_uri": "https://localhost:8080/"
        },
        "id": "Sp4TlTWWEFeO",
        "outputId": "ce7d2296-881f-4eb3-802e-fd12bc25d6ea"
      },
      "outputs": [
        {
          "data": {
            "text/plain": [
              "tensor([10, 20, 30])"
            ]
          },
          "execution_count": 24,
          "metadata": {},
          "output_type": "execute_result"
        }
      ],
      "source": [
        "# Multiply it by 10\n",
        "tensor * 10"
      ]
    },
    {
      "cell_type": "markdown",
      "metadata": {
        "id": "-1VEHnuRkn8Q"
      },
      "source": [
        "Notice how the tensor values above didn't end up being `tensor([110, 120, 130])`, this is because the values inside the tensor don't change unless they're reassigned."
      ]
    },
    {
      "cell_type": "code",
      "execution_count": null,
      "metadata": {
        "colab": {
          "base_uri": "https://localhost:8080/"
        },
        "id": "XuB1UjCIEJIA",
        "outputId": "57cae862-c145-4681-d74b-fe6d77f2125a"
      },
      "outputs": [
        {
          "data": {
            "text/plain": [
              "tensor([1, 2, 3])"
            ]
          },
          "execution_count": 25,
          "metadata": {},
          "output_type": "execute_result"
        }
      ],
      "source": [
        "# Tensors don't change unless reassigned\n",
        "tensor"
      ]
    },
    {
      "cell_type": "markdown",
      "metadata": {
        "id": "VYvqGpUTk1o6"
      },
      "source": [
        "Let's subtract a number and this time we'll reassign the `tensor` variable."
      ]
    },
    {
      "cell_type": "code",
      "execution_count": null,
      "metadata": {
        "colab": {
          "base_uri": "https://localhost:8080/"
        },
        "id": "U4iWKoLsENry",
        "outputId": "14d6771d-eb57-4b11-88a7-b1bb308ddc6e"
      },
      "outputs": [
        {
          "data": {
            "text/plain": [
              "tensor([-9, -8, -7])"
            ]
          },
          "execution_count": 26,
          "metadata": {},
          "output_type": "execute_result"
        }
      ],
      "source": [
        "# Subtract and reassign\n",
        "tensor = tensor - 10\n",
        "tensor"
      ]
    },
    {
      "cell_type": "code",
      "execution_count": null,
      "metadata": {
        "colab": {
          "base_uri": "https://localhost:8080/"
        },
        "id": "tFgZY-PaFNXa",
        "outputId": "3536ea54-a056-444c-cd5d-6d438ddda965"
      },
      "outputs": [
        {
          "data": {
            "text/plain": [
              "tensor([1, 2, 3])"
            ]
          },
          "execution_count": 27,
          "metadata": {},
          "output_type": "execute_result"
        }
      ],
      "source": [
        "# Add and reassign\n",
        "tensor = tensor + 10\n",
        "tensor"
      ]
    },
    {
      "cell_type": "markdown",
      "metadata": {
        "id": "CYXDoIOzk-6I"
      },
      "source": [
        "PyTorch also has a bunch of built-in functions like [`torch.mul()`](https://pytorch.org/docs/stable/generated/torch.mul.html#torch.mul) (short for multiplication) and [`torch.add()`](https://pytorch.org/docs/stable/generated/torch.add.html) to perform basic operations."
      ]
    },
    {
      "cell_type": "code",
      "execution_count": null,
      "metadata": {
        "colab": {
          "base_uri": "https://localhost:8080/"
        },
        "id": "uVysdk3kFWbY",
        "outputId": "3a5bf687-cf24-4224-9e76-975f84638ca8"
      },
      "outputs": [
        {
          "data": {
            "text/plain": [
              "tensor([10, 20, 30])"
            ]
          },
          "execution_count": 28,
          "metadata": {},
          "output_type": "execute_result"
        }
      ],
      "source": [
        "# Can also use torch functions\n",
        "torch.multiply(tensor, 10)"
      ]
    },
    {
      "cell_type": "code",
      "execution_count": null,
      "metadata": {
        "colab": {
          "base_uri": "https://localhost:8080/"
        },
        "id": "IxuPJIpNFbqO",
        "outputId": "f04cafd9-eaea-4254-df1a-5ab3b524d74e"
      },
      "outputs": [
        {
          "data": {
            "text/plain": [
              "tensor([1, 2, 3])"
            ]
          },
          "execution_count": 29,
          "metadata": {},
          "output_type": "execute_result"
        }
      ],
      "source": [
        "# Original tensor is still unchanged\n",
        "tensor"
      ]
    },
    {
      "cell_type": "markdown",
      "metadata": {
        "id": "70UNL33AlVQq"
      },
      "source": [
        "However, it's more common to use the operator symbols like `*` instead of `torch.mul()`"
      ]
    },
    {
      "cell_type": "code",
      "execution_count": null,
      "metadata": {
        "colab": {
          "base_uri": "https://localhost:8080/"
        },
        "id": "S5v3RkR0F2Jq",
        "outputId": "0137caab-5ea1-4d95-f4c5-a0baa0fd652d"
      },
      "outputs": [
        {
          "name": "stdout",
          "output_type": "stream",
          "text": [
            "tensor([1, 2, 3]) * tensor([1, 2, 3])\n",
            "Equals: tensor([1, 4, 9])\n"
          ]
        }
      ],
      "source": [
        "# Element-wise multiplication (each element multiplies its equivalent, index 0->0, 1->1, 2->2)\n",
        "print(tensor, \"*\", tensor)\n",
        "print(\"Equals:\", tensor * tensor)"
      ]
    },
    {
      "cell_type": "markdown",
      "metadata": {
        "id": "TT5fVuyu7q5z"
      },
      "source": [
        "### Matrix multiplication (is all you need)\n",
        "\n",
        "One of the most common operations in machine learning and deep learning algorithms (like neural networks) is [matrix multiplication](https://www.mathsisfun.com/algebra/matrix-multiplying.html).\n",
        "\n",
        "PyTorch implements matrix multiplication functionality in the [`torch.matmul()`](https://pytorch.org/docs/stable/generated/torch.matmul.html) method.\n",
        "\n",
        "The main two rules for matrix multiplication to remember are:\n",
        "\n",
        "1. The **inner dimensions** must match:\n",
        "  * `(3, 2) @ (3, 2)` won't work\n",
        "  * `(2, 3) @ (3, 2)` will work\n",
        "  * `(3, 2) @ (2, 3)` will work\n",
        "2. The resulting matrix has the shape of the **outer dimensions**:\n",
        " * `(2, 3) @ (3, 2)` -> `(2, 2)`\n",
        " * `(3, 2) @ (2, 3)` -> `(3, 3)`\n",
        "\n",
        "> **Note:** \"`@`\" in Python is the symbol for matrix multiplication.\n",
        "\n",
        "> **Resource:** You can see all of the rules for matrix multiplication using `torch.matmul()` [in the PyTorch documentation](https://pytorch.org/docs/stable/generated/torch.matmul.html).\n",
        "\n",
        "Let's create a tensor and perform element-wise multiplication and matrix multiplication on it.\n",
        "\n"
      ]
    },
    {
      "cell_type": "code",
      "execution_count": null,
      "metadata": {
        "colab": {
          "base_uri": "https://localhost:8080/"
        },
        "id": "ZE7loucmDlEM",
        "outputId": "44032bf9-c1f7-42fc-c842-dbe7a5c1221a"
      },
      "outputs": [
        {
          "data": {
            "text/plain": [
              "torch.Size([3])"
            ]
          },
          "execution_count": 31,
          "metadata": {},
          "output_type": "execute_result"
        }
      ],
      "source": [
        "import torch\n",
        "tensor = torch.tensor([1, 2, 3])\n",
        "tensor.shape"
      ]
    },
    {
      "cell_type": "markdown",
      "metadata": {
        "id": "VUAZ3_b0vOKv"
      },
      "source": [
        "The difference between element-wise multiplication and matrix multiplication is the addition of values.\n",
        "\n",
        "For our `tensor` variable with values `[1, 2, 3]`:\n",
        "\n",
        "| Operation | Calculation | Code |\n",
        "| ----- | ----- | ----- |\n",
        "| **Element-wise multiplication** | `[1*1, 2*2, 3*3]` = `[1, 4, 9]` | `tensor * tensor` |\n",
        "| **Matrix multiplication** | `[1*1 + 2*2 + 3*3]` = `[14]` | `tensor.matmul(tensor)` |\n"
      ]
    },
    {
      "cell_type": "code",
      "execution_count": null,
      "metadata": {
        "colab": {
          "base_uri": "https://localhost:8080/"
        },
        "id": "i42gkUeHvI_1",
        "outputId": "18a630ce-bb56-4c40-81b4-9fdbb2ed7a4f"
      },
      "outputs": [
        {
          "data": {
            "text/plain": [
              "tensor([1, 4, 9])"
            ]
          },
          "execution_count": 32,
          "metadata": {},
          "output_type": "execute_result"
        }
      ],
      "source": [
        "# Element-wise matrix multiplication\n",
        "tensor * tensor"
      ]
    },
    {
      "cell_type": "code",
      "execution_count": null,
      "metadata": {
        "colab": {
          "base_uri": "https://localhost:8080/"
        },
        "id": "PvCBiiTTDk8y",
        "outputId": "cf623247-8f1b-49f1-e788-16da3ed1e59c"
      },
      "outputs": [
        {
          "data": {
            "text/plain": [
              "tensor(14)"
            ]
          },
          "execution_count": 33,
          "metadata": {},
          "output_type": "execute_result"
        }
      ],
      "source": [
        "# Matrix multiplication\n",
        "torch.matmul(tensor, tensor)"
      ]
    },
    {
      "cell_type": "code",
      "execution_count": null,
      "metadata": {
        "colab": {
          "base_uri": "https://localhost:8080/"
        },
        "id": "m4E_pROBDk2r",
        "outputId": "a09af00f-277b-479e-b0a2-ad6311ee5413"
      },
      "outputs": [
        {
          "data": {
            "text/plain": [
              "tensor(14)"
            ]
          },
          "execution_count": 34,
          "metadata": {},
          "output_type": "execute_result"
        }
      ],
      "source": [
        "# Can also use the \"@\" symbol for matrix multiplication, though not recommended\n",
        "tensor @ tensor"
      ]
    },
    {
      "cell_type": "markdown",
      "metadata": {
        "id": "obbginUMv43A"
      },
      "source": [
        "You can do matrix multiplication by hand but it's not recommended.\n",
        "\n",
        "The in-built `torch.matmul()` method is faster."
      ]
    },
    {
      "cell_type": "code",
      "execution_count": null,
      "metadata": {
        "colab": {
          "base_uri": "https://localhost:8080/"
        },
        "id": "6qMSaLOoJscL",
        "outputId": "8bcad8a2-c900-4966-e13c-ff2cc02b9207"
      },
      "outputs": [
        {
          "name": "stdout",
          "output_type": "stream",
          "text": [
            "CPU times: user 773 µs, sys: 0 ns, total: 773 µs\n",
            "Wall time: 499 µs\n"
          ]
        },
        {
          "data": {
            "text/plain": [
              "tensor(14)"
            ]
          },
          "execution_count": 35,
          "metadata": {},
          "output_type": "execute_result"
        }
      ],
      "source": [
        "%%time\n",
        "# Matrix multiplication by hand\n",
        "# (avoid doing operations with for loops at all cost, they are computationally expensive)\n",
        "value = 0\n",
        "for i in range(len(tensor)):\n",
        "  value += tensor[i] * tensor[i]\n",
        "value"
      ]
    },
    {
      "cell_type": "code",
      "execution_count": null,
      "metadata": {
        "colab": {
          "base_uri": "https://localhost:8080/"
        },
        "id": "vVWiKB0KwH74",
        "outputId": "fce58235-5c09-49ec-f34b-a90e5640281e"
      },
      "outputs": [
        {
          "name": "stdout",
          "output_type": "stream",
          "text": [
            "CPU times: user 146 µs, sys: 83 µs, total: 229 µs\n",
            "Wall time: 171 µs\n"
          ]
        },
        {
          "data": {
            "text/plain": [
              "tensor(14)"
            ]
          },
          "execution_count": 36,
          "metadata": {},
          "output_type": "execute_result"
        }
      ],
      "source": [
        "%%time\n",
        "torch.matmul(tensor, tensor)"
      ]
    },
    {
      "cell_type": "markdown",
      "metadata": {
        "id": "aJ4DDmo1TGe-"
      },
      "source": [
        "## One of the most common errors in deep learning (shape errors)\n",
        "\n",
        "Because much of deep learning is multiplying and performing operations on matrices and matrices have a strict rule about what shapes and sizes can be combined, one of the most common errors you'll run into in deep learning is shape mismatches."
      ]
    },
    {
      "cell_type": "code",
      "execution_count": null,
      "metadata": {
        "colab": {
          "base_uri": "https://localhost:8080/",
          "height": 204
        },
        "id": "rN5RcoD4Jo6y",
        "outputId": "20f6c65b-86f4-4903-d253-f6cbf0583934"
      },
      "outputs": [
        {
          "ename": "RuntimeError",
          "evalue": "mat1 and mat2 shapes cannot be multiplied (3x2 and 3x2)",
          "output_type": "error",
          "traceback": [
            "\u001b[0;31m---------------------------------------------------------------------------\u001b[0m",
            "\u001b[0;31mRuntimeError\u001b[0m                              Traceback (most recent call last)",
            "\u001b[1;32m/home/daniel/code/pytorch/pytorch-course/pytorch-deep-learning/00_pytorch_fundamentals.ipynb Cell 75\u001b[0m in \u001b[0;36m<cell line: 10>\u001b[0;34m()\u001b[0m\n\u001b[1;32m      <a href='vscode-notebook-cell://ssh-remote%2B7b22686f73744e616d65223a22544954414e2d525458227d/home/daniel/code/pytorch/pytorch-course/pytorch-deep-learning/00_pytorch_fundamentals.ipynb#Y134sdnNjb2RlLXJlbW90ZQ%3D%3D?line=1'>2</a>\u001b[0m tensor_A \u001b[39m=\u001b[39m torch\u001b[39m.\u001b[39mtensor([[\u001b[39m1\u001b[39m, \u001b[39m2\u001b[39m],\n\u001b[1;32m      <a href='vscode-notebook-cell://ssh-remote%2B7b22686f73744e616d65223a22544954414e2d525458227d/home/daniel/code/pytorch/pytorch-course/pytorch-deep-learning/00_pytorch_fundamentals.ipynb#Y134sdnNjb2RlLXJlbW90ZQ%3D%3D?line=2'>3</a>\u001b[0m                          [\u001b[39m3\u001b[39m, \u001b[39m4\u001b[39m],\n\u001b[1;32m      <a href='vscode-notebook-cell://ssh-remote%2B7b22686f73744e616d65223a22544954414e2d525458227d/home/daniel/code/pytorch/pytorch-course/pytorch-deep-learning/00_pytorch_fundamentals.ipynb#Y134sdnNjb2RlLXJlbW90ZQ%3D%3D?line=3'>4</a>\u001b[0m                          [\u001b[39m5\u001b[39m, \u001b[39m6\u001b[39m]], dtype\u001b[39m=\u001b[39mtorch\u001b[39m.\u001b[39mfloat32)\n\u001b[1;32m      <a href='vscode-notebook-cell://ssh-remote%2B7b22686f73744e616d65223a22544954414e2d525458227d/home/daniel/code/pytorch/pytorch-course/pytorch-deep-learning/00_pytorch_fundamentals.ipynb#Y134sdnNjb2RlLXJlbW90ZQ%3D%3D?line=5'>6</a>\u001b[0m tensor_B \u001b[39m=\u001b[39m torch\u001b[39m.\u001b[39mtensor([[\u001b[39m7\u001b[39m, \u001b[39m10\u001b[39m],\n\u001b[1;32m      <a href='vscode-notebook-cell://ssh-remote%2B7b22686f73744e616d65223a22544954414e2d525458227d/home/daniel/code/pytorch/pytorch-course/pytorch-deep-learning/00_pytorch_fundamentals.ipynb#Y134sdnNjb2RlLXJlbW90ZQ%3D%3D?line=6'>7</a>\u001b[0m                          [\u001b[39m8\u001b[39m, \u001b[39m11\u001b[39m], \n\u001b[1;32m      <a href='vscode-notebook-cell://ssh-remote%2B7b22686f73744e616d65223a22544954414e2d525458227d/home/daniel/code/pytorch/pytorch-course/pytorch-deep-learning/00_pytorch_fundamentals.ipynb#Y134sdnNjb2RlLXJlbW90ZQ%3D%3D?line=7'>8</a>\u001b[0m                          [\u001b[39m9\u001b[39m, \u001b[39m12\u001b[39m]], dtype\u001b[39m=\u001b[39mtorch\u001b[39m.\u001b[39mfloat32)\n\u001b[0;32m---> <a href='vscode-notebook-cell://ssh-remote%2B7b22686f73744e616d65223a22544954414e2d525458227d/home/daniel/code/pytorch/pytorch-course/pytorch-deep-learning/00_pytorch_fundamentals.ipynb#Y134sdnNjb2RlLXJlbW90ZQ%3D%3D?line=9'>10</a>\u001b[0m torch\u001b[39m.\u001b[39;49mmatmul(tensor_A, tensor_B)\n",
            "\u001b[0;31mRuntimeError\u001b[0m: mat1 and mat2 shapes cannot be multiplied (3x2 and 3x2)"
          ]
        }
      ],
      "source": [
        "# Shapes need to be in the right way\n",
        "tensor_A = torch.tensor([[1, 2],\n",
        "                         [3, 4],\n",
        "                         [5, 6]], dtype=torch.float32)\n",
        "\n",
        "tensor_B = torch.tensor([[7, 10],\n",
        "                         [8, 11],\n",
        "                         [9, 12]], dtype=torch.float32)\n",
        "\n",
        "torch.matmul(tensor_A, tensor_B) # (this will error)"
      ]
    },
    {
      "cell_type": "markdown",
      "metadata": {
        "id": "HNA6MZEFxWVt"
      },
      "source": [
        "We can make matrix multiplication work between `tensor_A` and `tensor_B` by making their inner dimensions match.\n",
        "\n",
        "One of the ways to do this is with a **transpose** (switch the dimensions of a given tensor).\n",
        "\n",
        "You can perform transposes in PyTorch using either:\n",
        "* `torch.transpose(input, dim0, dim1)` - where `input` is the desired tensor to transpose and `dim0` and `dim1` are the dimensions to be swapped.\n",
        "* `tensor.T` - where `tensor` is the desired tensor to transpose.\n",
        "\n",
        "Let's try the latter."
      ]
    },
    {
      "cell_type": "code",
      "execution_count": null,
      "metadata": {
        "colab": {
          "base_uri": "https://localhost:8080/"
        },
        "id": "lUqgaANiy1wq",
        "outputId": "e48bbf0c-8008-434e-d372-caa658b2f36b"
      },
      "outputs": [
        {
          "name": "stdout",
          "output_type": "stream",
          "text": [
            "tensor([[1., 2.],\n",
            "        [3., 4.],\n",
            "        [5., 6.]])\n",
            "tensor([[ 7., 10.],\n",
            "        [ 8., 11.],\n",
            "        [ 9., 12.]])\n"
          ]
        }
      ],
      "source": [
        "# View tensor_A and tensor_B\n",
        "print(tensor_A)\n",
        "print(tensor_B)"
      ]
    },
    {
      "cell_type": "code",
      "execution_count": null,
      "metadata": {
        "colab": {
          "base_uri": "https://localhost:8080/"
        },
        "id": "DveqxO7iy_Fi",
        "outputId": "1bd2e85b-ea4d-4948-c408-8eb46ef3534c"
      },
      "outputs": [
        {
          "name": "stdout",
          "output_type": "stream",
          "text": [
            "tensor([[1., 2.],\n",
            "        [3., 4.],\n",
            "        [5., 6.]])\n",
            "tensor([[ 7.,  8.,  9.],\n",
            "        [10., 11., 12.]])\n"
          ]
        }
      ],
      "source": [
        "# View tensor_A and tensor_B.T\n",
        "print(tensor_A)\n",
        "print(tensor_B.T)"
      ]
    },
    {
      "cell_type": "code",
      "execution_count": null,
      "metadata": {
        "colab": {
          "base_uri": "https://localhost:8080/"
        },
        "id": "35rEIu-NKtVE",
        "outputId": "0b32c7f1-556e-45d4-de22-388419e93dc2"
      },
      "outputs": [
        {
          "name": "stdout",
          "output_type": "stream",
          "text": [
            "Original shapes: tensor_A = torch.Size([3, 2]), tensor_B = torch.Size([3, 2])\n",
            "\n",
            "New shapes: tensor_A = torch.Size([3, 2]) (same as above), tensor_B.T = torch.Size([2, 3])\n",
            "\n",
            "Multiplying: torch.Size([3, 2]) * torch.Size([2, 3]) <- inner dimensions match\n",
            "\n",
            "Output:\n",
            "\n",
            "tensor([[ 27.,  30.,  33.],\n",
            "        [ 61.,  68.,  75.],\n",
            "        [ 95., 106., 117.]])\n",
            "\n",
            "Output shape: torch.Size([3, 3])\n"
          ]
        }
      ],
      "source": [
        "# The operation works when tensor_B is transposed\n",
        "print(f\"Original shapes: tensor_A = {tensor_A.shape}, tensor_B = {tensor_B.shape}\\n\")\n",
        "print(f\"New shapes: tensor_A = {tensor_A.shape} (same as above), tensor_B.T = {tensor_B.T.shape}\\n\")\n",
        "print(f\"Multiplying: {tensor_A.shape} * {tensor_B.T.shape} <- inner dimensions match\\n\")\n",
        "print(\"Output:\\n\")\n",
        "output = torch.matmul(tensor_A, tensor_B.T)\n",
        "print(output)\n",
        "print(f\"\\nOutput shape: {output.shape}\")"
      ]
    },
    {
      "cell_type": "markdown",
      "metadata": {
        "id": "MfcFEqfLjN24"
      },
      "source": [
        "You can also use [`torch.mm()`](https://pytorch.org/docs/stable/generated/torch.mm.html) which is a short for `torch.matmul()`."
      ]
    },
    {
      "cell_type": "code",
      "execution_count": null,
      "metadata": {
        "colab": {
          "base_uri": "https://localhost:8080/"
        },
        "id": "x3rJvW_TTGe_",
        "outputId": "2c501972-20bf-4a83-ad4a-b5f1b2424097"
      },
      "outputs": [
        {
          "data": {
            "text/plain": [
              "tensor([[ 27.,  30.,  33.],\n",
              "        [ 61.,  68.,  75.],\n",
              "        [ 95., 106., 117.]])"
            ]
          },
          "execution_count": 41,
          "metadata": {},
          "output_type": "execute_result"
        }
      ],
      "source": [
        "# torch.mm is a shortcut for matmul\n",
        "torch.mm(tensor_A, tensor_B.T)"
      ]
    },
    {
      "cell_type": "markdown",
      "metadata": {
        "id": "bXKozI4T0hFi"
      },
      "source": [
        "Without the transpose, the rules of matrix mulitplication aren't fulfilled and we get an error like above.\n",
        "\n",
        "How about a visual?\n",
        "\n",
        "![visual demo of matrix multiplication](https://github.com/mrdbourke/pytorch-deep-learning/raw/main/images/00-matrix-multiply-crop.gif)\n",
        "\n",
        "You can create your own matrix multiplication visuals like this at http://matrixmultiplication.xyz/.\n",
        "\n",
        "> **Note:** A matrix multiplication like this is also referred to as the [**dot product**](https://www.mathsisfun.com/algebra/vectors-dot-product.html) of two matrices.\n",
        "\n"
      ]
    },
    {
      "cell_type": "markdown",
      "metadata": {
        "id": "hA64Z4DmkB31"
      },
      "source": [
        "Neural networks are full of matrix multiplications and dot products.\n",
        "\n",
        "The [`torch.nn.Linear()`](https://pytorch.org/docs/1.9.1/generated/torch.nn.Linear.html) module (we'll see this in action later on), also known as a feed-forward layer or fully connected layer, implements a matrix multiplication between an input `x` and a weights matrix `A`.\n",
        "\n",
        "$$\n",
        "y = x\\cdot{A^T} + b\n",
        "$$\n",
        "\n",
        "Where:\n",
        "* `x` is the input to the layer (deep learning is a stack of layers like `torch.nn.Linear()` and others on top of each other).\n",
        "* `A` is the weights matrix created by the layer, this starts out as random numbers that get adjusted as a neural network learns to better represent patterns in the data (notice the \"`T`\", that's because the weights matrix gets transposed).\n",
        "  * **Note:** You might also often see `W` or another letter like `X` used to showcase the weights matrix.\n",
        "* `b` is the bias term used to slightly offset the weights and inputs.\n",
        "* `y` is the output (a manipulation of the input in the hopes to discover patterns in it).\n",
        "\n",
        "This is a linear function (you may have seen something like $y = mx+b$ in high school or elsewhere), and can be used to draw a straight line!\n",
        "\n",
        "Let's play around with a linear layer.\n",
        "\n",
        "Try changing the values of `in_features` and `out_features` below and see what happens.\n",
        "\n",
        "Do you notice anything to do with the shapes?"
      ]
    },
    {
      "cell_type": "code",
      "execution_count": null,
      "metadata": {
        "colab": {
          "base_uri": "https://localhost:8080/"
        },
        "id": "mC_MjKW1LX7T",
        "outputId": "768f75d2-c978-4df3-e18a-4684d46bdfa9"
      },
      "outputs": [
        {
          "name": "stdout",
          "output_type": "stream",
          "text": [
            "Input shape: torch.Size([3, 2])\n",
            "\n",
            "Output:\n",
            "tensor([[2.2368, 1.2292, 0.4714, 0.3864, 0.1309, 0.9838],\n",
            "        [4.4919, 2.1970, 0.4469, 0.5285, 0.3401, 2.4777],\n",
            "        [6.7469, 3.1648, 0.4224, 0.6705, 0.5493, 3.9716]],\n",
            "       grad_fn=<AddmmBackward0>)\n",
            "\n",
            "Output shape: torch.Size([3, 6])\n"
          ]
        }
      ],
      "source": [
        "# Since the linear layer starts with a random weights matrix, let's make it reproducible (more on this later)\n",
        "torch.manual_seed(42)\n",
        "# This uses matrix multiplication\n",
        "linear = torch.nn.Linear(in_features=2, # in_features = matches inner dimension of input\n",
        "                         out_features=6) # out_features = describes outer value\n",
        "x = tensor_A\n",
        "output = linear(x)\n",
        "print(f\"Input shape: {x.shape}\\n\")\n",
        "print(f\"Output:\\n{output}\\n\\nOutput shape: {output.shape}\")"
      ]
    },
    {
      "cell_type": "markdown",
      "metadata": {
        "id": "zIGrP5j1pN7j"
      },
      "source": [
        "> **Question:** What happens if you change `in_features` from 2 to 3 above? Does it error? How could you change the shape of the input (`x`) to accomodate to the error? Hint: what did we have to do to `tensor_B` above?"
      ]
    },
    {
      "cell_type": "markdown",
      "metadata": {
        "id": "EPNF0nMWoGEj"
      },
      "source": [
        "If you've never done it before, matrix multiplication can be a confusing topic at first.\n",
        "\n",
        "But after you've played around with it a few times and even cracked open a few neural networks, you'll notice it's everywhere.\n",
        "\n",
        "Remember, matrix multiplication is all you need.\n",
        "\n",
        "![matrix multiplication is all you need](https://raw.githubusercontent.com/mrdbourke/pytorch-deep-learning/main/images/00_matrix_multiplication_is_all_you_need.jpeg)\n",
        "\n",
        "*When you start digging into neural network layers and building your own, you'll find matrix multiplications everywhere. **Source:** https://marksaroufim.substack.com/p/working-class-deep-learner*"
      ]
    },
    {
      "cell_type": "code",
      "source": [],
      "metadata": {
        "id": "UUg0i25H9NF6"
      },
      "execution_count": null,
      "outputs": []
    },
    {
      "cell_type": "code",
      "source": [],
      "metadata": {
        "id": "GeT_BA549NDJ"
      },
      "execution_count": null,
      "outputs": []
    },
    {
      "cell_type": "code",
      "source": [],
      "metadata": {
        "id": "99PHeu2b9NlR"
      },
      "execution_count": null,
      "outputs": []
    },
    {
      "cell_type": "markdown",
      "metadata": {
        "id": "pjMmrJOOPv5e"
      },
      "source": [
        "### Finding the min, max, mean, sum, etc (aggregation)\n",
        "\n",
        "Now we've seen a few ways to manipulate tensors, let's run through a few ways to aggregate them (go from more values to less values).\n",
        "\n",
        "First we'll create a tensor and then find the max, min, mean and sum of it.\n",
        "\n",
        "\n",
        "\n"
      ]
    },
    {
      "cell_type": "code",
      "execution_count": null,
      "metadata": {
        "colab": {
          "base_uri": "https://localhost:8080/"
        },
        "id": "jrFQbe5fP1Rk",
        "outputId": "034013c1-b384-4a0d-edf8-295ed3a456f1"
      },
      "outputs": [
        {
          "data": {
            "text/plain": [
              "tensor([ 0, 10, 20, 30, 40, 50, 60, 70, 80, 90])"
            ]
          },
          "execution_count": 43,
          "metadata": {},
          "output_type": "execute_result"
        }
      ],
      "source": [
        "# Create a tensor\n",
        "x = torch.arange(0, 100, 10)\n",
        "x"
      ]
    },
    {
      "cell_type": "markdown",
      "metadata": {
        "id": "-J-wfMdlsEco"
      },
      "source": [
        "Now let's perform some aggregation."
      ]
    },
    {
      "cell_type": "code",
      "execution_count": null,
      "metadata": {
        "colab": {
          "base_uri": "https://localhost:8080/"
        },
        "id": "e5wSP9YKP3Lb",
        "outputId": "3aa238c7-646f-434f-a55c-292aabef7227"
      },
      "outputs": [
        {
          "name": "stdout",
          "output_type": "stream",
          "text": [
            "Minimum: 0\n",
            "Maximum: 90\n",
            "Mean: 45.0\n",
            "Sum: 450\n"
          ]
        }
      ],
      "source": [
        "print(f\"Minimum: {x.min()}\")\n",
        "print(f\"Maximum: {x.max()}\")\n",
        "# print(f\"Mean: {x.mean()}\") # this will error\n",
        "print(f\"Mean: {x.type(torch.float32).mean()}\") # won't work without float datatype\n",
        "print(f\"Sum: {x.sum()}\")"
      ]
    },
    {
      "cell_type": "markdown",
      "metadata": {
        "id": "JHoKpsg3sKQE"
      },
      "source": [
        "> **Note:** You may find some methods such as `torch.mean()` require tensors to be in `torch.float32` (the most common) or another specific datatype, otherwise the operation will fail.\n",
        "\n",
        "You can also do the same as above with `torch` methods."
      ]
    },
    {
      "cell_type": "code",
      "execution_count": null,
      "metadata": {
        "colab": {
          "base_uri": "https://localhost:8080/"
        },
        "id": "0Cr23Y9uP3HO",
        "outputId": "9c86d805-eef2-465c-e2c8-2bccd515e6d5"
      },
      "outputs": [
        {
          "data": {
            "text/plain": [
              "(tensor(90), tensor(0), tensor(45.), tensor(450))"
            ]
          },
          "execution_count": 45,
          "metadata": {},
          "output_type": "execute_result"
        }
      ],
      "source": [
        "torch.max(x), torch.min(x), torch.mean(x.type(torch.float32)), torch.sum(x)"
      ]
    },
    {
      "cell_type": "markdown",
      "metadata": {
        "id": "i7ApCaZjDkvp"
      },
      "source": [
        "### Positional min/max\n",
        "\n",
        "You can also find the index of a tensor where the max or minimum occurs with [`torch.argmax()`](https://pytorch.org/docs/stable/generated/torch.argmax.html) and [`torch.argmin()`](https://pytorch.org/docs/stable/generated/torch.argmin.html) respectively.\n",
        "\n",
        "This is helpful incase you just want the position where the highest (or lowest) value is and not the actual value itself (we'll see this in a later section when using the [softmax activation function](https://pytorch.org/docs/stable/generated/torch.nn.Softmax.html))."
      ]
    },
    {
      "cell_type": "code",
      "execution_count": null,
      "metadata": {
        "colab": {
          "base_uri": "https://localhost:8080/"
        },
        "id": "FzNBl9JSGlHi",
        "outputId": "01e0740e-c34f-469b-9c8f-9e6e5f0363af"
      },
      "outputs": [
        {
          "name": "stdout",
          "output_type": "stream",
          "text": [
            "Tensor: tensor([10, 20, 30, 40, 50, 60, 70, 80, 90])\n",
            "Index where max value occurs: 8\n",
            "Index where min value occurs: 0\n"
          ]
        }
      ],
      "source": [
        "# Create a tensor\n",
        "tensor = torch.arange(10, 100, 10)\n",
        "print(f\"Tensor: {tensor}\")\n",
        "\n",
        "# Returns index of max and min values\n",
        "print(f\"Index where max value occurs: {tensor.argmax()}\")\n",
        "print(f\"Index where min value occurs: {tensor.argmin()}\")"
      ]
    },
    {
      "cell_type": "markdown",
      "metadata": {
        "id": "QBu33WihOXBk"
      },
      "source": [
        "### Change tensor datatype\n",
        "\n",
        "As mentioned, a common issue with deep learning operations is having your tensors in different datatypes.\n",
        "\n",
        "If one tensor is in `torch.float64` and another is in `torch.float32`, you might run into some errors.\n",
        "\n",
        "But there's a fix.\n",
        "\n",
        "You can change the datatypes of tensors using [`torch.Tensor.type(dtype=None)`](https://pytorch.org/docs/stable/generated/torch.Tensor.type.html) where the `dtype` parameter is the datatype you'd like to use.\n",
        "\n",
        "First we'll create a tensor and check it's datatype (the default is `torch.float32`)."
      ]
    },
    {
      "cell_type": "code",
      "execution_count": null,
      "metadata": {
        "colab": {
          "base_uri": "https://localhost:8080/"
        },
        "id": "rY2FEsCAOaLu",
        "outputId": "507f1ade-7c7a-4172-fa48-60c9ac4831c0"
      },
      "outputs": [
        {
          "data": {
            "text/plain": [
              "torch.float32"
            ]
          },
          "execution_count": 47,
          "metadata": {},
          "output_type": "execute_result"
        }
      ],
      "source": [
        "# Create a tensor and check its datatype\n",
        "tensor = torch.arange(10., 100., 10.)\n",
        "tensor.dtype"
      ]
    },
    {
      "cell_type": "markdown",
      "metadata": {
        "id": "jR30FHEc92of"
      },
      "source": [
        "Now we'll create another tensor the same as before but change its datatype to `torch.float16`.\n",
        "\n"
      ]
    },
    {
      "cell_type": "code",
      "execution_count": null,
      "metadata": {
        "colab": {
          "base_uri": "https://localhost:8080/"
        },
        "id": "Cac8gRYjOeab",
        "outputId": "96e5ce12-bc29-4a2b-f81c-bfc89ea2d075"
      },
      "outputs": [
        {
          "data": {
            "text/plain": [
              "tensor([10., 20., 30., 40., 50., 60., 70., 80., 90.], dtype=torch.float16)"
            ]
          },
          "execution_count": 48,
          "metadata": {},
          "output_type": "execute_result"
        }
      ],
      "source": [
        "# Create a float16 tensor\n",
        "tensor_float16 = tensor.type(torch.float16)\n",
        "tensor_float16"
      ]
    },
    {
      "cell_type": "markdown",
      "metadata": {
        "id": "ndVlKJZ4-7_5"
      },
      "source": [
        "And we can do something similar to make a `torch.int8` tensor."
      ]
    },
    {
      "cell_type": "code",
      "execution_count": null,
      "metadata": {
        "colab": {
          "base_uri": "https://localhost:8080/"
        },
        "id": "8Yqovld2Oj6s",
        "outputId": "667da17f-e38f-404a-bd2d-63683e45c99a"
      },
      "outputs": [
        {
          "data": {
            "text/plain": [
              "tensor([10, 20, 30, 40, 50, 60, 70, 80, 90], dtype=torch.int8)"
            ]
          },
          "execution_count": 49,
          "metadata": {},
          "output_type": "execute_result"
        }
      ],
      "source": [
        "# Create a int8 tensor\n",
        "tensor_int8 = tensor.type(torch.int8)\n",
        "tensor_int8"
      ]
    },
    {
      "cell_type": "markdown",
      "metadata": {
        "id": "44GxVabar-xe"
      },
      "source": [
        "> **Note:** Different datatypes can be confusing to begin with. But think of it like this, the lower the number (e.g. 32, 16, 8), the less precise a computer stores the value. And with a lower amount of storage, this generally results in faster computation and a smaller overall model. Mobile-based neural networks often operate with 8-bit integers, smaller and faster to run but less accurate than their float32 counterparts. For more on this, I'd read up about [precision in computing](https://en.wikipedia.org/wiki/Precision_(computer_science)).\n",
        "\n",
        "> **Exercise:** So far we've covered a fair few tensor methods but there's a bunch more in the [`torch.Tensor` documentation](https://pytorch.org/docs/stable/tensors.html), I'd recommend spending 10-minutes scrolling through and looking into any that catch your eye. Click on them and then write them out in code yourself to see what happens."
      ]
    },
    {
      "cell_type": "markdown",
      "metadata": {
        "id": "7CkCtAYmGsHY"
      },
      "source": [
        "### Reshaping, stacking, squeezing and unsqueezing\n",
        "\n",
        "Often times you'll want to reshape or change the dimensions of your tensors without actually changing the values inside them.\n",
        "\n",
        "To do so, some popular methods are:\n",
        "\n",
        "| Method | One-line description |\n",
        "| ----- | ----- |\n",
        "| [`torch.reshape(input, shape)`](https://pytorch.org/docs/stable/generated/torch.reshape.html#torch.reshape) | Reshapes `input` to `shape` (if compatible), can also use `torch.Tensor.reshape()`. |\n",
        "| [`Tensor.view(shape)`](https://pytorch.org/docs/stable/generated/torch.Tensor.view.html) | Returns a view of the original tensor in a different `shape` but shares the same data as the original tensor. |\n",
        "| [`torch.stack(tensors, dim=0)`](https://pytorch.org/docs/1.9.1/generated/torch.stack.html) | Concatenates a sequence of `tensors` along a new dimension (`dim`), all `tensors` must be same size. |\n",
        "| [`torch.squeeze(input)`](https://pytorch.org/docs/stable/generated/torch.squeeze.html) | Squeezes `input` to remove all the dimenions with value `1`. |\n",
        "| [`torch.unsqueeze(input, dim)`](https://pytorch.org/docs/1.9.1/generated/torch.unsqueeze.html) | Returns `input` with a dimension value of `1` added at `dim`. |\n",
        "| [`torch.permute(input, dims)`](https://pytorch.org/docs/stable/generated/torch.permute.html) | Returns a *view* of the original `input` with its dimensions permuted (rearranged) to `dims`. |\n",
        "\n",
        "Why do any of these?\n",
        "\n",
        "Because deep learning models (neural networks) are all about manipulating tensors in some way. And because of the rules of matrix multiplication, if you've got shape mismatches, you'll run into errors. These methods help you make sure the right elements of your tensors are mixing with the right elements of other tensors.\n",
        "\n",
        "Let's try them out.\n",
        "\n",
        "First, we'll create a tensor."
      ]
    },
    {
      "cell_type": "code",
      "execution_count": null,
      "metadata": {
        "colab": {
          "base_uri": "https://localhost:8080/"
        },
        "id": "EYjRTLOzG4Ev",
        "outputId": "f7f2719c-15ce-406b-dc8f-4477046cd5d9"
      },
      "outputs": [
        {
          "data": {
            "text/plain": [
              "(tensor([1., 2., 3., 4., 5., 6., 7.]), torch.Size([7]))"
            ]
          },
          "execution_count": 50,
          "metadata": {},
          "output_type": "execute_result"
        }
      ],
      "source": [
        "# Create a tensor\n",
        "import torch\n",
        "x = torch.arange(1., 8.)\n",
        "x, x.shape"
      ]
    },
    {
      "cell_type": "markdown",
      "metadata": {
        "id": "3_VarMO9CoT8"
      },
      "source": [
        "Now let's add an extra dimension with `torch.reshape()`."
      ]
    },
    {
      "cell_type": "code",
      "execution_count": null,
      "metadata": {
        "colab": {
          "base_uri": "https://localhost:8080/"
        },
        "id": "US4WjpQ3SG-8",
        "outputId": "c519d59e-85f1-4a10-eaaa-acb487028e3a"
      },
      "outputs": [
        {
          "data": {
            "text/plain": [
              "(tensor([[1., 2., 3., 4., 5., 6., 7.]]), torch.Size([1, 7]))"
            ]
          },
          "execution_count": 51,
          "metadata": {},
          "output_type": "execute_result"
        }
      ],
      "source": [
        "# Add an extra dimension\n",
        "x_reshaped = x.reshape(1, 7)\n",
        "x_reshaped, x_reshaped.shape"
      ]
    },
    {
      "cell_type": "markdown",
      "metadata": {
        "id": "tig5xm0jCxuU"
      },
      "source": [
        "We can also change the view with `torch.view()`."
      ]
    },
    {
      "cell_type": "code",
      "execution_count": null,
      "metadata": {
        "colab": {
          "base_uri": "https://localhost:8080/"
        },
        "id": "WDN2BNe5TGfB",
        "outputId": "3df1b0d6-2548-4ecc-ca25-0c4e28a6e536"
      },
      "outputs": [
        {
          "data": {
            "text/plain": [
              "(tensor([[1., 2., 3., 4., 5., 6., 7.]]), torch.Size([1, 7]))"
            ]
          },
          "execution_count": 52,
          "metadata": {},
          "output_type": "execute_result"
        }
      ],
      "source": [
        "# Change view (keeps same data as original but changes view)\n",
        "# See more: https://stackoverflow.com/a/54507446/7900723\n",
        "z = x.view(1, 7)\n",
        "z, z.shape"
      ]
    },
    {
      "cell_type": "markdown",
      "metadata": {
        "id": "m8joAaUEC2NX"
      },
      "source": [
        "Remember though, changing the view of a tensor with `torch.view()` really only creates a new view of the *same* tensor.\n",
        "\n",
        "So changing the view changes the original tensor too."
      ]
    },
    {
      "cell_type": "code",
      "execution_count": null,
      "metadata": {
        "colab": {
          "base_uri": "https://localhost:8080/"
        },
        "id": "2DxURVvXTGfC",
        "outputId": "668d194d-dd0a-4db1-da00-9c3fd8849186"
      },
      "outputs": [
        {
          "data": {
            "text/plain": [
              "(tensor([[5., 2., 3., 4., 5., 6., 7.]]), tensor([5., 2., 3., 4., 5., 6., 7.]))"
            ]
          },
          "execution_count": 53,
          "metadata": {},
          "output_type": "execute_result"
        }
      ],
      "source": [
        "# Changing z changes x\n",
        "z[:, 0] = 5\n",
        "z, x"
      ]
    },
    {
      "cell_type": "markdown",
      "metadata": {
        "id": "YxnqDBlpDDJ_"
      },
      "source": [
        "If we wanted to stack our new tensor on top of itself five times, we could do so with `torch.stack()`."
      ]
    },
    {
      "cell_type": "code",
      "execution_count": null,
      "metadata": {
        "colab": {
          "base_uri": "https://localhost:8080/"
        },
        "id": "pX5Adf3ORiTK",
        "outputId": "703e8568-61df-4ebd-f4d3-a6366dc265c0"
      },
      "outputs": [
        {
          "data": {
            "text/plain": [
              "tensor([[5., 2., 3., 4., 5., 6., 7.],\n",
              "        [5., 2., 3., 4., 5., 6., 7.],\n",
              "        [5., 2., 3., 4., 5., 6., 7.],\n",
              "        [5., 2., 3., 4., 5., 6., 7.]])"
            ]
          },
          "execution_count": 54,
          "metadata": {},
          "output_type": "execute_result"
        }
      ],
      "source": [
        "# Stack tensors on top of each other\n",
        "x_stacked = torch.stack([x, x, x, x], dim=0) # try changing dim to dim=1 and see what happens\n",
        "x_stacked"
      ]
    },
    {
      "cell_type": "markdown",
      "metadata": {
        "id": "ET56QzNHDuOI"
      },
      "source": [
        "How about removing all single dimensions from a tensor?\n",
        "\n",
        "To do so you can use `torch.squeeze()` (I remember this as *squeezing* the tensor to only have dimensions over 1)."
      ]
    },
    {
      "cell_type": "code",
      "execution_count": null,
      "metadata": {
        "colab": {
          "base_uri": "https://localhost:8080/"
        },
        "id": "w2Y2HEoDRxJZ",
        "outputId": "dd0645a6-1cdd-46bc-a3a2-433d9cd09336"
      },
      "outputs": [
        {
          "name": "stdout",
          "output_type": "stream",
          "text": [
            "Previous tensor: tensor([[5., 2., 3., 4., 5., 6., 7.]])\n",
            "Previous shape: torch.Size([1, 7])\n",
            "\n",
            "New tensor: tensor([5., 2., 3., 4., 5., 6., 7.])\n",
            "New shape: torch.Size([7])\n"
          ]
        }
      ],
      "source": [
        "print(f\"Previous tensor: {x_reshaped}\")\n",
        "print(f\"Previous shape: {x_reshaped.shape}\")\n",
        "\n",
        "# Remove extra dimension from x_reshaped\n",
        "x_squeezed = x_reshaped.squeeze()\n",
        "print(f\"\\nNew tensor: {x_squeezed}\")\n",
        "print(f\"New shape: {x_squeezed.shape}\")"
      ]
    },
    {
      "cell_type": "markdown",
      "metadata": {
        "id": "acjDLk8WD8NC"
      },
      "source": [
        "And to do the reverse of `torch.squeeze()` you can use `torch.unsqueeze()` to add a dimension value of 1 at a specific index."
      ]
    },
    {
      "cell_type": "code",
      "execution_count": null,
      "metadata": {
        "colab": {
          "base_uri": "https://localhost:8080/"
        },
        "id": "CUC-DEEwSYv7",
        "outputId": "da60e019-3ea6-42f8-8e47-ba037ead737f"
      },
      "outputs": [
        {
          "name": "stdout",
          "output_type": "stream",
          "text": [
            "Previous tensor: tensor([5., 2., 3., 4., 5., 6., 7.])\n",
            "Previous shape: torch.Size([7])\n",
            "\n",
            "New tensor: tensor([[5., 2., 3., 4., 5., 6., 7.]])\n",
            "New shape: torch.Size([1, 7])\n"
          ]
        }
      ],
      "source": [
        "print(f\"Previous tensor: {x_squeezed}\")\n",
        "print(f\"Previous shape: {x_squeezed.shape}\")\n",
        "\n",
        "## Add an extra dimension with unsqueeze\n",
        "x_unsqueezed = x_squeezed.unsqueeze(dim=0)\n",
        "print(f\"\\nNew tensor: {x_unsqueezed}\")\n",
        "print(f\"New shape: {x_unsqueezed.shape}\")"
      ]
    },
    {
      "cell_type": "markdown",
      "metadata": {
        "id": "R9DuJzXgFbM5"
      },
      "source": [
        "You can also rearrange the order of axes values with `torch.permute(input, dims)`, where the `input` gets turned into a *view* with new `dims`."
      ]
    },
    {
      "cell_type": "code",
      "execution_count": null,
      "metadata": {
        "colab": {
          "base_uri": "https://localhost:8080/"
        },
        "id": "fCRGCX8DTGfC",
        "outputId": "6853328b-a1cf-4470-f366-106a231a189c"
      },
      "outputs": [
        {
          "name": "stdout",
          "output_type": "stream",
          "text": [
            "Previous shape: torch.Size([224, 224, 3])\n",
            "New shape: torch.Size([3, 224, 224])\n"
          ]
        }
      ],
      "source": [
        "# Create tensor with specific shape\n",
        "x_original = torch.rand(size=(224, 224, 3))\n",
        "\n",
        "# Permute the original tensor to rearrange the axis order\n",
        "x_permuted = x_original.permute(2, 0, 1) # shifts axis 0->1, 1->2, 2->0\n",
        "\n",
        "print(f\"Previous shape: {x_original.shape}\")\n",
        "print(f\"New shape: {x_permuted.shape}\")"
      ]
    },
    {
      "cell_type": "markdown",
      "metadata": {
        "id": "06LKaFemGBoE"
      },
      "source": [
        "> **Note**: Because permuting returns a *view* (shares the same data as the original), the values in the permuted tensor will be the same as the original tensor and if you change the values in the view, it will change the values of the original."
      ]
    },
    {
      "cell_type": "markdown",
      "metadata": {
        "id": "nEPqVL7fTGfC"
      },
      "source": [
        "## Indexing (selecting data from tensors)\n",
        "\n",
        "Sometimes you'll want to select specific data from tensors (for example, only the first column or second row).\n",
        "\n",
        "To do so, you can use indexing.\n",
        "\n",
        "If you've ever done indexing on Python lists or NumPy arrays, indexing in PyTorch with tensors is very similar."
      ]
    },
    {
      "cell_type": "code",
      "execution_count": null,
      "metadata": {
        "colab": {
          "base_uri": "https://localhost:8080/"
        },
        "id": "oSXzdxCQTGfD",
        "outputId": "05a72c08-5f8c-433a-cd31-46065686f825"
      },
      "outputs": [
        {
          "data": {
            "text/plain": [
              "(tensor([[[1, 2, 3],\n",
              "          [4, 5, 6],\n",
              "          [7, 8, 9]]]),\n",
              " torch.Size([1, 3, 3]))"
            ]
          },
          "execution_count": 58,
          "metadata": {},
          "output_type": "execute_result"
        }
      ],
      "source": [
        "# Create a tensor\n",
        "import torch\n",
        "x = torch.arange(1, 10).reshape(1, 3, 3)\n",
        "x, x.shape"
      ]
    },
    {
      "cell_type": "markdown",
      "metadata": {
        "id": "xQG5krnKG43B"
      },
      "source": [
        "Indexing values goes outer dimension -> inner dimension (check out the square brackets)."
      ]
    },
    {
      "cell_type": "code",
      "execution_count": null,
      "metadata": {
        "colab": {
          "base_uri": "https://localhost:8080/"
        },
        "id": "zv_Z3IAzTGfD",
        "outputId": "cf6c0936-7600-4af4-9b6f-f6b8ac9b4c05"
      },
      "outputs": [
        {
          "name": "stdout",
          "output_type": "stream",
          "text": [
            "First square bracket:\n",
            "tensor([[1, 2, 3],\n",
            "        [4, 5, 6],\n",
            "        [7, 8, 9]])\n",
            "Second square bracket: tensor([1, 2, 3])\n",
            "Third square bracket: 1\n"
          ]
        }
      ],
      "source": [
        "# Let's index bracket by bracket\n",
        "print(f\"First square bracket:\\n{x[0]}\")\n",
        "print(f\"Second square bracket: {x[0][0]}\")\n",
        "print(f\"Third square bracket: {x[0][0][0]}\")"
      ]
    },
    {
      "cell_type": "markdown",
      "metadata": {
        "id": "XaLjaIFxHe89"
      },
      "source": [
        "You can also use `:` to specify \"all values in this dimension\" and then use a comma (`,`) to add another dimension."
      ]
    },
    {
      "cell_type": "code",
      "execution_count": null,
      "metadata": {
        "colab": {
          "base_uri": "https://localhost:8080/"
        },
        "id": "gCT09pqeTGfD",
        "outputId": "a91f9b73-f8f0-476a-9c69-fcd03b042f6b"
      },
      "outputs": [
        {
          "data": {
            "text/plain": [
              "tensor([[1, 2, 3]])"
            ]
          },
          "execution_count": 60,
          "metadata": {},
          "output_type": "execute_result"
        }
      ],
      "source": [
        "# Get all values of 0th dimension and the 0 index of 1st dimension\n",
        "x[:, 0]"
      ]
    },
    {
      "cell_type": "code",
      "execution_count": null,
      "metadata": {
        "colab": {
          "base_uri": "https://localhost:8080/"
        },
        "id": "dwDx_gMsTGfD",
        "outputId": "8165cfd9-a88d-4212-8c45-1eb84ef5be83"
      },
      "outputs": [
        {
          "data": {
            "text/plain": [
              "tensor([[2, 5, 8]])"
            ]
          },
          "execution_count": 61,
          "metadata": {},
          "output_type": "execute_result"
        }
      ],
      "source": [
        "# Get all values of 0th & 1st dimensions but only index 1 of 2nd dimension\n",
        "x[:, :, 1]"
      ]
    },
    {
      "cell_type": "code",
      "execution_count": null,
      "metadata": {
        "colab": {
          "base_uri": "https://localhost:8080/"
        },
        "id": "xiw3_1E3TGfD",
        "outputId": "12fa4749-cf52-4e88-c2c0-44d26aeb633c"
      },
      "outputs": [
        {
          "data": {
            "text/plain": [
              "tensor([5])"
            ]
          },
          "execution_count": 62,
          "metadata": {},
          "output_type": "execute_result"
        }
      ],
      "source": [
        "# Get all values of the 0 dimension but only the 1 index value of the 1st and 2nd dimension\n",
        "x[:, 1, 1]"
      ]
    },
    {
      "cell_type": "code",
      "execution_count": null,
      "metadata": {
        "colab": {
          "base_uri": "https://localhost:8080/"
        },
        "id": "XFVEgrKhTGfD",
        "outputId": "69eadeb9-11b3-4b48-cb95-0b3305c1274c"
      },
      "outputs": [
        {
          "data": {
            "text/plain": [
              "tensor([1, 2, 3])"
            ]
          },
          "execution_count": 63,
          "metadata": {},
          "output_type": "execute_result"
        }
      ],
      "source": [
        "# Get index 0 of 0th and 1st dimension and all values of 2nd dimension\n",
        "x[0, 0, :] # same as x[0][0]"
      ]
    },
    {
      "cell_type": "markdown",
      "metadata": {
        "id": "6Ik0r11RIxtm"
      },
      "source": [
        "Indexing can be quite confusing to begin with, especially with larger tensors (I still have to try indexing multiple times to get it right). But with a bit of practice and following the data explorer's motto (***visualize, visualize, visualize***), you'll start to get the hang of it."
      ]
    },
    {
      "cell_type": "markdown",
      "metadata": {
        "id": "h8ZaW0Bq7rCm"
      },
      "source": [
        "## PyTorch tensors & NumPy\n",
        "\n",
        "Since NumPy is a popular Python numerical computing library, PyTorch has functionality to interact with it nicely.  \n",
        "\n",
        "The two main methods you'll want to use for NumPy to PyTorch (and back again) are:\n",
        "* [`torch.from_numpy(ndarray)`](https://pytorch.org/docs/stable/generated/torch.from_numpy.html) - NumPy array -> PyTorch tensor.\n",
        "* [`torch.Tensor.numpy()`](https://pytorch.org/docs/stable/generated/torch.Tensor.numpy.html) - PyTorch tensor -> NumPy array.\n",
        "\n",
        "Let's try them out."
      ]
    },
    {
      "cell_type": "code",
      "execution_count": null,
      "metadata": {
        "colab": {
          "base_uri": "https://localhost:8080/"
        },
        "id": "yDrDCnvY7rKS",
        "outputId": "86155a63-01f9-4372-e889-61a65ebf0fb1"
      },
      "outputs": [
        {
          "data": {
            "text/plain": [
              "(array([1., 2., 3., 4., 5., 6., 7.]),\n",
              " tensor([1., 2., 3., 4., 5., 6., 7.], dtype=torch.float64))"
            ]
          },
          "execution_count": 64,
          "metadata": {},
          "output_type": "execute_result"
        }
      ],
      "source": [
        "# NumPy array to tensor\n",
        "import torch\n",
        "import numpy as np\n",
        "array = np.arange(1.0, 8.0)\n",
        "tensor = torch.from_numpy(array)\n",
        "array, tensor"
      ]
    },
    {
      "cell_type": "markdown",
      "metadata": {
        "id": "16JG6cONLPnO"
      },
      "source": [
        "> **Note:** By default, NumPy arrays are created with the datatype `float64` and if you convert it to a PyTorch tensor, it'll keep the same datatype (as above).\n",
        ">\n",
        "> However, many PyTorch calculations default to using `float32`.\n",
        ">\n",
        "> So if you want to convert your NumPy array (float64) -> PyTorch tensor (float64) -> PyTorch tensor (float32), you can use `tensor = torch.from_numpy(array).type(torch.float32)`.\n",
        "\n",
        "Because we reassigned `tensor` above, if you change the tensor, the array stays the same."
      ]
    },
    {
      "cell_type": "code",
      "execution_count": null,
      "metadata": {
        "colab": {
          "base_uri": "https://localhost:8080/"
        },
        "id": "ovwl7VCREv8L",
        "outputId": "efd21eb9-0010-436a-dc29-f851e3d7d77a"
      },
      "outputs": [
        {
          "data": {
            "text/plain": [
              "(array([2., 3., 4., 5., 6., 7., 8.]),\n",
              " tensor([1., 2., 3., 4., 5., 6., 7.], dtype=torch.float64))"
            ]
          },
          "execution_count": 65,
          "metadata": {},
          "output_type": "execute_result"
        }
      ],
      "source": [
        "# Change the array, keep the tensor\n",
        "array = array + 1\n",
        "array, tensor"
      ]
    },
    {
      "cell_type": "markdown",
      "metadata": {
        "id": "geVvu1p0MTWc"
      },
      "source": [
        "And if you want to go from PyTorch tensor to NumPy array, you can call `tensor.numpy()`."
      ]
    },
    {
      "cell_type": "code",
      "execution_count": null,
      "metadata": {
        "colab": {
          "base_uri": "https://localhost:8080/"
        },
        "id": "xw_7ZyVaTKxQ",
        "outputId": "54d6f347-d3f6-44df-9155-83d980c31780"
      },
      "outputs": [
        {
          "data": {
            "text/plain": [
              "(tensor([1., 1., 1., 1., 1., 1., 1.]),\n",
              " array([1., 1., 1., 1., 1., 1., 1.], dtype=float32))"
            ]
          },
          "execution_count": 66,
          "metadata": {},
          "output_type": "execute_result"
        }
      ],
      "source": [
        "# Tensor to NumPy array\n",
        "tensor = torch.ones(7) # create a tensor of ones with dtype=float32\n",
        "numpy_tensor = tensor.numpy() # will be dtype=float32 unless changed\n",
        "tensor, numpy_tensor"
      ]
    },
    {
      "cell_type": "markdown",
      "metadata": {
        "id": "Dt8yEV1jMfi2"
      },
      "source": [
        "And the same rule applies as above, if you change the original `tensor`, the new `numpy_tensor` stays the same."
      ]
    },
    {
      "cell_type": "code",
      "execution_count": null,
      "metadata": {
        "colab": {
          "base_uri": "https://localhost:8080/"
        },
        "id": "mMp6ZSkET4_Y",
        "outputId": "100678a4-c220-4a44-e4a5-0542359cb9de"
      },
      "outputs": [
        {
          "data": {
            "text/plain": [
              "(tensor([2., 2., 2., 2., 2., 2., 2.]),\n",
              " array([1., 1., 1., 1., 1., 1., 1.], dtype=float32))"
            ]
          },
          "execution_count": 67,
          "metadata": {},
          "output_type": "execute_result"
        }
      ],
      "source": [
        "# Change the tensor, keep the array the same\n",
        "tensor = tensor + 1\n",
        "tensor, numpy_tensor"
      ]
    },
    {
      "cell_type": "markdown",
      "metadata": {
        "id": "7gU3ubCrUkI-"
      },
      "source": [
        "## Reproducibility (trying to take the random out of random)\n",
        "\n",
        "As you learn more about neural networks and machine learning, you'll start to discover how much randomness plays a part.\n",
        "\n",
        "Well, pseudorandomness that is. Because after all, as they're designed, a computer is fundamentally deterministic (each step is predictable) so the randomness they create are simulated randomness (though there is debate on this too, but since I'm not a computer scientist, I'll let you find out more yourself).\n",
        "\n",
        "How does this relate to neural networks and deep learning then?\n",
        "\n",
        "We've discussed neural networks start with random numbers to describe patterns in data (these numbers are poor descriptions) and try to improve those random numbers using tensor operations (and a few other things we haven't discussed yet) to better describe patterns in data.\n",
        "\n",
        "In short:\n",
        "\n",
        "``start with random numbers -> tensor operations -> try to make better (again and again and again)``\n",
        "\n",
        "Although randomness is nice and powerful, sometimes you'd like there to be a little less randomness.\n",
        "\n",
        "Why?\n",
        "\n",
        "So you can perform repeatable experiments.\n",
        "\n",
        "For example, you create an algorithm capable of achieving X performance.\n",
        "\n",
        "And then your friend tries it out to verify you're not crazy.\n",
        "\n",
        "How could they do such a thing?\n",
        "\n",
        "That's where **reproducibility** comes in.\n",
        "\n",
        "In other words, can you get the same (or very similar) results on your computer running the same code as I get on mine?\n",
        "\n",
        "Let's see a brief example of reproducibility in PyTorch.\n",
        "\n",
        "We'll start by creating two random tensors, since they're random, you'd expect them to be different right?"
      ]
    },
    {
      "cell_type": "code",
      "execution_count": null,
      "metadata": {
        "colab": {
          "base_uri": "https://localhost:8080/"
        },
        "id": "eSwxnwEbTGfF",
        "outputId": "73b34154-734f-496f-9b55-b6aaa137e854"
      },
      "outputs": [
        {
          "name": "stdout",
          "output_type": "stream",
          "text": [
            "Tensor A:\n",
            "tensor([[0.8016, 0.3649, 0.6286, 0.9663],\n",
            "        [0.7687, 0.4566, 0.5745, 0.9200],\n",
            "        [0.3230, 0.8613, 0.0919, 0.3102]])\n",
            "\n",
            "Tensor B:\n",
            "tensor([[0.9536, 0.6002, 0.0351, 0.6826],\n",
            "        [0.3743, 0.5220, 0.1336, 0.9666],\n",
            "        [0.9754, 0.8474, 0.8988, 0.1105]])\n",
            "\n",
            "Does Tensor A equal Tensor B? (anywhere)\n"
          ]
        },
        {
          "data": {
            "text/plain": [
              "tensor([[False, False, False, False],\n",
              "        [False, False, False, False],\n",
              "        [False, False, False, False]])"
            ]
          },
          "execution_count": 68,
          "metadata": {},
          "output_type": "execute_result"
        }
      ],
      "source": [
        "import torch\n",
        "\n",
        "# Create two random tensors\n",
        "random_tensor_A = torch.rand(3, 4)\n",
        "random_tensor_B = torch.rand(3, 4)\n",
        "\n",
        "print(f\"Tensor A:\\n{random_tensor_A}\\n\")\n",
        "print(f\"Tensor B:\\n{random_tensor_B}\\n\")\n",
        "print(f\"Does Tensor A equal Tensor B? (anywhere)\")\n",
        "random_tensor_A == random_tensor_B"
      ]
    },
    {
      "cell_type": "markdown",
      "metadata": {
        "id": "nPU6mDKJnr8M"
      },
      "source": [
        "Just as you might've expected, the tensors come out with different values.\n",
        "\n",
        "But what if you wanted to created two random tensors with the *same* values.\n",
        "\n",
        "As in, the tensors would still contain random values but they would be of the same flavour.\n",
        "\n",
        "That's where [`torch.manual_seed(seed)`](https://pytorch.org/docs/stable/generated/torch.manual_seed.html) comes in, where `seed` is an integer (like `42` but it could be anything) that flavours the randomness.\n",
        "\n",
        "Let's try it out by creating some more *flavoured* random tensors."
      ]
    },
    {
      "cell_type": "code",
      "execution_count": null,
      "metadata": {
        "colab": {
          "base_uri": "https://localhost:8080/"
        },
        "id": "sB6d1GfYTGfF",
        "outputId": "4d11d38e-4406-4aff-9a81-cf13aa89ee5f"
      },
      "outputs": [
        {
          "name": "stdout",
          "output_type": "stream",
          "text": [
            "Tensor C:\n",
            "tensor([[0.8823, 0.9150, 0.3829, 0.9593],\n",
            "        [0.3904, 0.6009, 0.2566, 0.7936],\n",
            "        [0.9408, 0.1332, 0.9346, 0.5936]])\n",
            "\n",
            "Tensor D:\n",
            "tensor([[0.8823, 0.9150, 0.3829, 0.9593],\n",
            "        [0.3904, 0.6009, 0.2566, 0.7936],\n",
            "        [0.9408, 0.1332, 0.9346, 0.5936]])\n",
            "\n",
            "Does Tensor C equal Tensor D? (anywhere)\n"
          ]
        },
        {
          "data": {
            "text/plain": [
              "tensor([[True, True, True, True],\n",
              "        [True, True, True, True],\n",
              "        [True, True, True, True]])"
            ]
          },
          "execution_count": 69,
          "metadata": {},
          "output_type": "execute_result"
        }
      ],
      "source": [
        "import torch\n",
        "import random\n",
        "\n",
        "# # Set the random seed\n",
        "RANDOM_SEED=42 # try changing this to different values and see what happens to the numbers below\n",
        "torch.manual_seed(seed=RANDOM_SEED)\n",
        "random_tensor_C = torch.rand(3, 4)\n",
        "\n",
        "# Have to reset the seed every time a new rand() is called\n",
        "# Without this, tensor_D would be different to tensor_C\n",
        "torch.random.manual_seed(seed=RANDOM_SEED) # try commenting this line out and seeing what happens\n",
        "random_tensor_D = torch.rand(3, 4)\n",
        "\n",
        "print(f\"Tensor C:\\n{random_tensor_C}\\n\")\n",
        "print(f\"Tensor D:\\n{random_tensor_D}\\n\")\n",
        "print(f\"Does Tensor C equal Tensor D? (anywhere)\")\n",
        "random_tensor_C == random_tensor_D"
      ]
    },
    {
      "cell_type": "markdown",
      "metadata": {
        "id": "uct53Xr5QRC_"
      },
      "source": [
        "Nice!\n",
        "\n",
        "It looks like setting the seed worked.\n",
        "\n",
        "> **Resource:** What we've just covered only scratches the surface of reproducibility in PyTorch. For more, on reproducbility in general and random seeds, I'd checkout:\n",
        "> * [The PyTorch reproducibility documentation](https://pytorch.org/docs/stable/notes/randomness.html) (a good exericse would be to read through this for 10-minutes and even if you don't understand it now, being aware of it is important).\n",
        "> * [The Wikipedia random seed page](https://en.wikipedia.org/wiki/Random_seed) (this'll give a good overview of random seeds and pseudorandomness in general)."
      ]
    },
    {
      "cell_type": "markdown",
      "metadata": {
        "id": "hxIIM7t27rQ-"
      },
      "source": [
        "## Running tensors on GPUs (and making faster computations)\n",
        "\n",
        "Deep learning algorithms require a lot of numerical operations.\n",
        "\n",
        "And by default these operations are often done on a CPU (computer processing unit).\n",
        "\n",
        "However, there's another common piece of hardware called a GPU (graphics processing unit), which is often much faster at performing the specific types of operations neural networks need (matrix multiplications) than CPUs.\n",
        "\n",
        "Your computer might have one.\n",
        "\n",
        "If so, you should look to use it whenever you can to train neural networks because chances are it'll speed up the training time dramatically.\n",
        "\n",
        "There are a few ways to first get access to a GPU and secondly get PyTorch to use the GPU.\n",
        "\n",
        "> **Note:** When I reference \"GPU\" throughout this course, I'm referencing a [Nvidia GPU with CUDA](https://developer.nvidia.com/cuda-gpus) enabled (CUDA is a computing platform and API that helps allow GPUs be used for general purpose computing & not just graphics) unless otherwise specified.\n",
        "\n"
      ]
    },
    {
      "cell_type": "markdown",
      "metadata": {
        "id": "0UiR6QpoYQH_"
      },
      "source": [
        "\n",
        "### 1. Getting a GPU\n",
        "\n",
        "You may already know what's going on when I say GPU. But if not, there are a few ways to get access to one.\n",
        "\n",
        "| **Method** | **Difficulty to setup** | **Pros** | **Cons** | **How to setup** |\n",
        "| ----- | ----- | ----- | ----- | ----- |\n",
        "| Google Colab | Easy | Free to use, almost zero setup required, can share work with others as easy as a link | Doesn't save your data outputs, limited compute, subject to timeouts | [Follow the Google Colab Guide](https://colab.research.google.com/notebooks/gpu.ipynb) |\n",
        "| Use your own | Medium | Run everything locally on your own machine | GPUs aren't free, require upfront cost | Follow the [PyTorch installation guidelines](https://pytorch.org/get-started/locally/) |\n",
        "| Cloud computing (AWS, GCP, Azure) | Medium-Hard | Small upfront cost, access to almost infinite compute | Can get expensive if running continually, takes some time to setup right | Follow the [PyTorch installation guidelines](https://pytorch.org/get-started/cloud-partners/) |\n",
        "\n",
        "There are more options for using GPUs but the above three will suffice for now.\n",
        "\n",
        "Personally, I use a combination of Google Colab and my own personal computer for small scale experiments (and creating this course) and go to cloud resources when I need more compute power.\n",
        "\n",
        "> **Resource:** If you're looking to purchase a GPU of your own but not sure what to get, [Tim Dettmers has an excellent guide](https://timdettmers.com/2020/09/07/which-gpu-for-deep-learning/).\n",
        "\n",
        "To check if you've got access to a Nvidia GPU, you can run `!nvidia-smi` where the `!` (also called bang) means \"run this on the command line\".\n",
        "\n"
      ]
    },
    {
      "cell_type": "code",
      "execution_count": null,
      "metadata": {
        "colab": {
          "base_uri": "https://localhost:8080/"
        },
        "id": "vEMcO-9zYc-w",
        "outputId": "77405db7-3494-4add-cfc7-8415e52a0412"
      },
      "outputs": [
        {
          "name": "stdout",
          "output_type": "stream",
          "text": [
            "Sat Jan 21 08:34:23 2023       \n",
            "+-----------------------------------------------------------------------------+\n",
            "| NVIDIA-SMI 515.48.07    Driver Version: 515.48.07    CUDA Version: 11.7     |\n",
            "|-------------------------------+----------------------+----------------------+\n",
            "| GPU  Name        Persistence-M| Bus-Id        Disp.A | Volatile Uncorr. ECC |\n",
            "| Fan  Temp  Perf  Pwr:Usage/Cap|         Memory-Usage | GPU-Util  Compute M. |\n",
            "|                               |                      |               MIG M. |\n",
            "|===============================+======================+======================|\n",
            "|   0  NVIDIA TITAN RTX    On   | 00000000:01:00.0 Off |                  N/A |\n",
            "| 40%   30C    P8     7W / 280W |    177MiB / 24576MiB |      0%      Default |\n",
            "|                               |                      |                  N/A |\n",
            "+-------------------------------+----------------------+----------------------+\n",
            "                                                                               \n",
            "+-----------------------------------------------------------------------------+\n",
            "| Processes:                                                                  |\n",
            "|  GPU   GI   CI        PID   Type   Process name                  GPU Memory |\n",
            "|        ID   ID                                                   Usage      |\n",
            "|=============================================================================|\n",
            "|    0   N/A  N/A      1061      G   /usr/lib/xorg/Xorg                 53MiB |\n",
            "|    0   N/A  N/A   2671131      G   /usr/lib/xorg/Xorg                 97MiB |\n",
            "|    0   N/A  N/A   2671256      G   /usr/bin/gnome-shell                9MiB |\n",
            "+-----------------------------------------------------------------------------+\n"
          ]
        }
      ],
      "source": [
        "!nvidia-smi"
      ]
    },
    {
      "cell_type": "markdown",
      "metadata": {
        "id": "HvkB9p5zYf8E"
      },
      "source": [
        "If you don't have a Nvidia GPU accessible, the above will output something like:\n",
        "\n",
        "```\n",
        "NVIDIA-SMI has failed because it couldn't communicate with the NVIDIA driver. Make sure that the latest NVIDIA driver is installed and running.\n",
        "```\n",
        "\n",
        "In that case, go back up and follow the install steps.\n",
        "\n",
        "If you do have a GPU, the line above will output something like:\n",
        "\n",
        "```\n",
        "Wed Jan 19 22:09:08 2022       \n",
        "+-----------------------------------------------------------------------------+\n",
        "| NVIDIA-SMI 495.46       Driver Version: 460.32.03    CUDA Version: 11.2     |\n",
        "|-------------------------------+----------------------+----------------------+\n",
        "| GPU  Name        Persistence-M| Bus-Id        Disp.A | Volatile Uncorr. ECC |\n",
        "| Fan  Temp  Perf  Pwr:Usage/Cap|         Memory-Usage | GPU-Util  Compute M. |\n",
        "|                               |                      |               MIG M. |\n",
        "|===============================+======================+======================|\n",
        "|   0  Tesla P100-PCIE...  Off  | 00000000:00:04.0 Off |                    0 |\n",
        "| N/A   35C    P0    27W / 250W |      0MiB / 16280MiB |      0%      Default |\n",
        "|                               |                      |                  N/A |\n",
        "+-------------------------------+----------------------+----------------------+\n",
        "                                                                               \n",
        "+-----------------------------------------------------------------------------+\n",
        "| Processes:                                                                  |\n",
        "|  GPU   GI   CI        PID   Type   Process name                  GPU Memory |\n",
        "|        ID   ID                                                   Usage      |\n",
        "|=============================================================================|\n",
        "|  No running processes found                                                 |\n",
        "+-----------------------------------------------------------------------------+\n",
        "```"
      ]
    },
    {
      "cell_type": "markdown",
      "metadata": {
        "id": "UvibZ6e0YcDk"
      },
      "source": [
        "\n",
        "\n",
        "### 2. Getting PyTorch to run on the GPU\n",
        "\n",
        "Once you've got a GPU ready to access, the next step is getting PyTorch to use for storing data (tensors) and computing on data (performing operations on tensors).\n",
        "\n",
        "To do so, you can use the [`torch.cuda`](https://pytorch.org/docs/stable/cuda.html) package.\n",
        "\n",
        "Rather than talk about it, let's try it out.\n",
        "\n",
        "You can test if PyTorch has access to a GPU using [`torch.cuda.is_available()`](https://pytorch.org/docs/stable/generated/torch.cuda.is_available.html#torch.cuda.is_available).\n"
      ]
    },
    {
      "cell_type": "code",
      "execution_count": null,
      "metadata": {
        "colab": {
          "base_uri": "https://localhost:8080/"
        },
        "id": "OweDLgwjEvZ2",
        "outputId": "3a278a24-3ec3-4b1f-8f96-298086fa6ea6"
      },
      "outputs": [
        {
          "data": {
            "text/plain": [
              "True"
            ]
          },
          "execution_count": 71,
          "metadata": {},
          "output_type": "execute_result"
        }
      ],
      "source": [
        "# Check for GPU\n",
        "import torch\n",
        "torch.cuda.is_available()"
      ]
    },
    {
      "cell_type": "markdown",
      "metadata": {
        "id": "jedZcx2PZFpL"
      },
      "source": [
        "If the above outputs `True`, PyTorch can see and use the GPU, if it outputs `False`, it can't see the GPU and in that case, you'll have to go back through the installation steps.\n",
        "\n",
        "Now, let's say you wanted to setup your code so it ran on CPU *or* the GPU if it was available.\n",
        "\n",
        "That way, if you or someone decides to run your code, it'll work regardless of the computing device they're using.\n",
        "\n",
        "Let's create a `device` variable to store what kind of device is available."
      ]
    },
    {
      "cell_type": "code",
      "execution_count": null,
      "metadata": {
        "colab": {
          "base_uri": "https://localhost:8080/",
          "height": 35
        },
        "id": "j92HBCKB7rYa",
        "outputId": "8cca1643-645c-4b67-f1f5-37066f6b9549"
      },
      "outputs": [
        {
          "data": {
            "text/plain": [
              "'cuda'"
            ]
          },
          "execution_count": 72,
          "metadata": {},
          "output_type": "execute_result"
        }
      ],
      "source": [
        "# Set device type\n",
        "device = \"cuda\" if torch.cuda.is_available() else \"cpu\"\n",
        "device"
      ]
    },
    {
      "cell_type": "markdown",
      "metadata": {
        "id": "FjFyPP2WaCch"
      },
      "source": [
        "If the above output `\"cuda\"` it means we can set all of our PyTorch code to use the available CUDA device (a GPU) and if it output `\"cpu\"`, our PyTorch code will stick with the CPU.\n",
        "\n",
        "> **Note:** In PyTorch, it's best practice to write [**device agnostic code**](https://pytorch.org/docs/master/notes/cuda.html#device-agnostic-code). This means code that'll run on CPU (always available) or GPU (if available).\n",
        "\n",
        "If you want to do faster computing you can use a GPU but if you want to do *much* faster computing, you can use multiple GPUs.\n",
        "\n",
        "You can count the number of GPUs PyTorch has access to using [`torch.cuda.device_count()`](https://pytorch.org/docs/stable/generated/torch.cuda.device_count.html#torch.cuda.device_count)."
      ]
    },
    {
      "cell_type": "code",
      "execution_count": null,
      "metadata": {
        "colab": {
          "base_uri": "https://localhost:8080/"
        },
        "id": "MArsn0DFTGfG",
        "outputId": "de717df5-bb67-4900-805e-a6f00ad0b409"
      },
      "outputs": [
        {
          "data": {
            "text/plain": [
              "1"
            ]
          },
          "execution_count": 73,
          "metadata": {},
          "output_type": "execute_result"
        }
      ],
      "source": [
        "# Count number of devices\n",
        "torch.cuda.device_count()"
      ]
    },
    {
      "cell_type": "markdown",
      "metadata": {
        "id": "xVNf1hiqa-gO"
      },
      "source": [
        "Knowing the number of GPUs PyTorch has access to is helpful incase you wanted to run a specific process on one GPU and another process on another (PyTorch also has features to let you run a process across *all* GPUs)."
      ]
    },
    {
      "cell_type": "markdown",
      "metadata": {
        "id": "VyLGXb5V5D-Q"
      },
      "source": [
        "### 2.1 Getting PyTorch to run on Apple Silicon\n",
        "\n",
        "In order to run PyTorch on Apple's M1/M2/M3 GPUs you can use the [`torch.backends.mps`](https://pytorch.org/docs/stable/notes/mps.html) module.\n",
        "\n",
        "Be sure that the versions of the macOS and Pytorch are updated.\n",
        "\n",
        "You can test if PyTorch has access to a GPU using `torch.backends.mps.is_available()`."
      ]
    },
    {
      "cell_type": "code",
      "execution_count": null,
      "metadata": {
        "id": "1SfiNDXP5D-Q",
        "outputId": "66564fd7-93b9-42a3-b393-ad95e35b5432"
      },
      "outputs": [
        {
          "data": {
            "text/plain": [
              "True"
            ]
          },
          "execution_count": 4,
          "metadata": {},
          "output_type": "execute_result"
        }
      ],
      "source": [
        "# Check for Apple Silicon GPU\n",
        "import torch\n",
        "torch.backends.mps.is_available() # Note this will print false if you're not running on a Mac"
      ]
    },
    {
      "cell_type": "code",
      "execution_count": null,
      "metadata": {
        "id": "XKRYN1Te5D-Q",
        "outputId": "c8aa9f2f-05e0-4865-9d41-a29e534d0e47"
      },
      "outputs": [
        {
          "data": {
            "text/plain": [
              "'mps'"
            ]
          },
          "execution_count": 7,
          "metadata": {},
          "output_type": "execute_result"
        }
      ],
      "source": [
        "# Set device type\n",
        "device = \"mps\" if torch.backends.mps.is_available() else \"cpu\"\n",
        "device"
      ]
    },
    {
      "cell_type": "markdown",
      "metadata": {
        "id": "Pqgx-COu5D-Q"
      },
      "source": [
        "As before, if the above output `\"mps\"` it means we can set all of our PyTorch code to use the available Apple Silicon GPU."
      ]
    },
    {
      "cell_type": "code",
      "execution_count": null,
      "metadata": {
        "id": "yctbh2gm5D-Q"
      },
      "outputs": [],
      "source": [
        "if torch.cuda.is_available():\n",
        "    device = \"cuda\" # Use NVIDIA GPU (if available)\n",
        "elif torch.backends.mps.is_available():\n",
        "    device = \"mps\" # Use Apple Silicon GPU (if available)\n",
        "else:\n",
        "    device = \"cpu\" # Default to CPU if no GPU is available"
      ]
    },
    {
      "cell_type": "markdown",
      "metadata": {
        "id": "XqQLcuj68OA-"
      },
      "source": [
        "### 3. Putting tensors (and models) on the GPU\n",
        "\n",
        "You can put tensors (and models, we'll see this later) on a specific device by calling [`to(device)`](https://pytorch.org/docs/stable/generated/torch.Tensor.to.html) on them. Where `device` is the target device you'd like the tensor (or model) to go to.\n",
        "\n",
        "Why do this?\n",
        "\n",
        "GPUs offer far faster numerical computing than CPUs do and if a GPU isn't available, because of our **device agnostic code** (see above), it'll run on the CPU.\n",
        "\n",
        "> **Note:** Putting a tensor on GPU using `to(device)` (e.g. `some_tensor.to(device)`) returns a copy of that tensor, e.g. the same tensor will be on CPU and GPU. To overwrite tensors, reassign them:\n",
        ">\n",
        "> `some_tensor = some_tensor.to(device)`\n",
        "\n",
        "Let's try creating a tensor and putting it on the GPU (if it's available)."
      ]
    },
    {
      "cell_type": "code",
      "execution_count": null,
      "metadata": {
        "colab": {
          "base_uri": "https://localhost:8080/"
        },
        "id": "FhI3srFXEHfP",
        "outputId": "2f4f6435-fdc4-4e99-e87c-9421c2100f36"
      },
      "outputs": [
        {
          "name": "stdout",
          "output_type": "stream",
          "text": [
            "tensor([1, 2, 3]) cpu\n"
          ]
        },
        {
          "data": {
            "text/plain": [
              "tensor([1, 2, 3], device='mps:0')"
            ]
          },
          "execution_count": 9,
          "metadata": {},
          "output_type": "execute_result"
        }
      ],
      "source": [
        "# Create tensor (default on CPU)\n",
        "tensor = torch.tensor([1, 2, 3])\n",
        "\n",
        "# Tensor not on GPU\n",
        "print(tensor, tensor.device)\n",
        "\n",
        "# Move tensor to GPU (if available)\n",
        "tensor_on_gpu = tensor.to(device)\n",
        "tensor_on_gpu"
      ]
    },
    {
      "cell_type": "markdown",
      "metadata": {
        "id": "DxXeRKO0TGfG"
      },
      "source": [
        "If you have a GPU available, the above code will output something like:\n",
        "\n",
        "```\n",
        "tensor([1, 2, 3]) cpu\n",
        "tensor([1, 2, 3], device='cuda:0')\n",
        "```\n",
        "\n",
        "Notice the second tensor has `device='cuda:0'`, this means it's stored on the 0th GPU available (GPUs are 0 indexed, if two GPUs were available, they'd be `'cuda:0'` and `'cuda:1'` respectively, up to `'cuda:n'`).\n",
        "\n"
      ]
    },
    {
      "cell_type": "markdown",
      "metadata": {
        "id": "4puyUX4Bci5D"
      },
      "source": [
        "### 4. Moving tensors back to the CPU\n",
        "\n",
        "What if we wanted to move the tensor back to CPU?\n",
        "\n",
        "For example, you'll want to do this if you want to interact with your tensors with NumPy (NumPy does not leverage the GPU).\n",
        "\n",
        "Let's try using the [`torch.Tensor.numpy()`](https://pytorch.org/docs/stable/generated/torch.Tensor.numpy.html) method on our `tensor_on_gpu`."
      ]
    },
    {
      "cell_type": "code",
      "execution_count": null,
      "metadata": {
        "colab": {
          "base_uri": "https://localhost:8080/",
          "height": 186
        },
        "id": "3ChSLJgPTGfG",
        "outputId": "32e92f62-db28-4dc7-ce93-c2ab33229252"
      },
      "outputs": [
        {
          "ename": "TypeError",
          "evalue": "can't convert cuda:0 device type tensor to numpy. Use Tensor.cpu() to copy the tensor to host memory first.",
          "output_type": "error",
          "traceback": [
            "\u001b[0;31m---------------------------------------------------------------------------\u001b[0m",
            "\u001b[0;31mTypeError\u001b[0m                                 Traceback (most recent call last)",
            "\u001b[1;32m/home/daniel/code/pytorch/pytorch-course/pytorch-deep-learning/00_pytorch_fundamentals.ipynb Cell 157\u001b[0m in \u001b[0;36m<cell line: 2>\u001b[0;34m()\u001b[0m\n\u001b[1;32m      <a href='vscode-notebook-cell://ssh-remote%2B7b22686f73744e616d65223a22544954414e2d525458227d/home/daniel/code/pytorch/pytorch-course/pytorch-deep-learning/00_pytorch_fundamentals.ipynb#Y312sdnNjb2RlLXJlbW90ZQ%3D%3D?line=0'>1</a>\u001b[0m \u001b[39m# If tensor is on GPU, can't transform it to NumPy (this will error)\u001b[39;00m\n\u001b[0;32m----> <a href='vscode-notebook-cell://ssh-remote%2B7b22686f73744e616d65223a22544954414e2d525458227d/home/daniel/code/pytorch/pytorch-course/pytorch-deep-learning/00_pytorch_fundamentals.ipynb#Y312sdnNjb2RlLXJlbW90ZQ%3D%3D?line=1'>2</a>\u001b[0m tensor_on_gpu\u001b[39m.\u001b[39;49mnumpy()\n",
            "\u001b[0;31mTypeError\u001b[0m: can't convert cuda:0 device type tensor to numpy. Use Tensor.cpu() to copy the tensor to host memory first."
          ]
        }
      ],
      "source": [
        "# If tensor is on GPU, can't transform it to NumPy (this will error)\n",
        "tensor_on_gpu.numpy()"
      ]
    },
    {
      "cell_type": "markdown",
      "metadata": {
        "id": "LhymtkRDTGfG"
      },
      "source": [
        "Instead, to get a tensor back to CPU and usable with NumPy we can use [`Tensor.cpu()`](https://pytorch.org/docs/stable/generated/torch.Tensor.cpu.html).\n",
        "\n",
        "This copies the tensor to CPU memory so it's usable with CPUs."
      ]
    },
    {
      "cell_type": "code",
      "execution_count": null,
      "metadata": {
        "colab": {
          "base_uri": "https://localhost:8080/"
        },
        "id": "gN15s-NdTGfG",
        "outputId": "9fffb6f2-c200-4f9c-d987-d9ab5d9cba49"
      },
      "outputs": [
        {
          "data": {
            "text/plain": [
              "array([1, 2, 3])"
            ]
          },
          "execution_count": 76,
          "metadata": {},
          "output_type": "execute_result"
        }
      ],
      "source": [
        "# Instead, copy the tensor back to cpu\n",
        "tensor_back_on_cpu = tensor_on_gpu.cpu().numpy()\n",
        "tensor_back_on_cpu"
      ]
    },
    {
      "cell_type": "markdown",
      "metadata": {
        "id": "qyzNH5lrTGfH"
      },
      "source": [
        "The above returns a copy of the GPU tensor in CPU memory so the original tensor is still on GPU."
      ]
    },
    {
      "cell_type": "code",
      "execution_count": null,
      "metadata": {
        "colab": {
          "base_uri": "https://localhost:8080/"
        },
        "id": "S5u83PCRTGfH",
        "outputId": "4cb931e2-7c8d-49b9-a7de-db3d3c6589b5"
      },
      "outputs": [
        {
          "data": {
            "text/plain": [
              "tensor([1, 2, 3], device='cuda:0')"
            ]
          },
          "execution_count": 77,
          "metadata": {},
          "output_type": "execute_result"
        }
      ],
      "source": [
        "tensor_on_gpu"
      ]
    },
    {
      "cell_type": "markdown",
      "metadata": {
        "id": "xlmBpnuPTGfH"
      },
      "source": [
        "## Exercises\n",
        "\n",
        "All of the exercises are focused on practicing the code above.\n",
        "\n",
        "You should be able to complete them by referencing each section or by following the resource(s) linked.\n",
        "\n",
        "**Resources:**\n",
        "\n",
        "* [Exercise template notebook for 00](https://github.com/mrdbourke/pytorch-deep-learning/blob/main/extras/exercises/00_pytorch_fundamentals_exercises.ipynb).\n",
        "* [Example solutions notebook for 00](https://github.com/mrdbourke/pytorch-deep-learning/blob/main/extras/solutions/00_pytorch_fundamentals_exercise_solutions.ipynb) (try the exercises *before* looking at this).\n",
        "\n",
        "1. Documentation reading - A big part of deep learning (and learning to code in general) is getting familiar with the documentation of a certain framework you're using. We'll be using the PyTorch documentation a lot throughout the rest of this course. So I'd recommend spending 10-minutes reading the following (it's okay if you don't get some things for now, the focus is not yet full understanding, it's awareness). See the documentation on [`torch.Tensor`](https://pytorch.org/docs/stable/tensors.html#torch-tensor) and for [`torch.cuda`](https://pytorch.org/docs/master/notes/cuda.html#cuda-semantics).\n",
        "2. Create a random tensor with shape `(7, 7)`.\n",
        "3. Perform a matrix multiplication on the tensor from 2 with another random tensor with shape `(1, 7)` (hint: you may have to transpose the second tensor).\n",
        "4. Set the random seed to `0` and do exercises 2 & 3 over again.\n",
        "5. Speaking of random seeds, we saw how to set it with `torch.manual_seed()` but is there a GPU equivalent? (hint: you'll need to look into the documentation for `torch.cuda` for this one). If there is, set the GPU random seed to `1234`.\n",
        "6. Create two random tensors of shape `(2, 3)` and send them both to the GPU (you'll need access to a GPU for this). Set `torch.manual_seed(1234)` when creating the tensors (this doesn't have to be the GPU random seed).\n",
        "7. Perform a matrix multiplication on the tensors you created in 6 (again, you may have to adjust the shapes of one of the tensors).\n",
        "8. Find the maximum and minimum values of the output of 7.\n",
        "9. Find the maximum and minimum index values of the output of 7.\n",
        "10. Make a random tensor with shape `(1, 1, 1, 10)` and then create a new tensor with all the `1` dimensions removed to be left with a tensor of shape `(10)`. Set the seed to `7` when you create it and print out the first tensor and it's shape as well as the second tensor and it's shape."
      ]
    },
    {
      "cell_type": "markdown",
      "metadata": {
        "id": "XupKMWdG5D-R"
      },
      "source": [
        "## Extra-curriculum\n",
        "\n",
        "* Spend 1-hour going through the [PyTorch basics tutorial](https://pytorch.org/tutorials/beginner/basics/intro.html) (I'd recommend the [Quickstart](https://pytorch.org/tutorials/beginner/basics/quickstart_tutorial.html) and [Tensors](https://pytorch.org/tutorials/beginner/basics/tensorqs_tutorial.html) sections).\n",
        "* To learn more on how a tensor can represent data, see this video: [What's a tensor?](https://youtu.be/f5liqUk0ZTw)"
      ]
    },
    {
      "cell_type": "code",
      "source": [],
      "metadata": {
        "id": "0EH4T5dy-xxh"
      },
      "execution_count": null,
      "outputs": []
    },
    {
      "cell_type": "markdown",
      "source": [],
      "metadata": {
        "id": "buYffTdB-z4T"
      }
    },
    {
      "cell_type": "code",
      "source": [],
      "metadata": {
        "id": "fk1A4OyY-0ge"
      },
      "execution_count": null,
      "outputs": []
    },
    {
      "cell_type": "code",
      "source": [],
      "metadata": {
        "id": "NDr5Vkvy-048"
      },
      "execution_count": null,
      "outputs": []
    },
    {
      "cell_type": "code",
      "source": [],
      "metadata": {
        "id": "hpSieEPb-3l8"
      },
      "execution_count": null,
      "outputs": []
    },
    {
      "cell_type": "code",
      "source": [],
      "metadata": {
        "id": "PbpYSfVd-3kB"
      },
      "execution_count": null,
      "outputs": []
    },
    {
      "cell_type": "markdown",
      "metadata": {
        "id": "6kesJ-I1-mCx"
      },
      "source": [
        "\n",
        "\n",
        "#Tensors\n",
        "=======\n",
        "\n",
        "Tensors are a specialized data structure that are very similar to arrays\n",
        "and matrices. In PyTorch, we use tensors to encode the inputs and\n",
        "outputs of a model, as well as the model's parameters.\n",
        "\n",
        "Tensors are similar to [NumPy's](https://numpy.org/) ndarrays, except\n",
        "that tensors can run on GPUs or other hardware accelerators. In fact,\n",
        "tensors and NumPy arrays can often share the same underlying memory,\n",
        "eliminating the need to copy data (see\n",
        "`bridge-to-np-label`{.interpreted-text role=\"ref\"}). Tensors are also\n",
        "optimized for automatic differentiation (we\\'ll see more about that\n",
        "later in the [Autograd](autogradqs_tutorial.html) section). If you're\n",
        "familiar with ndarrays, you'll be right at home with the Tensor API. If\n",
        "not, follow along!\n"
      ]
    },
    {
      "cell_type": "code",
      "execution_count": null,
      "metadata": {
        "id": "sLtsLxWN-mCy"
      },
      "outputs": [],
      "source": [
        "import torch\n",
        "import numpy as np"
      ]
    },
    {
      "cell_type": "markdown",
      "metadata": {
        "id": "XNTts-SY-mCy"
      },
      "source": [
        "##Initializing a Tensor\n",
        "=====================\n",
        "\n",
        "Tensors can be initialized in various ways. Take a look at the following\n",
        "examples:\n",
        "\n",
        "**Directly from data**\n",
        "\n",
        "Tensors can be created directly from data. The data type is\n",
        "automatically inferred.\n"
      ]
    },
    {
      "cell_type": "code",
      "execution_count": null,
      "metadata": {
        "id": "kHemNXMx-mCy"
      },
      "outputs": [],
      "source": [
        "data = [[1, 2],[3, 4]]\n",
        "x_data = torch.tensor(data)"
      ]
    },
    {
      "cell_type": "markdown",
      "metadata": {
        "id": "fy6adKaO-mCy"
      },
      "source": [
        "**From a NumPy array**\n",
        "\n",
        "Tensors can be created from NumPy arrays (and vice versa - see\n",
        "`bridge-to-np-label`{.interpreted-text role=\"ref\"}).\n"
      ]
    },
    {
      "cell_type": "code",
      "execution_count": null,
      "metadata": {
        "id": "STs1mxKu-mCy"
      },
      "outputs": [],
      "source": [
        "np_array = np.array(data)\n",
        "x_np = torch.from_numpy(np_array)"
      ]
    },
    {
      "cell_type": "markdown",
      "metadata": {
        "id": "8PE7zHtK-mCy"
      },
      "source": [
        "**From another tensor:**\n",
        "\n",
        "The new tensor retains the properties (shape, datatype) of the argument\n",
        "tensor, unless explicitly overridden.\n"
      ]
    },
    {
      "cell_type": "code",
      "execution_count": null,
      "metadata": {
        "id": "03xMy7g6-mCy"
      },
      "outputs": [],
      "source": [
        "x_ones = torch.ones_like(x_data) # retains the properties of x_data\n",
        "print(f\"Ones Tensor: \\n {x_ones} \\n\")\n",
        "\n",
        "x_rand = torch.rand_like(x_data, dtype=torch.float) # overrides the datatype of x_data\n",
        "print(f\"Random Tensor: \\n {x_rand} \\n\")"
      ]
    },
    {
      "cell_type": "markdown",
      "metadata": {
        "id": "5FnekSGd-mCy"
      },
      "source": [
        "**With random or constant values:**\n",
        "\n",
        "`shape` is a tuple of tensor dimensions. In the functions below, it\n",
        "determines the dimensionality of the output tensor.\n"
      ]
    },
    {
      "cell_type": "code",
      "execution_count": null,
      "metadata": {
        "id": "kufhSIge-mCy"
      },
      "outputs": [],
      "source": [
        "shape = (2,3,)\n",
        "rand_tensor = torch.rand(shape)\n",
        "ones_tensor = torch.ones(shape)\n",
        "zeros_tensor = torch.zeros(shape)\n",
        "\n",
        "print(f\"Random Tensor: \\n {rand_tensor} \\n\")\n",
        "print(f\"Ones Tensor: \\n {ones_tensor} \\n\")\n",
        "print(f\"Zeros Tensor: \\n {zeros_tensor}\")"
      ]
    },
    {
      "cell_type": "markdown",
      "metadata": {
        "id": "Q5qLmihP-mCy"
      },
      "source": [
        "------------------------------------------------------------------------\n"
      ]
    },
    {
      "cell_type": "markdown",
      "metadata": {
        "id": "ud6qcCe7-mCz"
      },
      "source": [
        "##Attributes of a Tensor\n",
        "======================\n",
        "\n",
        "Tensor attributes describe their shape, datatype, and the device on\n",
        "which they are stored.\n"
      ]
    },
    {
      "cell_type": "code",
      "execution_count": null,
      "metadata": {
        "id": "HDNA7V9r-mCz"
      },
      "outputs": [],
      "source": [
        "tensor = torch.rand(3,4)\n",
        "\n",
        "print(f\"Shape of tensor: {tensor.shape}\")\n",
        "print(f\"Datatype of tensor: {tensor.dtype}\")\n",
        "print(f\"Device tensor is stored on: {tensor.device}\")"
      ]
    },
    {
      "cell_type": "markdown",
      "metadata": {
        "id": "sVKJ5ZQE-mCz"
      },
      "source": [
        "------------------------------------------------------------------------\n"
      ]
    },
    {
      "cell_type": "markdown",
      "metadata": {
        "id": "X-MXvmtc-mCz"
      },
      "source": [
        "##Operations on Tensors\n",
        "=====================\n",
        "\n",
        "Over 100 tensor operations, including arithmetic, linear algebra, matrix\n",
        "manipulation (transposing, indexing, slicing), sampling and more are\n",
        "comprehensively described\n",
        "[here](https://pytorch.org/docs/stable/torch.html).\n",
        "\n",
        "Each of these operations can be run on the GPU (at typically higher\n",
        "speeds than on a CPU). If you're using Colab, allocate a GPU by going to\n",
        "Runtime \\> Change runtime type \\> GPU.\n",
        "\n",
        "By default, tensors are created on the CPU. We need to explicitly move\n",
        "tensors to the GPU using `.to` method (after checking for GPU\n",
        "availability). Keep in mind that copying large tensors across devices\n",
        "can be expensive in terms of time and memory!\n"
      ]
    },
    {
      "cell_type": "code",
      "execution_count": null,
      "metadata": {
        "id": "BouyGH3t-mCz"
      },
      "outputs": [],
      "source": [
        "# We move our tensor to the GPU if available\n",
        "if torch.cuda.is_available():\n",
        "    tensor = tensor.to(\"cuda\")"
      ]
    },
    {
      "cell_type": "markdown",
      "metadata": {
        "id": "D6sqTxbF-mCz"
      },
      "source": [
        "Try out some of the operations from the list. If you\\'re familiar with\n",
        "the NumPy API, you\\'ll find the Tensor API a breeze to use.\n"
      ]
    },
    {
      "cell_type": "markdown",
      "metadata": {
        "id": "ByMTf0bA-mCz"
      },
      "source": [
        "**Standard numpy-like indexing and slicing:**\n"
      ]
    },
    {
      "cell_type": "code",
      "execution_count": null,
      "metadata": {
        "id": "d6t6L2DC-mCz"
      },
      "outputs": [],
      "source": [
        "tensor = torch.ones(4, 4)\n",
        "print(f\"First row: {tensor[0]}\")\n",
        "print(f\"First column: {tensor[:, 0]}\")\n",
        "print(f\"Last column: {tensor[..., -1]}\")\n",
        "tensor[:,1] = 0\n",
        "print(tensor)"
      ]
    },
    {
      "cell_type": "markdown",
      "metadata": {
        "id": "pi62CDKk-mCz"
      },
      "source": [
        "**Joining tensors** You can use `torch.cat` to concatenate a sequence of\n",
        "tensors along a given dimension. See also\n",
        "[torch.stack](https://pytorch.org/docs/stable/generated/torch.stack.html),\n",
        "another tensor joining operator that is subtly different from\n",
        "`torch.cat`.\n"
      ]
    },
    {
      "cell_type": "code",
      "execution_count": null,
      "metadata": {
        "id": "hddssU3B-mCz"
      },
      "outputs": [],
      "source": [
        "t1 = torch.cat([tensor, tensor, tensor], dim=1)\n",
        "print(t1)"
      ]
    },
    {
      "cell_type": "markdown",
      "metadata": {
        "id": "hnHdo3Ch-mCz"
      },
      "source": [
        "**Arithmetic operations**\n"
      ]
    },
    {
      "cell_type": "code",
      "execution_count": null,
      "metadata": {
        "id": "gyLA1Wz0-mCz"
      },
      "outputs": [],
      "source": [
        "# This computes the matrix multiplication between two tensors. y1, y2, y3 will have the same value\n",
        "# ``tensor.T`` returns the transpose of a tensor\n",
        "y1 = tensor @ tensor.T\n",
        "y2 = tensor.matmul(tensor.T)\n",
        "\n",
        "y3 = torch.rand_like(y1)\n",
        "torch.matmul(tensor, tensor.T, out=y3)\n",
        "\n",
        "\n",
        "# This computes the element-wise product. z1, z2, z3 will have the same value\n",
        "z1 = tensor * tensor\n",
        "z2 = tensor.mul(tensor)\n",
        "\n",
        "z3 = torch.rand_like(tensor)\n",
        "torch.mul(tensor, tensor, out=z3)"
      ]
    },
    {
      "cell_type": "markdown",
      "metadata": {
        "id": "u2w5-IKB-mCz"
      },
      "source": [
        "**Single-element tensors** If you have a one-element tensor, for example\n",
        "by aggregating all values of a tensor into one value, you can convert it\n",
        "to a Python numerical value using `item()`:\n"
      ]
    },
    {
      "cell_type": "code",
      "execution_count": null,
      "metadata": {
        "id": "xSSZaS1d-mCz"
      },
      "outputs": [],
      "source": [
        "agg = tensor.sum()\n",
        "agg_item = agg.item()\n",
        "print(agg_item, type(agg_item))"
      ]
    },
    {
      "cell_type": "markdown",
      "metadata": {
        "id": "kA7mdEq3-mCz"
      },
      "source": [
        "**In-place operations** Operations that store the result into the\n",
        "operand are called in-place. They are denoted by a `_` suffix. For\n",
        "example: `x.copy_(y)`, `x.t_()`, will change `x`.\n"
      ]
    },
    {
      "cell_type": "code",
      "execution_count": null,
      "metadata": {
        "id": "iKleCZ4i-mCz"
      },
      "outputs": [],
      "source": [
        "print(f\"{tensor} \\n\")\n",
        "tensor.add_(5)\n",
        "print(tensor)"
      ]
    },
    {
      "cell_type": "markdown",
      "metadata": {
        "id": "8rVYzlze-mCz"
      },
      "source": [
        "<div style=\"background-color: #54c7ec; color: #fff; font-weight: 700; padding-left: 10px; padding-top: 5px; padding-bottom: 5px\"><strong>NOTE:</strong></div>\n",
        "<div style=\"background-color: #f3f4f7; padding-left: 10px; padding-top: 10px; padding-bottom: 10px; padding-right: 10px\">\n",
        "<p>In-place operations save some memory, but can be problematic when computing derivatives because of an immediate lossof history. Hence, their use is discouraged.</p>\n",
        "</div>\n"
      ]
    },
    {
      "cell_type": "markdown",
      "metadata": {
        "id": "G0j1mhk8-mCz"
      },
      "source": [
        "------------------------------------------------------------------------\n"
      ]
    },
    {
      "cell_type": "markdown",
      "metadata": {
        "id": "TPBVbfXY-mC0"
      },
      "source": [
        "##Bridge with NumPy {#bridge-to-np-label}\n",
        "=================\n",
        "\n",
        "Tensors on the CPU and NumPy arrays can share their underlying memory\n",
        "locations, and changing one will change the other.\n"
      ]
    },
    {
      "cell_type": "markdown",
      "metadata": {
        "id": "2VzHJIwC-mC0"
      },
      "source": [
        "##Tensor to NumPy array\n",
        "=====================\n"
      ]
    },
    {
      "cell_type": "code",
      "execution_count": null,
      "metadata": {
        "id": "vufBtBhG-mC0"
      },
      "outputs": [],
      "source": [
        "t = torch.ones(5)\n",
        "print(f\"t: {t}\")\n",
        "n = t.numpy()\n",
        "print(f\"n: {n}\")"
      ]
    },
    {
      "cell_type": "markdown",
      "metadata": {
        "id": "r_jxENpz-mC0"
      },
      "source": [
        "A change in the tensor reflects in the NumPy array.\n"
      ]
    },
    {
      "cell_type": "code",
      "execution_count": null,
      "metadata": {
        "id": "i5m-3QUj-mC0"
      },
      "outputs": [],
      "source": [
        "t.add_(1)\n",
        "print(f\"t: {t}\")\n",
        "print(f\"n: {n}\")"
      ]
    },
    {
      "cell_type": "markdown",
      "metadata": {
        "id": "Fmqqtly_-mC0"
      },
      "source": [
        "##NumPy array to Tensor\n",
        "=====================\n"
      ]
    },
    {
      "cell_type": "code",
      "execution_count": null,
      "metadata": {
        "id": "7EJ9QL6q-mC0"
      },
      "outputs": [],
      "source": [
        "n = np.ones(5)\n",
        "t = torch.from_numpy(n)"
      ]
    },
    {
      "cell_type": "markdown",
      "metadata": {
        "id": "1e29klfm-mC0"
      },
      "source": [
        "Changes in the NumPy array reflects in the tensor.\n"
      ]
    },
    {
      "cell_type": "code",
      "execution_count": null,
      "metadata": {
        "id": "ouQmdacc-mC0"
      },
      "outputs": [],
      "source": [
        "np.add(n, 1, out=n)\n",
        "print(f\"t: {t}\")\n",
        "print(f\"n: {n}\")"
      ]
    },
    {
      "cell_type": "code",
      "source": [],
      "metadata": {
        "id": "hUGwfYeh_lLo"
      },
      "execution_count": null,
      "outputs": []
    },
    {
      "cell_type": "code",
      "source": [],
      "metadata": {
        "id": "3zkHog61_lqk"
      },
      "execution_count": null,
      "outputs": []
    },
    {
      "cell_type": "code",
      "source": [],
      "metadata": {
        "id": "x_ozQxEp_loj"
      },
      "execution_count": null,
      "outputs": []
    },
    {
      "cell_type": "markdown",
      "metadata": {
        "id": "ilw9Y9JW_o7i"
      },
      "source": [
        "[Learn the Basics](intro.html) \\|\\|\n",
        "[Quickstart](quickstart_tutorial.html) \\|\\|\n",
        "[Tensors](tensorqs_tutorial.html) \\|\\| **Datasets & DataLoaders** \\|\\|\n",
        "[Transforms](transforms_tutorial.html) \\|\\| [Build\n",
        "Model](buildmodel_tutorial.html) \\|\\|\n",
        "[Autograd](autogradqs_tutorial.html) \\|\\|\n",
        "[Optimization](optimization_tutorial.html) \\|\\| [Save & Load\n",
        "Model](saveloadrun_tutorial.html)\n",
        "\n",
        "Datasets & DataLoaders\n",
        "======================\n"
      ]
    },
    {
      "cell_type": "markdown",
      "metadata": {
        "id": "oQhNRg_R_o7j"
      },
      "source": [
        "Code for processing data samples can get messy and hard to maintain; we\n",
        "ideally want our dataset code to be decoupled from our model training\n",
        "code for better readability and modularity. PyTorch provides two data\n",
        "primitives: `torch.utils.data.DataLoader` and `torch.utils.data.Dataset`\n",
        "that allow you to use pre-loaded datasets as well as your own data.\n",
        "`Dataset` stores the samples and their corresponding labels, and\n",
        "`DataLoader` wraps an iterable around the `Dataset` to enable easy\n",
        "access to the samples.\n",
        "\n",
        "PyTorch domain libraries provide a number of pre-loaded datasets (such\n",
        "as FashionMNIST) that subclass `torch.utils.data.Dataset` and implement\n",
        "functions specific to the particular data. They can be used to prototype\n",
        "and benchmark your model. You can find them here: [Image\n",
        "Datasets](https://pytorch.org/vision/stable/datasets.html), [Text\n",
        "Datasets](https://pytorch.org/text/stable/datasets.html), and [Audio\n",
        "Datasets](https://pytorch.org/audio/stable/datasets.html)\n"
      ]
    },
    {
      "cell_type": "markdown",
      "metadata": {
        "id": "lX26pLDY_o7j"
      },
      "source": [
        "##Loading a Dataset\n",
        "=================\n",
        "\n",
        "Here is an example of how to load the\n",
        "[Fashion-MNIST](https://research.zalando.com/project/fashion_mnist/fashion_mnist/)\n",
        "dataset from TorchVision. Fashion-MNIST is a dataset of Zalando's\n",
        "article images consisting of 60,000 training examples and 10,000 test\n",
        "examples. Each example comprises a 28×28 grayscale image and an\n",
        "associated label from one of 10 classes.\n",
        "\n",
        "We load the [FashionMNIST Dataset](https://pytorch.org/vision/stable/datasets.html#fashion-mnist) with the following parameters:\n",
        "\n",
        ":   -   `root` is the path where the train/test data is stored,\n",
        "    -   `train` specifies training or test dataset,\n",
        "    -   `download=True` downloads the data from the internet if it\\'s\n",
        "        not available at `root`.\n",
        "    -   `transform` and `target_transform` specify the feature and label\n",
        "        transformations\n"
      ]
    },
    {
      "cell_type": "code",
      "execution_count": null,
      "metadata": {
        "id": "ynz1mfnK_o7j"
      },
      "outputs": [],
      "source": [
        "import torch\n",
        "from torch.utils.data import Dataset\n",
        "from torchvision import datasets\n",
        "from torchvision.transforms import ToTensor\n",
        "import matplotlib.pyplot as plt\n",
        "\n",
        "\n",
        "training_data = datasets.FashionMNIST(\n",
        "    root=\"data\",\n",
        "    train=True,\n",
        "    download=True,\n",
        "    transform=ToTensor()\n",
        ")\n",
        "\n",
        "test_data = datasets.FashionMNIST(\n",
        "    root=\"data\",\n",
        "    train=False,\n",
        "    download=True,\n",
        "    transform=ToTensor()\n",
        ")"
      ]
    },
    {
      "cell_type": "markdown",
      "metadata": {
        "id": "qmCmW8Nz_o7j"
      },
      "source": [
        "##Iterating and Visualizing the Dataset\n",
        "=====================================\n",
        "\n",
        "We can index `Datasets` manually like a list: `training_data[index]`. We\n",
        "use `matplotlib` to visualize some samples in our training data.\n"
      ]
    },
    {
      "cell_type": "code",
      "execution_count": null,
      "metadata": {
        "id": "Y-tlEtN0_o7k"
      },
      "outputs": [],
      "source": [
        "labels_map = {\n",
        "    0: \"T-Shirt\",\n",
        "    1: \"Trouser\",\n",
        "    2: \"Pullover\",\n",
        "    3: \"Dress\",\n",
        "    4: \"Coat\",\n",
        "    5: \"Sandal\",\n",
        "    6: \"Shirt\",\n",
        "    7: \"Sneaker\",\n",
        "    8: \"Bag\",\n",
        "    9: \"Ankle Boot\",\n",
        "}\n",
        "figure = plt.figure(figsize=(8, 8))\n",
        "cols, rows = 3, 3\n",
        "for i in range(1, cols * rows + 1):\n",
        "    sample_idx = torch.randint(len(training_data), size=(1,)).item()\n",
        "    img, label = training_data[sample_idx]\n",
        "    figure.add_subplot(rows, cols, i)\n",
        "    plt.title(labels_map[label])\n",
        "    plt.axis(\"off\")\n",
        "    plt.imshow(img.squeeze(), cmap=\"gray\")\n",
        "plt.show()"
      ]
    },
    {
      "cell_type": "markdown",
      "metadata": {
        "id": "FSKchSnY_o7k"
      },
      "source": [
        "------------------------------------------------------------------------\n"
      ]
    },
    {
      "cell_type": "markdown",
      "metadata": {
        "id": "1va6U5Qk_o7k"
      },
      "source": [
        "##Creating a Custom Dataset for your files\n",
        "========================================\n",
        "\n",
        "A custom Dataset class must implement three functions:\n",
        "[\\_\\_init\\_\\_]{.title-ref}, [\\_\\_len\\_\\_]{.title-ref}, and\n",
        "[\\_\\_getitem\\_\\_]{.title-ref}. Take a look at this implementation; the\n",
        "FashionMNIST images are stored in a directory `img_dir`, and their\n",
        "labels are stored separately in a CSV file `annotations_file`.\n",
        "\n",
        "In the next sections, we\\'ll break down what\\'s happening in each of\n",
        "these functions.\n"
      ]
    },
    {
      "cell_type": "code",
      "execution_count": null,
      "metadata": {
        "id": "wp9ycawO_o7k"
      },
      "outputs": [],
      "source": [
        "import os\n",
        "import pandas as pd\n",
        "from torchvision.io import read_image\n",
        "\n",
        "class CustomImageDataset(Dataset):\n",
        "    def __init__(self, annotations_file, img_dir, transform=None, target_transform=None):\n",
        "        self.img_labels = pd.read_csv(annotations_file)\n",
        "        self.img_dir = img_dir\n",
        "        self.transform = transform\n",
        "        self.target_transform = target_transform\n",
        "\n",
        "    def __len__(self):\n",
        "        return len(self.img_labels)\n",
        "\n",
        "    def __getitem__(self, idx):\n",
        "        img_path = os.path.join(self.img_dir, self.img_labels.iloc[idx, 0])\n",
        "        image = read_image(img_path)\n",
        "        label = self.img_labels.iloc[idx, 1]\n",
        "        if self.transform:\n",
        "            image = self.transform(image)\n",
        "        if self.target_transform:\n",
        "            label = self.target_transform(label)\n",
        "        return image, label"
      ]
    },
    {
      "cell_type": "markdown",
      "metadata": {
        "id": "bs5pCo13_o7k"
      },
      "source": [
        "###`__init__`\n",
        "==========\n",
        "\n",
        "The \\_\\_[init]() function is run once when instantiating the Dataset\n",
        "object. We initialize the directory containing the images, the\n",
        "annotations file, and both transforms (covered in more detail in the\n",
        "next section).\n",
        "\n",
        "The labels.csv file looks like: :\n",
        "\n",
        "    tshirt1.jpg, 0\n",
        "    tshirt2.jpg, 0\n",
        "    ......\n",
        "    ankleboot999.jpg, 9\n"
      ]
    },
    {
      "cell_type": "code",
      "execution_count": null,
      "metadata": {
        "id": "sRWzkVit_o7k"
      },
      "outputs": [],
      "source": [
        "def __init__(self, annotations_file, img_dir, transform=None, target_transform=None):\n",
        "    self.img_labels = pd.read_csv(annotations_file)\n",
        "    self.img_dir = img_dir\n",
        "    self.transform = transform\n",
        "    self.target_transform = target_transform"
      ]
    },
    {
      "cell_type": "markdown",
      "metadata": {
        "id": "eXss-1uu_o7k"
      },
      "source": [
        "##`__len__`\n",
        "=========\n",
        "\n",
        "The \\_\\_[len]() function returns the number of samples in our dataset.\n",
        "\n",
        "Example:\n"
      ]
    },
    {
      "cell_type": "code",
      "execution_count": null,
      "metadata": {
        "id": "hyF0Pk7t_o7k"
      },
      "outputs": [],
      "source": [
        "def __len__(self):\n",
        "    return len(self.img_labels)"
      ]
    },
    {
      "cell_type": "markdown",
      "metadata": {
        "id": "4GtJkn_K_o7k"
      },
      "source": [
        "##`__getitem__`\n",
        "=============\n",
        "\n",
        "The \\_\\_[getitem]() function loads and returns a sample from the dataset\n",
        "at the given index `idx`. Based on the index, it identifies the image\\'s\n",
        "location on disk, converts that to a tensor using `read_image`,\n",
        "retrieves the corresponding label from the csv data in\n",
        "`self.img_labels`, calls the transform functions on them (if\n",
        "applicable), and returns the tensor image and corresponding label in a\n",
        "tuple.\n"
      ]
    },
    {
      "cell_type": "code",
      "execution_count": null,
      "metadata": {
        "id": "5alLi2hy_o7k"
      },
      "outputs": [],
      "source": [
        "def __getitem__(self, idx):\n",
        "    img_path = os.path.join(self.img_dir, self.img_labels.iloc[idx, 0])\n",
        "    image = read_image(img_path)\n",
        "    label = self.img_labels.iloc[idx, 1]\n",
        "    if self.transform:\n",
        "        image = self.transform(image)\n",
        "    if self.target_transform:\n",
        "        label = self.target_transform(label)\n",
        "    return image, label"
      ]
    },
    {
      "cell_type": "markdown",
      "metadata": {
        "id": "yjj7oK3f_o7k"
      },
      "source": [
        "------------------------------------------------------------------------\n"
      ]
    },
    {
      "cell_type": "markdown",
      "metadata": {
        "id": "hlAiPGac_o7l"
      },
      "source": [
        "##Preparing your data for training with DataLoaders\n",
        "=================================================\n",
        "\n",
        "The `Dataset` retrieves our dataset\\'s features and labels one sample at\n",
        "a time. While training a model, we typically want to pass samples in\n",
        "\\\"minibatches\\\", reshuffle the data at every epoch to reduce model\n",
        "overfitting, and use Python\\'s `multiprocessing` to speed up data\n",
        "retrieval.\n",
        "\n",
        "`DataLoader` is an iterable that abstracts this complexity for us in an\n",
        "easy API.\n"
      ]
    },
    {
      "cell_type": "code",
      "execution_count": null,
      "metadata": {
        "id": "AMH7tTQk_o7l"
      },
      "outputs": [],
      "source": [
        "from torch.utils.data import DataLoader\n",
        "\n",
        "train_dataloader = DataLoader(training_data, batch_size=64, shuffle=True)\n",
        "test_dataloader = DataLoader(test_data, batch_size=64, shuffle=True)"
      ]
    },
    {
      "cell_type": "markdown",
      "metadata": {
        "id": "U322qcb2_o7l"
      },
      "source": [
        "##Iterate through the DataLoader\n",
        "==============================\n",
        "\n",
        "We have loaded that dataset into the `DataLoader` and can iterate\n",
        "through the dataset as needed. Each iteration below returns a batch of\n",
        "`train_features` and `train_labels` (containing `batch_size=64` features\n",
        "and labels respectively). Because we specified `shuffle=True`, after we\n",
        "iterate over all batches the data is shuffled (for finer-grained control\n",
        "over the data loading order, take a look at\n",
        "[Samplers](https://pytorch.org/docs/stable/data.html#data-loading-order-and-sampler)).\n"
      ]
    },
    {
      "cell_type": "code",
      "execution_count": null,
      "metadata": {
        "id": "CY7SaNIo_o7l"
      },
      "outputs": [],
      "source": [
        "# Display image and label.\n",
        "train_features, train_labels = next(iter(train_dataloader))\n",
        "print(f\"Feature batch shape: {train_features.size()}\")\n",
        "print(f\"Labels batch shape: {train_labels.size()}\")\n",
        "img = train_features[0].squeeze()\n",
        "label = train_labels[0]\n",
        "plt.imshow(img, cmap=\"gray\")\n",
        "plt.show()\n",
        "print(f\"Label: {label}\")"
      ]
    },
    {
      "cell_type": "markdown",
      "metadata": {
        "id": "pZkAcQD7_o7l"
      },
      "source": [
        "------------------------------------------------------------------------\n"
      ]
    },
    {
      "cell_type": "markdown",
      "metadata": {
        "id": "OdEFomXb_o7l"
      },
      "source": [
        "##Further Reading\n",
        "===============\n",
        "\n",
        "-   [torch.utils.data API](https://pytorch.org/docs/stable/data.html)\n"
      ]
    },
    {
      "cell_type": "code",
      "source": [],
      "metadata": {
        "id": "mPI_6mQfBBIK"
      },
      "execution_count": null,
      "outputs": []
    },
    {
      "cell_type": "code",
      "source": [],
      "metadata": {
        "id": "Nzx_z42BBBo7"
      },
      "execution_count": null,
      "outputs": []
    },
    {
      "cell_type": "code",
      "source": [],
      "metadata": {
        "id": "72QFt8CCBBl9"
      },
      "execution_count": null,
      "outputs": []
    },
    {
      "cell_type": "markdown",
      "metadata": {
        "id": "OmClQFzJA4rk"
      },
      "source": [
        "\n",
        "\n",
        "Build the Neural Network\n",
        "========================\n",
        "\n",
        "Neural networks comprise of layers/modules that perform operations on\n",
        "data. The [torch.nn](https://pytorch.org/docs/stable/nn.html) namespace\n",
        "provides all the building blocks you need to build your own neural\n",
        "network. Every module in PyTorch subclasses the\n",
        "[nn.Module](https://pytorch.org/docs/stable/generated/torch.nn.Module.html).\n",
        "A neural network is a module itself that consists of other modules\n",
        "(layers). This nested structure allows for building and managing complex\n",
        "architectures easily.\n",
        "\n",
        "In the following sections, we\\'ll build a neural network to classify\n",
        "images in the FashionMNIST dataset.\n"
      ]
    },
    {
      "cell_type": "code",
      "execution_count": null,
      "metadata": {
        "id": "_nXAp2ksA4rm"
      },
      "outputs": [],
      "source": [
        "import os\n",
        "import torch\n",
        "from torch import nn\n",
        "from torch.utils.data import DataLoader\n",
        "from torchvision import datasets, transforms"
      ]
    },
    {
      "cell_type": "markdown",
      "metadata": {
        "id": "hxmaaaKmA4rm"
      },
      "source": [
        "##Get Device for Training\n",
        "=======================\n",
        "\n",
        "We want to be able to train our model on a hardware accelerator like the\n",
        "GPU or MPS, if available. Let\\'s check to see if\n",
        "[torch.cuda](https://pytorch.org/docs/stable/notes/cuda.html) or\n",
        "[torch.backends.mps](https://pytorch.org/docs/stable/notes/mps.html) are\n",
        "available, otherwise we use the CPU.\n"
      ]
    },
    {
      "cell_type": "code",
      "execution_count": null,
      "metadata": {
        "id": "XZ5Tilg6A4rm"
      },
      "outputs": [],
      "source": [
        "device = (\n",
        "    \"cuda\"\n",
        "    if torch.cuda.is_available()\n",
        "    else \"mps\"\n",
        "    if torch.backends.mps.is_available()\n",
        "    else \"cpu\"\n",
        ")\n",
        "print(f\"Using {device} device\")"
      ]
    },
    {
      "cell_type": "markdown",
      "metadata": {
        "id": "nHiUN7WhA4rm"
      },
      "source": [
        "##Define the Class\n",
        "================\n",
        "\n",
        "We define our neural network by subclassing `nn.Module`, and initialize\n",
        "the neural network layers in `__init__`. Every `nn.Module` subclass\n",
        "implements the operations on input data in the `forward` method.\n"
      ]
    },
    {
      "cell_type": "code",
      "execution_count": null,
      "metadata": {
        "id": "OA9XhNDfA4rm"
      },
      "outputs": [],
      "source": [
        "class NeuralNetwork(nn.Module):\n",
        "    def __init__(self):\n",
        "        super().__init__()\n",
        "        self.flatten = nn.Flatten()\n",
        "        self.linear_relu_stack = nn.Sequential(\n",
        "            nn.Linear(28*28, 512),\n",
        "            nn.ReLU(),\n",
        "            nn.Linear(512, 512),\n",
        "            nn.ReLU(),\n",
        "            nn.Linear(512, 10),\n",
        "        )\n",
        "\n",
        "    def forward(self, x):\n",
        "        x = self.flatten(x)\n",
        "        logits = self.linear_relu_stack(x)\n",
        "        return logits"
      ]
    },
    {
      "cell_type": "markdown",
      "metadata": {
        "id": "0jIWLMJTA4rn"
      },
      "source": [
        "We create an instance of `NeuralNetwork`, and move it to the `device`,\n",
        "and print its structure.\n"
      ]
    },
    {
      "cell_type": "code",
      "execution_count": null,
      "metadata": {
        "id": "RhrHCTH-A4rn"
      },
      "outputs": [],
      "source": [
        "model = NeuralNetwork().to(device)\n",
        "print(model)"
      ]
    },
    {
      "cell_type": "markdown",
      "metadata": {
        "id": "z8677gM2A4rn"
      },
      "source": [
        "To use the model, we pass it the input data. This executes the model\\'s\n",
        "`forward`, along with some [background\n",
        "operations](https://github.com/pytorch/pytorch/blob/270111b7b611d174967ed204776985cefca9c144/torch/nn/modules/module.py#L866).\n",
        "Do not call `model.forward()` directly!\n",
        "\n",
        "Calling the model on the input returns a 2-dimensional tensor with dim=0\n",
        "corresponding to each output of 10 raw predicted values for each class,\n",
        "and dim=1 corresponding to the individual values of each output. We get\n",
        "the prediction probabilities by passing it through an instance of the\n",
        "`nn.Softmax` module.\n"
      ]
    },
    {
      "cell_type": "code",
      "execution_count": null,
      "metadata": {
        "id": "XgMRsrmtA4rn"
      },
      "outputs": [],
      "source": [
        "X = torch.rand(1, 28, 28, device=device)\n",
        "logits = model(X)\n",
        "pred_probab = nn.Softmax(dim=1)(logits)\n",
        "y_pred = pred_probab.argmax(1)\n",
        "print(f\"Predicted class: {y_pred}\")"
      ]
    },
    {
      "cell_type": "markdown",
      "metadata": {
        "id": "yfIspoz7A4rn"
      },
      "source": [
        "------------------------------------------------------------------------\n"
      ]
    },
    {
      "cell_type": "markdown",
      "metadata": {
        "id": "GhgJx8NRA4ro"
      },
      "source": [
        "##Model Layers\n",
        "============\n",
        "\n",
        "Let\\'s break down the layers in the FashionMNIST model. To illustrate\n",
        "it, we will take a sample minibatch of 3 images of size 28x28 and see\n",
        "what happens to it as we pass it through the network.\n"
      ]
    },
    {
      "cell_type": "code",
      "execution_count": null,
      "metadata": {
        "id": "kImg3xGFA4ro"
      },
      "outputs": [],
      "source": [
        "input_image = torch.rand(3,28,28)\n",
        "print(input_image.size())"
      ]
    },
    {
      "cell_type": "markdown",
      "metadata": {
        "id": "qwmsTr15A4ro"
      },
      "source": [
        "##nn.Flatten\n",
        "==========\n",
        "\n",
        "We initialize the\n",
        "[nn.Flatten](https://pytorch.org/docs/stable/generated/torch.nn.Flatten.html)\n",
        "layer to convert each 2D 28x28 image into a contiguous array of 784\n",
        "pixel values ( the minibatch dimension (at dim=0) is maintained).\n"
      ]
    },
    {
      "cell_type": "code",
      "execution_count": null,
      "metadata": {
        "id": "DQJs9xA3A4ro"
      },
      "outputs": [],
      "source": [
        "flatten = nn.Flatten()\n",
        "flat_image = flatten(input_image)\n",
        "print(flat_image.size())"
      ]
    },
    {
      "cell_type": "markdown",
      "metadata": {
        "id": "QeQSrDulA4ro"
      },
      "source": [
        "##nn.Linear\n",
        "=========\n",
        "\n",
        "The [linear\n",
        "layer](https://pytorch.org/docs/stable/generated/torch.nn.Linear.html)\n",
        "is a module that applies a linear transformation on the input using its\n",
        "stored weights and biases.\n"
      ]
    },
    {
      "cell_type": "code",
      "execution_count": null,
      "metadata": {
        "id": "FCSEchvJA4ro"
      },
      "outputs": [],
      "source": [
        "layer1 = nn.Linear(in_features=28*28, out_features=20)\n",
        "hidden1 = layer1(flat_image)\n",
        "print(hidden1.size())"
      ]
    },
    {
      "cell_type": "markdown",
      "metadata": {
        "id": "-X_kwb5HA4rp"
      },
      "source": [
        "##nn.ReLU\n",
        "=======\n",
        "\n",
        "Non-linear activations are what create the complex mappings between the\n",
        "model\\'s inputs and outputs. They are applied after linear\n",
        "transformations to introduce *nonlinearity*, helping neural networks\n",
        "learn a wide variety of phenomena.\n",
        "\n",
        "In this model, we use\n",
        "[nn.ReLU](https://pytorch.org/docs/stable/generated/torch.nn.ReLU.html)\n",
        "between our linear layers, but there\\'s other activations to introduce\n",
        "non-linearity in your model.\n"
      ]
    },
    {
      "cell_type": "code",
      "execution_count": null,
      "metadata": {
        "id": "oXsy-0pOA4rp"
      },
      "outputs": [],
      "source": [
        "print(f\"Before ReLU: {hidden1}\\n\\n\")\n",
        "hidden1 = nn.ReLU()(hidden1)\n",
        "print(f\"After ReLU: {hidden1}\")"
      ]
    },
    {
      "cell_type": "markdown",
      "metadata": {
        "id": "gQV6Wkj5A4rp"
      },
      "source": [
        "##nn.Sequential\n",
        "=============\n",
        "\n",
        "[nn.Sequential](https://pytorch.org/docs/stable/generated/torch.nn.Sequential.html)\n",
        "is an ordered container of modules. The data is passed through all the\n",
        "modules in the same order as defined. You can use sequential containers\n",
        "to put together a quick network like `seq_modules`.\n"
      ]
    },
    {
      "cell_type": "code",
      "execution_count": null,
      "metadata": {
        "id": "FVsVLLyHA4rp"
      },
      "outputs": [],
      "source": [
        "seq_modules = nn.Sequential(\n",
        "    flatten,\n",
        "    layer1,\n",
        "    nn.ReLU(),\n",
        "    nn.Linear(20, 10)\n",
        ")\n",
        "input_image = torch.rand(3,28,28)\n",
        "logits = seq_modules(input_image)"
      ]
    },
    {
      "cell_type": "markdown",
      "metadata": {
        "id": "TXjQLDv7A4rp"
      },
      "source": [
        "##nn.Softmax\n",
        "==========\n",
        "\n",
        "The last linear layer of the neural network returns [logits]{.title-ref}\n",
        "- raw values in \\[-infty, infty\\] - which are passed to the\n",
        "[nn.Softmax](https://pytorch.org/docs/stable/generated/torch.nn.Softmax.html)\n",
        "module. The logits are scaled to values \\[0, 1\\] representing the\n",
        "model\\'s predicted probabilities for each class. `dim` parameter\n",
        "indicates the dimension along which the values must sum to 1.\n"
      ]
    },
    {
      "cell_type": "code",
      "execution_count": null,
      "metadata": {
        "id": "C2w22h40A4rp"
      },
      "outputs": [],
      "source": [
        "softmax = nn.Softmax(dim=1)\n",
        "pred_probab = softmax(logits)"
      ]
    },
    {
      "cell_type": "markdown",
      "metadata": {
        "id": "7-fI9OjQA4rp"
      },
      "source": [
        "##Model Parameters\n",
        "================\n",
        "\n",
        "Many layers inside a neural network are *parameterized*, i.e. have\n",
        "associated weights and biases that are optimized during training.\n",
        "Subclassing `nn.Module` automatically tracks all fields defined inside\n",
        "your model object, and makes all parameters accessible using your\n",
        "model\\'s `parameters()` or `named_parameters()` methods.\n",
        "\n",
        "In this example, we iterate over each parameter, and print its size and\n",
        "a preview of its values.\n"
      ]
    },
    {
      "cell_type": "code",
      "execution_count": null,
      "metadata": {
        "id": "MGIMBPtBA4rq"
      },
      "outputs": [],
      "source": [
        "print(f\"Model structure: {model}\\n\\n\")\n",
        "\n",
        "for name, param in model.named_parameters():\n",
        "    print(f\"Layer: {name} | Size: {param.size()} | Values : {param[:2]} \\n\")"
      ]
    },
    {
      "cell_type": "markdown",
      "metadata": {
        "id": "6-AUR0zwA4rq"
      },
      "source": [
        "------------------------------------------------------------------------\n"
      ]
    },
    {
      "cell_type": "markdown",
      "metadata": {
        "id": "nGTnDrRPA4rq"
      },
      "source": [
        "##Further Reading\n",
        "===============\n",
        "\n",
        "-   [torch.nn API](https://pytorch.org/docs/stable/nn.html)\n"
      ]
    },
    {
      "cell_type": "code",
      "source": [],
      "metadata": {
        "id": "B7WEVymsBseE"
      },
      "execution_count": null,
      "outputs": []
    },
    {
      "cell_type": "code",
      "source": [],
      "metadata": {
        "id": "V4a9KKBjBtIo"
      },
      "execution_count": null,
      "outputs": []
    },
    {
      "cell_type": "code",
      "source": [],
      "metadata": {
        "id": "CRWLLpDGBtFu"
      },
      "execution_count": null,
      "outputs": []
    },
    {
      "cell_type": "markdown",
      "metadata": {
        "id": "FPSY1DlmBXZa"
      },
      "source": [
        "\n",
        "\n",
        "#Automatic Differentiation with `torch.autograd`\n",
        "===============================================\n",
        "\n",
        "When training neural networks, the most frequently used algorithm is\n",
        "**back propagation**. In this algorithm, parameters (model weights) are\n",
        "adjusted according to the **gradient** of the loss function with respect\n",
        "to the given parameter.\n",
        "\n",
        "To compute those gradients, PyTorch has a built-in differentiation\n",
        "engine called `torch.autograd`. It supports automatic computation of\n",
        "gradient for any computational graph.\n",
        "\n",
        "Consider the simplest one-layer neural network, with input `x`,\n",
        "parameters `w` and `b`, and some loss function. It can be defined in\n",
        "PyTorch in the following manner:\n"
      ]
    },
    {
      "cell_type": "code",
      "execution_count": null,
      "metadata": {
        "id": "KMmwQ4SzBXZb"
      },
      "outputs": [],
      "source": [
        "import torch\n",
        "\n",
        "x = torch.ones(5)  # input tensor\n",
        "y = torch.zeros(3)  # expected output\n",
        "w = torch.randn(5, 3, requires_grad=True)\n",
        "b = torch.randn(3, requires_grad=True)\n",
        "z = torch.matmul(x, w)+b\n",
        "loss = torch.nn.functional.binary_cross_entropy_with_logits(z, y)"
      ]
    },
    {
      "cell_type": "markdown",
      "metadata": {
        "id": "k1uD3QKgBXZb"
      },
      "source": [
        "##Tensors, Functions and Computational graph\n",
        "==========================================\n",
        "\n",
        "This code defines the following **computational graph**:\n",
        "\n",
        "![](https://pytorch.org/tutorials/_static/img/basics/comp-graph.png)\n",
        "\n",
        "In this network, `w` and `b` are **parameters**, which we need to\n",
        "optimize. Thus, we need to be able to compute the gradients of loss\n",
        "function with respect to those variables. In order to do that, we set\n",
        "the `requires_grad` property of those tensors.\n"
      ]
    },
    {
      "cell_type": "markdown",
      "metadata": {
        "id": "Ne0_6GcSBXZc"
      },
      "source": [
        "<div style=\"background-color: #54c7ec; color: #fff; font-weight: 700; padding-left: 10px; padding-top: 5px; padding-bottom: 5px\"><strong>NOTE:</strong></div>\n",
        "<div style=\"background-color: #f3f4f7; padding-left: 10px; padding-top: 10px; padding-bottom: 10px; padding-right: 10px\">\n",
        "<p>You can set the value of <code>requires_grad</code> when creating atensor, or later by using <code>x.requires_grad_(True)</code> method.</p>\n",
        "</div>\n"
      ]
    },
    {
      "cell_type": "markdown",
      "metadata": {
        "id": "FlHDG-3mBXZc"
      },
      "source": [
        "A function that we apply to tensors to construct computational graph is\n",
        "in fact an object of class `Function`. This object knows how to compute\n",
        "the function in the *forward* direction, and also how to compute its\n",
        "derivative during the *backward propagation* step. A reference to the\n",
        "backward propagation function is stored in `grad_fn` property of a\n",
        "tensor. You can find more information of `Function` [in the\n",
        "documentation](https://pytorch.org/docs/stable/autograd.html#function).\n"
      ]
    },
    {
      "cell_type": "code",
      "execution_count": null,
      "metadata": {
        "id": "LLz-J8IwBXZc"
      },
      "outputs": [],
      "source": [
        "print(f\"Gradient function for z = {z.grad_fn}\")\n",
        "print(f\"Gradient function for loss = {loss.grad_fn}\")"
      ]
    },
    {
      "cell_type": "markdown",
      "metadata": {
        "id": "4NSAdssnBXZc"
      },
      "source": [
        "##Computing Gradients\n",
        "===================\n",
        "\n",
        "To optimize weights of parameters in the neural network, we need to\n",
        "compute the derivatives of our loss function with respect to parameters,\n",
        "namely, we need $\\frac{\\partial loss}{\\partial w}$ and\n",
        "$\\frac{\\partial loss}{\\partial b}$ under some fixed values of `x` and\n",
        "`y`. To compute those derivatives, we call `loss.backward()`, and then\n",
        "retrieve the values from `w.grad` and `b.grad`:\n"
      ]
    },
    {
      "cell_type": "code",
      "execution_count": null,
      "metadata": {
        "id": "DoPTDZpnBXZc"
      },
      "outputs": [],
      "source": [
        "loss.backward()\n",
        "print(w.grad)\n",
        "print(b.grad)"
      ]
    },
    {
      "cell_type": "markdown",
      "metadata": {
        "id": "EesihDN5BXZc"
      },
      "source": [
        "<div style=\"background-color: #54c7ec; color: #fff; font-weight: 700; padding-left: 10px; padding-top: 5px; padding-bottom: 5px\"><strong>NOTE:</strong></div>\n",
        "<div style=\"background-color: #f3f4f7; padding-left: 10px; padding-top: 10px; padding-bottom: 10px; padding-right: 10px\">\n",
        "<ul>\n",
        "<li>We can only obtain the <code>grad</code> properties for the leafnodes of the computational graph, which have <code>requires_grad</code> propertyset to <code>True</code>. For all other nodes in our graph, gradients will not beavailable.- We can only perform gradient calculations using<code>backward</code> once on a given graph, for performance reasons. If we needto do several <code>backward</code> calls on the same graph, we need to pass<code>retain_graph=True</code> to the <code>backward</code> call.</li>\n",
        "</ul>\n",
        "</div>\n"
      ]
    },
    {
      "cell_type": "markdown",
      "metadata": {
        "id": "q7hIXNLRBXZc"
      },
      "source": [
        "##Disabling Gradient Tracking\n",
        "===========================\n",
        "\n",
        "By default, all tensors with `requires_grad=True` are tracking their\n",
        "computational history and support gradient computation. However, there\n",
        "are some cases when we do not need to do that, for example, when we have\n",
        "trained the model and just want to apply it to some input data, i.e. we\n",
        "only want to do *forward* computations through the network. We can stop\n",
        "tracking computations by surrounding our computation code with\n",
        "`torch.no_grad()` block:\n"
      ]
    },
    {
      "cell_type": "code",
      "execution_count": null,
      "metadata": {
        "id": "Vs6L4xgkBXZd"
      },
      "outputs": [],
      "source": [
        "z = torch.matmul(x, w)+b\n",
        "print(z.requires_grad)\n",
        "\n",
        "with torch.no_grad():\n",
        "    z = torch.matmul(x, w)+b\n",
        "print(z.requires_grad)"
      ]
    },
    {
      "cell_type": "markdown",
      "metadata": {
        "id": "2_vTBaI1BXZd"
      },
      "source": [
        "Another way to achieve the same result is to use the `detach()` method\n",
        "on the tensor:\n"
      ]
    },
    {
      "cell_type": "code",
      "execution_count": null,
      "metadata": {
        "id": "4Avgwua6BXZd"
      },
      "outputs": [],
      "source": [
        "z = torch.matmul(x, w)+b\n",
        "z_det = z.detach()\n",
        "print(z_det.requires_grad)"
      ]
    },
    {
      "cell_type": "markdown",
      "metadata": {
        "id": "wRfwGFWoBXZd"
      },
      "source": [
        "There are reasons you might want to disable gradient tracking:\n",
        "\n",
        ":   -   To mark some parameters in your neural network as **frozen\n",
        "        parameters**.\n",
        "    -   To **speed up computations** when you are only doing forward\n",
        "        pass, because computations on tensors that do not track\n",
        "        gradients would be more efficient.\n"
      ]
    },
    {
      "cell_type": "markdown",
      "metadata": {
        "id": "l8pTYpQ-BXZd"
      },
      "source": [
        "##More on Computational Graphs\n",
        "============================\n",
        "\n",
        "Conceptually, autograd keeps a record of data (tensors) and all executed\n",
        "operations (along with the resulting new tensors) in a directed acyclic\n",
        "graph (DAG) consisting of\n",
        "[Function](https://pytorch.org/docs/stable/autograd.html#torch.autograd.Function)\n",
        "objects. In this DAG, leaves are the input tensors, roots are the output\n",
        "tensors. By tracing this graph from roots to leaves, you can\n",
        "automatically compute the gradients using the chain rule.\n",
        "\n",
        "In a forward pass, autograd does two things simultaneously:\n",
        "\n",
        "-   run the requested operation to compute a resulting tensor\n",
        "-   maintain the operation's *gradient function* in the DAG.\n",
        "\n",
        "The backward pass kicks off when `.backward()` is called on the DAG\n",
        "root. `autograd` then:\n",
        "\n",
        "-   computes the gradients from each `.grad_fn`,\n",
        "-   accumulates them in the respective tensor's `.grad` attribute\n",
        "-   using the chain rule, propagates all the way to the leaf tensors.\n",
        "\n",
        "<div style=\"background-color: #54c7ec; color: #fff; font-weight: 700; padding-left: 10px; padding-top: 5px; padding-bottom: 5px\"><strong>NOTE:</strong></div>\n",
        "<div style=\"background-color: #f3f4f7; padding-left: 10px; padding-top: 10px; padding-bottom: 10px; padding-right: 10px\">\n",
        "<p>An important thing to note is that the graph is recreated from scratch; after each<code>.backward()</code> call, autograd starts populating a new graph. This isexactly what allows you to use control flow statements in your model;you can change the shape, size and operations at every iteration ifneeded.</p>\n",
        "</div>\n"
      ]
    },
    {
      "cell_type": "markdown",
      "metadata": {
        "id": "k7NjCqv2BXZe"
      },
      "source": [
        "##Optional Reading: Tensor Gradients and Jacobian Products\n",
        "========================================================\n",
        "\n",
        "In many cases, we have a scalar loss function, and we need to compute\n",
        "the gradient with respect to some parameters. However, there are cases\n",
        "when the output function is an arbitrary tensor. In this case, PyTorch\n",
        "allows you to compute so-called **Jacobian product**, and not the actual\n",
        "gradient.\n",
        "\n",
        "For a vector function $\\vec{y}=f(\\vec{x})$, where\n",
        "$\\vec{x}=\\langle x_1,\\dots,x_n\\rangle$ and\n",
        "$\\vec{y}=\\langle y_1,\\dots,y_m\\rangle$, a gradient of $\\vec{y}$ with\n",
        "respect to $\\vec{x}$ is given by **Jacobian matrix**:\n",
        "\n",
        "$$\\begin{aligned}\n",
        "J=\\left(\\begin{array}{ccc}\n",
        "   \\frac{\\partial y_{1}}{\\partial x_{1}} & \\cdots & \\frac{\\partial y_{1}}{\\partial x_{n}}\\\\\n",
        "   \\vdots & \\ddots & \\vdots\\\\\n",
        "   \\frac{\\partial y_{m}}{\\partial x_{1}} & \\cdots & \\frac{\\partial y_{m}}{\\partial x_{n}}\n",
        "   \\end{array}\\right)\n",
        "\\end{aligned}$$\n",
        "\n",
        "Instead of computing the Jacobian matrix itself, PyTorch allows you to\n",
        "compute **Jacobian Product** $v^T\\cdot J$ for a given input vector\n",
        "$v=(v_1 \\dots v_m)$. This is achieved by calling `backward` with $v$ as\n",
        "an argument. The size of $v$ should be the same as the size of the\n",
        "original tensor, with respect to which we want to compute the product:\n"
      ]
    },
    {
      "cell_type": "code",
      "execution_count": null,
      "metadata": {
        "id": "uYnX1eHkBXZe"
      },
      "outputs": [],
      "source": [
        "inp = torch.eye(4, 5, requires_grad=True)\n",
        "out = (inp+1).pow(2).t()\n",
        "out.backward(torch.ones_like(out), retain_graph=True)\n",
        "print(f\"First call\\n{inp.grad}\")\n",
        "out.backward(torch.ones_like(out), retain_graph=True)\n",
        "print(f\"\\nSecond call\\n{inp.grad}\")\n",
        "inp.grad.zero_()\n",
        "out.backward(torch.ones_like(out), retain_graph=True)\n",
        "print(f\"\\nCall after zeroing gradients\\n{inp.grad}\")"
      ]
    },
    {
      "cell_type": "markdown",
      "metadata": {
        "id": "W2VcL0b8BXZe"
      },
      "source": [
        "Notice that when we call `backward` for the second time with the same\n",
        "argument, the value of the gradient is different. This happens because\n",
        "when doing `backward` propagation, PyTorch **accumulates the\n",
        "gradients**, i.e. the value of computed gradients is added to the `grad`\n",
        "property of all leaf nodes of computational graph. If you want to\n",
        "compute the proper gradients, you need to zero out the `grad` property\n",
        "before. In real-life training an *optimizer* helps us to do this.\n"
      ]
    },
    {
      "cell_type": "markdown",
      "metadata": {
        "id": "WAaf1-m9BXZe"
      },
      "source": [
        "<div style=\"background-color: #54c7ec; color: #fff; font-weight: 700; padding-left: 10px; padding-top: 5px; padding-bottom: 5px\"><strong>NOTE:</strong></div>\n",
        "<div style=\"background-color: #f3f4f7; padding-left: 10px; padding-top: 10px; padding-bottom: 10px; padding-right: 10px\">\n",
        "<p>Previously we were calling <code>backward()</code> function withoutparameters. This is essentially equivalent to calling<code>backward(torch.tensor(1.0))</code>, which is a useful way to compute thegradients in case of a scalar-valued function, such as loss duringneural network training.</p>\n",
        "</div>\n"
      ]
    },
    {
      "cell_type": "markdown",
      "metadata": {
        "id": "A2pmZakkBXZe"
      },
      "source": [
        "------------------------------------------------------------------------\n"
      ]
    },
    {
      "cell_type": "markdown",
      "metadata": {
        "id": "p0ET89E7BXZf"
      },
      "source": [
        "##Further Reading\n",
        "===============\n",
        "\n",
        "-   [Autograd\n",
        "    Mechanics](https://pytorch.org/docs/stable/notes/autograd.html)\n"
      ]
    },
    {
      "cell_type": "code",
      "source": [],
      "metadata": {
        "id": "mSklh5KBEpDd"
      },
      "execution_count": null,
      "outputs": []
    },
    {
      "cell_type": "code",
      "source": [],
      "metadata": {
        "id": "EeUb3hfXEpAl"
      },
      "execution_count": null,
      "outputs": []
    },
    {
      "cell_type": "code",
      "source": [],
      "metadata": {
        "id": "33c2mvqUE3SI"
      },
      "execution_count": null,
      "outputs": []
    },
    {
      "cell_type": "markdown",
      "metadata": {
        "id": "MWisb0nkEw_-"
      },
      "source": [
        "\n",
        "\n",
        "Optimizing Model Parameters\n",
        "===========================\n",
        "\n",
        "Now that we have a model and data it\\'s time to train, validate and test\n",
        "our model by optimizing its parameters on our data. Training a model is\n",
        "an iterative process; in each iteration the model makes a guess about\n",
        "the output, calculates the error in its guess (*loss*), collects the\n",
        "derivatives of the error with respect to its parameters (as we saw in\n",
        "the [previous section](autograd_tutorial.html)), and **optimizes** these\n",
        "parameters using gradient descent. For a more detailed walkthrough of\n",
        "this process, check out this video on [backpropagation from\n",
        "3Blue1Brown](https://www.youtube.com/watch?v=tIeHLnjs5U8).\n",
        "\n",
        "Prerequisite Code\n",
        "-----------------\n",
        "\n",
        "We load the code from the previous sections on [Datasets &\n",
        "DataLoaders](data_tutorial.html) and [Build\n",
        "Model](buildmodel_tutorial.html).\n"
      ]
    },
    {
      "cell_type": "code",
      "execution_count": null,
      "metadata": {
        "id": "a3Vg6pXuEw__"
      },
      "outputs": [],
      "source": [
        "import torch\n",
        "from torch import nn\n",
        "from torch.utils.data import DataLoader\n",
        "from torchvision import datasets\n",
        "from torchvision.transforms import ToTensor\n",
        "\n",
        "training_data = datasets.FashionMNIST(\n",
        "    root=\"data\",\n",
        "    train=True,\n",
        "    download=True,\n",
        "    transform=ToTensor()\n",
        ")\n",
        "\n",
        "test_data = datasets.FashionMNIST(\n",
        "    root=\"data\",\n",
        "    train=False,\n",
        "    download=True,\n",
        "    transform=ToTensor()\n",
        ")\n",
        "\n",
        "train_dataloader = DataLoader(training_data, batch_size=64)\n",
        "test_dataloader = DataLoader(test_data, batch_size=64)\n",
        "\n",
        "class NeuralNetwork(nn.Module):\n",
        "    def __init__(self):\n",
        "        super().__init__()\n",
        "        self.flatten = nn.Flatten()\n",
        "        self.linear_relu_stack = nn.Sequential(\n",
        "            nn.Linear(28*28, 512),\n",
        "            nn.ReLU(),\n",
        "            nn.Linear(512, 512),\n",
        "            nn.ReLU(),\n",
        "            nn.Linear(512, 10),\n",
        "        )\n",
        "\n",
        "    def forward(self, x):\n",
        "        x = self.flatten(x)\n",
        "        logits = self.linear_relu_stack(x)\n",
        "        return logits\n",
        "\n",
        "model = NeuralNetwork()"
      ]
    },
    {
      "cell_type": "markdown",
      "metadata": {
        "id": "toDeujAJEw__"
      },
      "source": [
        "##Hyperparameters\n",
        "===============\n",
        "\n",
        "Hyperparameters are adjustable parameters that let you control the model\n",
        "optimization process. Different hyperparameter values can impact model\n",
        "training and convergence rates ([read\n",
        "more](https://pytorch.org/tutorials/beginner/hyperparameter_tuning_tutorial.html)\n",
        "about hyperparameter tuning)\n",
        "\n",
        "We define the following hyperparameters for training:\n",
        "\n",
        ":   -   **Number of Epochs** - the number times to iterate over the\n",
        "        dataset\n",
        "    -   **Batch Size** - the number of data samples propagated through\n",
        "        the network before the parameters are updated\n",
        "    -   **Learning Rate** - how much to update models parameters at each\n",
        "        batch/epoch. Smaller values yield slow learning speed, while\n",
        "        large values may result in unpredictable behavior during\n",
        "        training.\n"
      ]
    },
    {
      "cell_type": "code",
      "execution_count": null,
      "metadata": {
        "id": "YNtFxdSeExAA"
      },
      "outputs": [],
      "source": [
        "learning_rate = 1e-3\n",
        "batch_size = 64\n",
        "epochs = 5"
      ]
    },
    {
      "cell_type": "markdown",
      "metadata": {
        "id": "_7uQx0FPExAA"
      },
      "source": [
        "##Optimization Loop\n",
        "=================\n",
        "\n",
        "Once we set our hyperparameters, we can then train and optimize our\n",
        "model with an optimization loop. Each iteration of the optimization loop\n",
        "is called an **epoch**.\n",
        "\n",
        "Each epoch consists of two main parts:\n",
        "\n",
        ":   -   **The Train Loop** - iterate over the training dataset and try\n",
        "        to converge to optimal parameters.\n",
        "    -   **The Validation/Test Loop** - iterate over the test dataset to\n",
        "        check if model performance is improving.\n",
        "\n",
        "Let\\'s briefly familiarize ourselves with some of the concepts used in\n",
        "the training loop. Jump ahead to see the\n",
        "`full-impl-label`{.interpreted-text role=\"ref\"} of the optimization\n",
        "loop.\n",
        "\n",
        "Loss Function\n",
        "-------------\n",
        "\n",
        "When presented with some training data, our untrained network is likely\n",
        "not to give the correct answer. **Loss function** measures the degree of\n",
        "dissimilarity of obtained result to the target value, and it is the loss\n",
        "function that we want to minimize during training. To calculate the loss\n",
        "we make a prediction using the inputs of our given data sample and\n",
        "compare it against the true data label value.\n",
        "\n",
        "Common loss functions include\n",
        "[nn.MSELoss](https://pytorch.org/docs/stable/generated/torch.nn.MSELoss.html#torch.nn.MSELoss)\n",
        "(Mean Square Error) for regression tasks, and\n",
        "[nn.NLLLoss](https://pytorch.org/docs/stable/generated/torch.nn.NLLLoss.html#torch.nn.NLLLoss)\n",
        "(Negative Log Likelihood) for classification.\n",
        "[nn.CrossEntropyLoss](https://pytorch.org/docs/stable/generated/torch.nn.CrossEntropyLoss.html#torch.nn.CrossEntropyLoss)\n",
        "combines `nn.LogSoftmax` and `nn.NLLLoss`.\n",
        "\n",
        "We pass our model\\'s output logits to `nn.CrossEntropyLoss`, which will\n",
        "normalize the logits and compute the prediction error.\n"
      ]
    },
    {
      "cell_type": "code",
      "execution_count": null,
      "metadata": {
        "id": "7xWH36-FExAA"
      },
      "outputs": [],
      "source": [
        "# Initialize the loss function\n",
        "loss_fn = nn.CrossEntropyLoss()"
      ]
    },
    {
      "cell_type": "markdown",
      "metadata": {
        "id": "RLQwElZsExAA"
      },
      "source": [
        "##Optimizer\n",
        "=========\n",
        "\n",
        "Optimization is the process of adjusting model parameters to reduce\n",
        "model error in each training step. **Optimization algorithms** define\n",
        "how this process is performed (in this example we use Stochastic\n",
        "Gradient Descent). All optimization logic is encapsulated in the\n",
        "`optimizer` object. Here, we use the SGD optimizer; additionally, there\n",
        "are many [different\n",
        "optimizers](https://pytorch.org/docs/stable/optim.html) available in\n",
        "PyTorch such as ADAM and RMSProp, that work better for different kinds\n",
        "of models and data.\n",
        "\n",
        "We initialize the optimizer by registering the model\\'s parameters that\n",
        "need to be trained, and passing in the learning rate hyperparameter.\n"
      ]
    },
    {
      "cell_type": "code",
      "execution_count": null,
      "metadata": {
        "id": "scVVOks_ExAA"
      },
      "outputs": [],
      "source": [
        "optimizer = torch.optim.SGD(model.parameters(), lr=learning_rate)"
      ]
    },
    {
      "cell_type": "markdown",
      "metadata": {
        "id": "zQHO7mqAExAA"
      },
      "source": [
        "Inside the training loop, optimization happens in three steps:\n",
        "\n",
        ":   -   Call `optimizer.zero_grad()` to reset the gradients of model\n",
        "        parameters. Gradients by default add up; to prevent\n",
        "        double-counting, we explicitly zero them at each iteration.\n",
        "    -   Backpropagate the prediction loss with a call to\n",
        "        `loss.backward()`. PyTorch deposits the gradients of the loss\n",
        "        w.r.t. each parameter.\n",
        "    -   Once we have our gradients, we call `optimizer.step()` to adjust\n",
        "        the parameters by the gradients collected in the backward pass.\n"
      ]
    },
    {
      "cell_type": "markdown",
      "metadata": {
        "id": "WTblXjF9ExAA"
      },
      "source": [
        "##Full Implementation {#full-impl-label}\n",
        "===================\n",
        "\n",
        "We define `train_loop` that loops over our optimization code, and\n",
        "`test_loop` that evaluates the model\\'s performance against our test\n",
        "data.\n"
      ]
    },
    {
      "cell_type": "code",
      "execution_count": null,
      "metadata": {
        "id": "j-WBk11TExAA"
      },
      "outputs": [],
      "source": [
        "def train_loop(dataloader, model, loss_fn, optimizer):\n",
        "    size = len(dataloader.dataset)\n",
        "    # Set the model to training mode - important for batch normalization and dropout layers\n",
        "    # Unnecessary in this situation but added for best practices\n",
        "    model.train()\n",
        "    for batch, (X, y) in enumerate(dataloader):\n",
        "        # Compute prediction and loss\n",
        "        pred = model(X)\n",
        "        loss = loss_fn(pred, y)\n",
        "\n",
        "        # Backpropagation\n",
        "        loss.backward()\n",
        "        optimizer.step()\n",
        "        optimizer.zero_grad()\n",
        "\n",
        "        if batch % 100 == 0:\n",
        "            loss, current = loss.item(), batch * batch_size + len(X)\n",
        "            print(f\"loss: {loss:>7f}  [{current:>5d}/{size:>5d}]\")\n",
        "\n",
        "\n",
        "def test_loop(dataloader, model, loss_fn):\n",
        "    # Set the model to evaluation mode - important for batch normalization and dropout layers\n",
        "    # Unnecessary in this situation but added for best practices\n",
        "    model.eval()\n",
        "    size = len(dataloader.dataset)\n",
        "    num_batches = len(dataloader)\n",
        "    test_loss, correct = 0, 0\n",
        "\n",
        "    # Evaluating the model with torch.no_grad() ensures that no gradients are computed during test mode\n",
        "    # also serves to reduce unnecessary gradient computations and memory usage for tensors with requires_grad=True\n",
        "    with torch.no_grad():\n",
        "        for X, y in dataloader:\n",
        "            pred = model(X)\n",
        "            test_loss += loss_fn(pred, y).item()\n",
        "            correct += (pred.argmax(1) == y).type(torch.float).sum().item()\n",
        "\n",
        "    test_loss /= num_batches\n",
        "    correct /= size\n",
        "    print(f\"Test Error: \\n Accuracy: {(100*correct):>0.1f}%, Avg loss: {test_loss:>8f} \\n\")"
      ]
    },
    {
      "cell_type": "markdown",
      "metadata": {
        "id": "-bJNn-2YExAA"
      },
      "source": [
        "We initialize the loss function and optimizer, and pass it to\n",
        "`train_loop` and `test_loop`. Feel free to increase the number of epochs\n",
        "to track the model\\'s improving performance.\n"
      ]
    },
    {
      "cell_type": "code",
      "execution_count": null,
      "metadata": {
        "id": "a0G-vU3hExAA"
      },
      "outputs": [],
      "source": [
        "loss_fn = nn.CrossEntropyLoss()\n",
        "optimizer = torch.optim.SGD(model.parameters(), lr=learning_rate)\n",
        "\n",
        "epochs = 10\n",
        "for t in range(epochs):\n",
        "    print(f\"Epoch {t+1}\\n-------------------------------\")\n",
        "    train_loop(train_dataloader, model, loss_fn, optimizer)\n",
        "    test_loop(test_dataloader, model, loss_fn)\n",
        "print(\"Done!\")"
      ]
    },
    {
      "cell_type": "markdown",
      "metadata": {
        "id": "4vP5ckoAExAA"
      },
      "source": [
        "##Further Reading\n",
        "===============\n",
        "\n",
        "-   [Loss\n",
        "    Functions](https://pytorch.org/docs/stable/nn.html#loss-functions)\n",
        "-   [torch.optim](https://pytorch.org/docs/stable/optim.html)\n",
        "-   [Warmstart Training a\n",
        "    Model](https://pytorch.org/tutorials/recipes/recipes/warmstarting_model_using_parameters_from_a_different_model.html)\n"
      ]
    },
    {
      "cell_type": "code",
      "source": [],
      "metadata": {
        "id": "L6YACtj3FI0A"
      },
      "execution_count": null,
      "outputs": []
    },
    {
      "cell_type": "code",
      "source": [],
      "metadata": {
        "id": "eUQkfd-cFIxW"
      },
      "execution_count": null,
      "outputs": []
    },
    {
      "cell_type": "code",
      "source": [],
      "metadata": {
        "id": "2tIt8dT5FIvE"
      },
      "execution_count": null,
      "outputs": []
    },
    {
      "cell_type": "markdown",
      "metadata": {
        "id": "FIUCVAbDFDwA"
      },
      "source": [
        "[Learn the Basics](intro.html) \\|\\|\n",
        "[Quickstart](quickstart_tutorial.html) \\|\\|\n",
        "[Tensors](tensorqs_tutorial.html) \\|\\| [Datasets &\n",
        "DataLoaders](data_tutorial.html) \\|\\|\n",
        "[Transforms](transforms_tutorial.html) \\|\\| [Build\n",
        "Model](buildmodel_tutorial.html) \\|\\|\n",
        "[Autograd](autogradqs_tutorial.html) \\|\\|\n",
        "[Optimization](optimization_tutorial.html) \\|\\| **Save & Load Model**\n",
        "\n",
        "Save and Load the Model\n",
        "=======================\n",
        "\n",
        "In this section we will look at how to persist model state with saving,\n",
        "loading and running model predictions.\n"
      ]
    },
    {
      "cell_type": "code",
      "execution_count": null,
      "metadata": {
        "id": "_GX8z2EQFDwA"
      },
      "outputs": [],
      "source": [
        "import torch\n",
        "import torchvision.models as models"
      ]
    },
    {
      "cell_type": "markdown",
      "metadata": {
        "id": "dUFf0niyFDwB"
      },
      "source": [
        "##Saving and Loading Model Weights\n",
        "================================\n",
        "\n",
        "PyTorch models store the learned parameters in an internal state\n",
        "dictionary, called `state_dict`. These can be persisted via the\n",
        "`torch.save` method:\n"
      ]
    },
    {
      "cell_type": "code",
      "execution_count": null,
      "metadata": {
        "id": "IHO56QHhFDwB"
      },
      "outputs": [],
      "source": [
        "model = models.vgg16(weights='IMAGENET1K_V1')\n",
        "torch.save(model.state_dict(), 'model_weights.pth')"
      ]
    },
    {
      "cell_type": "markdown",
      "metadata": {
        "id": "RyhFw-CGFDwB"
      },
      "source": [
        "To load model weights, you need to create an instance of the same model\n",
        "first, and then load the parameters using `load_state_dict()` method.\n"
      ]
    },
    {
      "cell_type": "code",
      "execution_count": null,
      "metadata": {
        "id": "0HqieftrFDwB"
      },
      "outputs": [],
      "source": [
        "model = models.vgg16() # we do not specify ``weights``, i.e. create untrained model\n",
        "model.load_state_dict(torch.load('model_weights.pth'))\n",
        "model.eval()"
      ]
    },
    {
      "cell_type": "markdown",
      "metadata": {
        "id": "2X1xMmr2FDwB"
      },
      "source": [
        "<div style=\"background-color: #54c7ec; color: #fff; font-weight: 700; padding-left: 10px; padding-top: 5px; padding-bottom: 5px\"><strong>NOTE:</strong></div>\n",
        "<div style=\"background-color: #f3f4f7; padding-left: 10px; padding-top: 10px; padding-bottom: 10px; padding-right: 10px\">\n",
        "<p>be sure to call <code>model.eval()</code> method before inferencing to set the dropout and batch normalization layers to evaluation mode. Failing to do this will yield inconsistent inference results.</p>\n",
        "</div>\n"
      ]
    },
    {
      "cell_type": "markdown",
      "metadata": {
        "id": "fXkxnPO-FDwB"
      },
      "source": [
        "##Saving and Loading Models with Shapes\n",
        "=====================================\n",
        "\n",
        "When loading model weights, we needed to instantiate the model class\n",
        "first, because the class defines the structure of a network. We might\n",
        "want to save the structure of this class together with the model, in\n",
        "which case we can pass `model` (and not `model.state_dict()`) to the\n",
        "saving function:\n"
      ]
    },
    {
      "cell_type": "code",
      "execution_count": null,
      "metadata": {
        "id": "rPuLsTZZFDwB"
      },
      "outputs": [],
      "source": [
        "torch.save(model, 'model.pth')"
      ]
    },
    {
      "cell_type": "markdown",
      "metadata": {
        "id": "vjHO6K6rFDwB"
      },
      "source": [
        "We can then load the model like this:\n"
      ]
    },
    {
      "cell_type": "code",
      "execution_count": null,
      "metadata": {
        "id": "Nvg1wSR6FDwC"
      },
      "outputs": [],
      "source": [
        "model = torch.load('model.pth')"
      ]
    },
    {
      "cell_type": "markdown",
      "metadata": {
        "id": "XIY6Vjb8FDwC"
      },
      "source": [
        "<div style=\"background-color: #54c7ec; color: #fff; font-weight: 700; padding-left: 10px; padding-top: 5px; padding-bottom: 5px\"><strong>NOTE:</strong></div>\n",
        "<div style=\"background-color: #f3f4f7; padding-left: 10px; padding-top: 10px; padding-bottom: 10px; padding-right: 10px\">\n",
        "<p>This approach uses Python <a href=\"https://docs.python.org/3/library/pickle.html\">pickle</a> module when serializing the model, thus it relies on the actual class definition to be available when loading the model.</p>\n",
        "</div>\n"
      ]
    },
    {
      "cell_type": "code",
      "source": [],
      "metadata": {
        "id": "EHHV07UHd5PW"
      },
      "execution_count": null,
      "outputs": []
    },
    {
      "cell_type": "code",
      "source": [],
      "metadata": {
        "id": "BJSeAjDbd5ML"
      },
      "execution_count": null,
      "outputs": []
    },
    {
      "cell_type": "markdown",
      "source": [
        "#VGG - USING PRETRAINED NET"
      ],
      "metadata": {
        "id": "Rs2I_aUtkfUg"
      }
    },
    {
      "cell_type": "code",
      "source": [
        "import torch\n",
        "model = torch.hub.load('pytorch/vision:v0.10.0', 'vgg11', pretrained=True)\n",
        "# or any of these variants\n",
        "# model = torch.hub.load('pytorch/vision:v0.10.0', 'vgg11_bn', pretrained=True)\n",
        "# model = torch.hub.load('pytorch/vision:v0.10.0', 'vgg13', pretrained=True)\n",
        "# model = torch.hub.load('pytorch/vision:v0.10.0', 'vgg13_bn', pretrained=True)\n",
        "# model = torch.hub.load('pytorch/vision:v0.10.0', 'vgg16', pretrained=True)\n",
        "# model = torch.hub.load('pytorch/vision:v0.10.0', 'vgg16_bn', pretrained=True)\n",
        "# model = torch.hub.load('pytorch/vision:v0.10.0', 'vgg19', pretrained=True)\n",
        "# model = torch.hub.load('pytorch/vision:v0.10.0', 'vgg19_bn', pretrained=True)\n",
        "model.eval()"
      ],
      "metadata": {
        "colab": {
          "base_uri": "https://localhost:8080/"
        },
        "id": "np1QNAW4d5IA",
        "outputId": "a63bd12b-b594-4cd9-c5f7-3aa4fbac16c7"
      },
      "execution_count": null,
      "outputs": [
        {
          "output_type": "stream",
          "name": "stderr",
          "text": [
            "Downloading: \"https://github.com/pytorch/vision/zipball/v0.10.0\" to /root/.cache/torch/hub/v0.10.0.zip\n",
            "Downloading: \"https://download.pytorch.org/models/vgg11-8a719046.pth\" to /root/.cache/torch/hub/checkpoints/vgg11-8a719046.pth\n",
            "100%|██████████| 507M/507M [00:07<00:00, 70.7MB/s]\n"
          ]
        },
        {
          "output_type": "execute_result",
          "data": {
            "text/plain": [
              "VGG(\n",
              "  (features): Sequential(\n",
              "    (0): Conv2d(3, 64, kernel_size=(3, 3), stride=(1, 1), padding=(1, 1))\n",
              "    (1): ReLU(inplace=True)\n",
              "    (2): MaxPool2d(kernel_size=2, stride=2, padding=0, dilation=1, ceil_mode=False)\n",
              "    (3): Conv2d(64, 128, kernel_size=(3, 3), stride=(1, 1), padding=(1, 1))\n",
              "    (4): ReLU(inplace=True)\n",
              "    (5): MaxPool2d(kernel_size=2, stride=2, padding=0, dilation=1, ceil_mode=False)\n",
              "    (6): Conv2d(128, 256, kernel_size=(3, 3), stride=(1, 1), padding=(1, 1))\n",
              "    (7): ReLU(inplace=True)\n",
              "    (8): Conv2d(256, 256, kernel_size=(3, 3), stride=(1, 1), padding=(1, 1))\n",
              "    (9): ReLU(inplace=True)\n",
              "    (10): MaxPool2d(kernel_size=2, stride=2, padding=0, dilation=1, ceil_mode=False)\n",
              "    (11): Conv2d(256, 512, kernel_size=(3, 3), stride=(1, 1), padding=(1, 1))\n",
              "    (12): ReLU(inplace=True)\n",
              "    (13): Conv2d(512, 512, kernel_size=(3, 3), stride=(1, 1), padding=(1, 1))\n",
              "    (14): ReLU(inplace=True)\n",
              "    (15): MaxPool2d(kernel_size=2, stride=2, padding=0, dilation=1, ceil_mode=False)\n",
              "    (16): Conv2d(512, 512, kernel_size=(3, 3), stride=(1, 1), padding=(1, 1))\n",
              "    (17): ReLU(inplace=True)\n",
              "    (18): Conv2d(512, 512, kernel_size=(3, 3), stride=(1, 1), padding=(1, 1))\n",
              "    (19): ReLU(inplace=True)\n",
              "    (20): MaxPool2d(kernel_size=2, stride=2, padding=0, dilation=1, ceil_mode=False)\n",
              "  )\n",
              "  (avgpool): AdaptiveAvgPool2d(output_size=(7, 7))\n",
              "  (classifier): Sequential(\n",
              "    (0): Linear(in_features=25088, out_features=4096, bias=True)\n",
              "    (1): ReLU(inplace=True)\n",
              "    (2): Dropout(p=0.5, inplace=False)\n",
              "    (3): Linear(in_features=4096, out_features=4096, bias=True)\n",
              "    (4): ReLU(inplace=True)\n",
              "    (5): Dropout(p=0.5, inplace=False)\n",
              "    (6): Linear(in_features=4096, out_features=1000, bias=True)\n",
              "  )\n",
              ")"
            ]
          },
          "metadata": {},
          "execution_count": 1
        }
      ]
    },
    {
      "cell_type": "code",
      "source": [
        "# Download an example image from the pytorch website\n",
        "import urllib\n",
        "url, filename = (\"https://github.com/pytorch/hub/raw/master/images/dog.jpg\", \"dog.jpg\")\n",
        "\n",
        "try: urllib.URLopener().retrieve(url, filename)\n",
        "except: urllib.request.urlretrieve(url, filename)"
      ],
      "metadata": {
        "id": "RDdgdwCGd-yT"
      },
      "execution_count": null,
      "outputs": []
    },
    {
      "cell_type": "code",
      "source": [
        "# sample execution (requires torchvision)\n",
        "from PIL import Image\n",
        "from torchvision import transforms\n",
        "\n",
        "filename=\"/content/pexels-morningtrain-18105.jpg\"\n",
        "input_image = Image.open(filename)\n",
        "preprocess = transforms.Compose([\n",
        "    transforms.Resize(256),\n",
        "    transforms.CenterCrop(224),\n",
        "    transforms.ToTensor(),\n",
        "    transforms.Normalize(mean=[0.485, 0.456, 0.406], std=[0.229, 0.224, 0.225]),\n",
        "])\n",
        "input_tensor = preprocess(input_image)\n",
        "input_batch = input_tensor.unsqueeze(0) # create a mini-batch as expected by the model\n",
        "\n",
        "# move the input and model to GPU for speed if available\n",
        "if torch.cuda.is_available():\n",
        "    input_batch = input_batch.to('cuda')\n",
        "    model.to('cuda')\n",
        "\n",
        "with torch.no_grad():\n",
        "    output = model(input_batch)\n",
        "# Tensor of shape 1000, with confidence scores over ImageNet's 1000 classes\n",
        "print(output[0])\n",
        "# The output has unnormalized scores. To get probabilities, you can run a softmax on it.\n",
        "probabilities = torch.nn.functional.softmax(output[0], dim=0)\n",
        "print(probabilities)"
      ],
      "metadata": {
        "colab": {
          "base_uri": "https://localhost:8080/"
        },
        "id": "izoflMUdeKxq",
        "outputId": "1d348f72-d1a2-43e9-b77e-91809923d84f"
      },
      "execution_count": null,
      "outputs": [
        {
          "output_type": "stream",
          "name": "stdout",
          "text": [
            "tensor([-2.2774e+00, -1.1253e+00, -1.6648e+00, -2.7694e+00, -2.4359e+00,\n",
            "         1.2641e+00, -3.3165e+00, -2.1494e+00, -4.0636e-01, -7.9821e-01,\n",
            "        -2.2684e+00, -2.6049e+00, -1.6955e+00, -3.5860e+00, -3.3445e-01,\n",
            "        -2.9032e-01, -2.9075e+00, -1.3163e+00, -7.1418e-02, -1.8538e+00,\n",
            "        -3.1964e+00, -1.8429e+00, -2.1583e+00, -2.6696e+00, -2.4898e+00,\n",
            "        -4.7171e+00, -3.8766e+00, -2.6386e+00, -3.7475e+00, -2.5057e+00,\n",
            "        -2.7846e+00, -4.6777e+00, -2.3136e+00, -1.4201e+00, -9.2666e-01,\n",
            "        -2.6249e+00, -6.1154e-01, -2.9387e+00, -3.0324e+00, -2.0541e+00,\n",
            "        -1.7353e+00, -1.9853e+00, -3.0001e+00, -1.7263e+00, -2.2999e+00,\n",
            "        -6.6571e-01, -1.0378e+00, -3.8003e+00, -2.2431e+00, -2.8926e+00,\n",
            "        -2.6313e+00, -2.9225e+00, -2.2563e+00, -7.9909e-01,  2.3659e-01,\n",
            "        -2.5721e+00, -5.5898e-01, -2.9942e+00, -2.0931e+00, -1.1637e-01,\n",
            "        -3.5739e-01, -2.5073e+00, -2.0111e+00, -1.5265e-01, -1.3881e+00,\n",
            "        -8.5855e-01, -8.8800e-01,  1.0336e+00, -5.3299e-01, -1.6848e+00,\n",
            "        -1.4304e+00, -2.3037e+00, -8.0902e-01, -8.3071e-01, -1.8602e+00,\n",
            "        -1.3238e+00, -5.4740e-01,  3.8243e-01, -2.8602e+00, -2.2969e+00,\n",
            "        -1.8958e+00, -2.3888e+00, -3.2599e-01, -1.7058e+00, -1.1321e+00,\n",
            "        -1.0272e+00,  3.3697e-01, -2.4987e+00, -3.6251e+00, -1.5973e+00,\n",
            "        -2.1370e+00, -7.0653e-01, -1.8351e+00, -2.8337e+00, -1.6757e+00,\n",
            "        -1.5399e+00, -3.5192e+00, -3.1922e+00, -1.0939e+00, -3.1556e+00,\n",
            "        -2.2802e+00, -3.4191e+00,  7.4346e-01, -1.8386e+00, -3.6430e+00,\n",
            "        -2.8239e+00, -1.5702e+00, -4.9466e-01, -2.0295e+00, -8.7125e-01,\n",
            "        -2.4862e+00,  4.4909e-04, -1.3102e+00, -2.1801e+00, -2.5345e+00,\n",
            "        -2.1636e+00, -9.3554e-01, -1.9436e+00,  5.6176e-01, -2.0414e+00,\n",
            "        -2.3629e+00, -1.8163e+00, -1.8644e+00, -1.2335e+00, -2.1737e+00,\n",
            "        -3.2106e+00, -4.0026e-01, -1.8234e+00, -2.2510e+00, -2.8195e+00,\n",
            "        -3.3597e+00, -2.8685e+00, -1.7742e+00, -2.2271e+00, -1.7771e+00,\n",
            "        -3.7414e-01, -2.3650e+00, -2.0976e+00, -2.2238e+00, -1.0773e+00,\n",
            "        -2.4714e-01, -2.8059e+00, -9.1086e-01, -3.1354e+00, -1.6182e+00,\n",
            "        -8.2893e-01, -8.8053e-01, -1.4944e+00,  2.1264e-01, -1.7903e+00,\n",
            "        -1.7551e+00, -4.8545e-02, -1.6024e+00, -1.5382e+00, -3.6507e-01,\n",
            "        -4.0797e-01, -1.6514e+00, -2.1005e+00, -1.8301e+00, -2.8816e-01,\n",
            "        -1.2330e+00,  3.2159e-01, -8.7974e-01, -1.0596e+00, -1.1025e+00,\n",
            "        -1.2051e+00, -2.2905e+00, -9.6754e-02, -1.3231e+00, -1.6992e+00,\n",
            "        -2.9409e+00, -2.5024e+00, -4.3692e+00, -2.8249e+00, -1.2995e+00,\n",
            "        -6.6467e-01, -4.4197e+00, -2.8178e+00, -1.8256e+00, -3.0690e+00,\n",
            "        -3.2914e+00, -1.1280e+00,  7.4762e-01,  1.4879e-01, -4.1097e-01,\n",
            "         3.2165e+00,  2.5437e+00, -5.6372e-01,  4.2283e-01,  2.2374e-01,\n",
            "        -5.5074e-01,  5.9401e-02,  1.6634e-01, -4.7284e-01, -6.6578e-02,\n",
            "        -1.5140e+00, -2.2684e+00, -1.3155e+00, -1.8751e+00,  9.7913e-01,\n",
            "        -1.0314e+00, -2.2380e+00,  4.6762e-01, -3.4181e-01, -4.4135e-03,\n",
            "        -1.9135e+00, -1.1951e+00, -7.2347e-03,  1.6057e-01, -2.3019e+00,\n",
            "        -1.5907e+00,  1.0251e+00, -1.6945e+00, -1.7542e+00, -7.8664e-01,\n",
            "         5.0458e-01, -2.3325e+00, -2.0843e+00, -1.0056e+00,  3.7393e-01,\n",
            "        -1.0900e+00, -1.2919e+00, -2.3841e+00, -8.1996e-01, -1.1003e+00,\n",
            "        -2.3104e+00, -1.7609e+00, -2.5985e+00, -2.3443e+00, -1.3885e+00,\n",
            "        -1.1466e+00, -4.1017e-01,  2.3888e-01,  8.2091e-01, -8.4049e-01,\n",
            "        -9.5248e-01, -1.6114e+00, -2.0142e+00, -1.2222e+00,  5.9412e-01,\n",
            "         2.4651e-01, -1.3770e+00, -1.6863e+00, -2.0394e+00, -1.7728e-01,\n",
            "        -1.1123e+00, -3.8422e+00, -5.9588e-01, -8.4996e-01, -1.9947e+00,\n",
            "        -1.8051e+00, -4.0125e-01,  2.6050e-02, -2.2934e+00,  1.0462e+00,\n",
            "        -1.0720e+00,  9.0402e-01, -9.0310e-01,  1.2300e+00,  6.0294e-01,\n",
            "         4.3725e-01, -2.1542e+00,  4.8014e-01,  1.1475e-01,  1.1640e+00,\n",
            "         1.7194e+00,  6.7635e-01, -3.1520e-01, -3.3592e+00, -8.0865e-01,\n",
            "        -1.3863e+00, -1.7899e+00, -9.6411e-01, -4.9375e-01, -1.8634e+00,\n",
            "        -3.4836e+00, -2.3674e+00, -5.0918e-02, -1.1681e+00, -5.9447e-01,\n",
            "        -6.8754e-01,  1.0151e+00,  1.5731e+00,  1.3223e+00,  3.6096e-01,\n",
            "         4.7997e-01, -3.3496e+00, -5.6415e-02, -1.9993e+00, -2.5327e+00,\n",
            "        -2.0130e+00, -2.6479e+00, -1.6765e+00,  4.6544e-01, -8.8139e-01,\n",
            "        -8.0305e-01, -1.5242e-01, -2.1079e+00, -3.6891e+00, -5.5801e-01,\n",
            "        -2.0161e+00, -2.8671e+00, -1.9210e+00, -2.7434e+00, -3.3922e+00,\n",
            "        -1.9167e+00, -1.1573e+00, -2.9247e+00, -1.9841e+00, -6.8052e-01,\n",
            "        -2.4097e-02, -9.4934e-01, -1.3272e+00,  1.2458e+00, -1.6609e+00,\n",
            "        -1.8185e+00, -9.7728e-01, -2.3910e+00, -2.5023e+00, -8.3173e-01,\n",
            "        -9.2106e-01, -2.2376e+00, -2.4039e+00, -1.8678e+00, -2.2504e+00,\n",
            "        -3.1585e+00, -2.0624e+00, -2.1231e+00,  1.2215e+00,  4.4238e-02,\n",
            "         1.4978e-01, -1.1193e+00, -1.4389e-01,  4.9431e-01,  1.0088e-02,\n",
            "        -8.8984e-02, -9.9699e-01,  1.7917e+00,  3.1106e-01, -3.2199e+00,\n",
            "        -3.2430e+00, -2.1768e+00, -3.0729e+00, -4.3663e+00, -4.1527e+00,\n",
            "        -2.7305e+00, -5.5388e+00, -1.4347e+00, -3.0515e+00, -3.6782e+00,\n",
            "        -3.5019e+00, -2.6862e+00, -3.3324e+00, -1.5107e+00, -3.4129e+00,\n",
            "        -1.6889e+00,  9.4098e-01, -2.7071e-01, -7.1109e-01, -9.4056e-01,\n",
            "        -1.0899e+00, -1.6977e-01,  2.8460e-01, -1.5005e+00, -2.3702e+00,\n",
            "        -2.2907e+00, -2.6705e+00, -1.2854e+00, -1.3604e+00, -2.1318e+00,\n",
            "        -3.3847e+00, -1.9905e+00, -2.2915e+00, -2.8851e+00, -2.7755e+00,\n",
            "        -4.5239e+00, -1.3654e+00, -2.7252e+00, -2.5741e+00, -2.8876e+00,\n",
            "        -1.3901e+00, -3.5801e+00, -1.8328e+00, -1.5471e+00, -2.5985e+00,\n",
            "        -5.4316e+00, -3.4276e+00, -8.7167e-01, -9.7235e-01, -1.8370e+00,\n",
            "        -1.1085e+00, -1.6341e+00, -1.1831e+00, -3.1593e+00, -2.2376e+00,\n",
            "        -9.4769e-01, -1.2912e+00, -1.0596e+00,  5.2005e+00,  1.2430e+00,\n",
            "         1.7283e-01,  3.0596e+00,  2.7829e-02, -1.7344e+00, -7.4742e-01,\n",
            "        -2.0261e-01, -1.4583e+00, -1.3862e+00, -2.3078e+00,  5.0030e+00,\n",
            "         2.6283e+00, -3.8896e-01,  4.6249e+00, -2.4325e+00, -2.9321e-02,\n",
            "         1.3517e+00, -1.2386e+00,  1.2589e+00,  5.3002e+00,  3.6188e+00,\n",
            "        -1.9905e+00,  1.7598e+00,  4.7220e-02,  2.6548e+00,  5.5505e-01,\n",
            "        -1.7622e+00,  2.1719e+00, -1.4730e-01, -1.5904e+00, -7.7878e-01,\n",
            "         7.2668e-01,  1.4706e-01,  3.5883e-01, -6.1019e-01, -1.5104e+00,\n",
            "         2.4783e+00,  6.3095e-01,  1.7661e+00,  3.2767e+00,  2.2315e-02,\n",
            "        -2.4218e-01,  2.2553e-01, -1.8078e-03, -6.0883e-01, -9.2591e-01,\n",
            "        -7.0880e-01,  4.7180e+00,  1.4719e+00, -6.6853e-01, -1.1585e+00,\n",
            "        -2.5554e+00,  9.6120e-01, -3.4746e+00,  1.0419e+00, -4.6286e-01,\n",
            "         8.8452e-01,  4.2979e-02, -1.7851e+00,  1.8037e+00, -2.8305e+00,\n",
            "        -1.7127e+00,  8.6457e-01,  2.5518e-01,  7.7727e-01,  2.9245e+00,\n",
            "         1.5478e-01,  3.0284e-01, -1.9978e+00,  2.5547e-02, -1.8565e-01,\n",
            "         3.3187e+00, -1.1419e+00,  1.1372e-01,  1.7698e+00, -2.6092e+00,\n",
            "         1.8476e+00, -1.2998e+00,  4.4743e+00,  2.8792e+00,  2.8574e+00,\n",
            "         5.3463e+00,  2.8520e+00,  7.2309e+00, -2.0003e+00,  3.4678e+00,\n",
            "         4.7151e+00, -9.7939e-01,  7.9331e+00, -1.7387e-01, -4.5027e-01,\n",
            "         3.7361e-01, -1.9652e+00,  4.0484e+00,  2.7537e+00, -1.2140e+00,\n",
            "        -8.5125e-01, -2.8081e+00,  1.8993e+00,  1.8948e+00,  8.7317e-01,\n",
            "        -2.6039e+00, -1.4695e+00, -3.5014e+00,  2.2489e+00,  2.8707e+00,\n",
            "         1.3209e+00,  2.1564e+00,  4.6774e+00,  1.0230e+01, -1.4266e+00,\n",
            "         5.3825e-01,  2.3967e+00,  2.8858e+00, -1.3327e-02, -1.7270e+00,\n",
            "        -8.7725e-01,  1.3700e+00, -3.0788e-01,  7.7565e-02,  2.7702e+00,\n",
            "         7.7773e-01, -2.6612e-01,  4.4024e-01, -1.4241e-01, -4.0036e-01,\n",
            "        -2.9076e+00,  7.1047e+00,  1.2854e+01,  4.4983e+00, -1.9444e+00,\n",
            "         7.3720e+00,  6.8474e+00,  4.8933e-01,  1.7602e+00,  6.9475e+00,\n",
            "        -1.6168e+00,  6.2580e-01, -1.8409e+00,  1.5392e+00,  2.5371e+00,\n",
            "        -1.4853e+00,  3.5450e-01,  1.7638e+00,  2.5353e+00,  1.2610e+00,\n",
            "         2.6024e+00,  3.4967e+00, -2.9010e+00,  4.4695e+00,  2.8106e+00,\n",
            "         5.2259e+00,  5.7695e+00, -9.4622e-02,  5.0228e+00, -4.2345e+00,\n",
            "        -2.5532e+00,  4.7822e+00,  1.9252e+00, -6.7649e-01,  3.8047e+00,\n",
            "        -7.8147e-01,  6.0000e-01, -1.5653e+00,  2.7436e+00, -3.4526e-01,\n",
            "        -1.6259e+00,  1.5884e-01,  1.4873e-01, -1.8744e+00, -1.6576e+00,\n",
            "         1.2086e+00,  1.7147e+00,  8.4309e-01, -1.1572e+00,  1.9648e+00,\n",
            "         1.5673e+00, -6.3063e-01, -2.4111e+00,  1.1075e+00,  2.8617e+00,\n",
            "         1.3674e+00,  4.1479e+00,  1.3494e+00,  3.2435e+00, -1.1137e+00,\n",
            "         8.9373e-01, -1.8324e+00,  1.1674e+00,  4.2013e+00,  1.0589e+00,\n",
            "         1.0613e+01, -3.8178e-01,  8.7290e+00,  2.0583e+00, -4.8689e-01,\n",
            "        -5.4180e-01, -1.4409e+00, -1.3730e+00,  5.9563e+00,  4.9590e+00,\n",
            "         1.2286e+00, -1.0509e+00, -3.0652e-01, -3.4360e+00,  1.2544e+00,\n",
            "         8.3176e+00,  2.0345e+00, -1.7079e+00, -2.2514e-02,  6.3197e-01,\n",
            "         3.6785e-01,  1.8283e+00, -2.7095e+00,  5.6220e+00, -3.8720e-01,\n",
            "        -6.1559e-01, -5.1982e-01,  3.0986e+00,  1.4539e+00,  3.0056e+00,\n",
            "         1.2157e+01,  7.3262e-02,  2.2195e+00,  3.9385e+00,  1.6386e+00,\n",
            "        -6.5207e-01,  5.5168e+00,  1.9681e+00,  5.6502e-01,  2.4236e+00,\n",
            "        -7.5509e-03,  2.6214e+00,  9.7329e+00,  4.0237e+00,  1.9119e-01,\n",
            "         4.9993e+00,  3.9118e+00,  1.0397e+00,  4.9437e-01,  1.1949e+00,\n",
            "         1.3876e+00, -8.0230e-01,  1.0378e-01, -2.0735e+00,  6.6925e+00,\n",
            "        -1.3703e+00,  2.8556e+00,  2.4802e+00,  2.1783e+00, -2.5211e+00,\n",
            "         4.6589e+00,  7.3737e+00, -2.1167e+00, -1.0459e+00,  8.4647e-01,\n",
            "         6.2335e-01,  3.8997e+00,  1.1103e-01, -1.7974e+00, -8.2684e-01,\n",
            "        -3.9360e-01, -9.9893e-01,  1.0080e+01, -2.5208e+00,  9.7320e+00,\n",
            "        -2.4116e+00,  9.9090e-01, -5.1279e-01, -7.5279e-01, -2.9547e+00,\n",
            "        -6.7181e-01, -3.1948e+00,  3.0341e-01,  8.6733e+00,  3.8311e+00,\n",
            "         2.2675e+00, -1.2431e+00,  3.1455e+00, -6.3249e-01,  6.9558e-01,\n",
            "         1.6575e-01,  1.4216e+01,  1.4317e+00,  7.8914e-02, -8.3078e-01,\n",
            "        -2.1605e+00,  1.8107e+00,  8.8364e-01,  6.9920e+00, -2.0776e+00,\n",
            "        -4.4177e+00, -7.2547e-01,  2.5870e+00, -8.5758e-01, -3.7334e+00,\n",
            "         2.9771e-01,  1.5377e+00, -1.5022e+00, -1.4122e+00, -1.2919e+00,\n",
            "         1.0850e+00, -2.1570e+00,  7.4619e-01,  8.2808e-01,  3.1862e-01,\n",
            "         1.7302e-02,  9.6439e-01,  3.1770e+00,  2.4972e+00,  2.4797e+00,\n",
            "         2.7896e+00,  5.7565e+00,  3.8093e+00,  6.6890e+00,  1.5808e+00,\n",
            "        -4.2252e+00, -8.7980e-01,  1.3742e+00,  4.8463e-01, -3.3575e-01,\n",
            "         1.8062e+00, -1.5076e+00,  1.6850e+00, -1.3201e+00, -1.5708e+00,\n",
            "         1.2335e+00, -1.7377e+00,  3.7631e-01,  6.2335e-01,  3.0616e+00,\n",
            "        -2.5842e+00,  2.9720e-01,  5.1382e+00,  2.1010e+00, -3.3600e-01,\n",
            "        -3.0450e+00,  1.3922e+00,  4.6640e-01,  2.6378e+00,  5.1883e-01,\n",
            "         7.4484e-01,  1.3427e-01,  8.4957e+00, -1.1600e+00, -7.2063e-02,\n",
            "         5.8512e+00,  2.5203e+00,  3.8528e-01,  1.7902e+00,  1.5284e+00,\n",
            "        -4.9120e-01, -7.1435e-01, -1.8719e+00,  1.9813e+00,  8.8014e+00,\n",
            "         9.4013e-01,  6.2795e-01,  1.5306e+00, -6.7976e-01,  4.2722e+00,\n",
            "         4.7922e+00,  4.5940e+00,  9.5599e-01, -3.3193e-01, -1.5213e+00,\n",
            "         2.7339e+00,  6.2082e+00,  2.5872e+00,  2.7721e-01,  5.4900e-01,\n",
            "        -1.8140e-01,  3.9482e+00,  1.6905e+00,  2.1085e+00, -1.3412e+00,\n",
            "        -3.6216e-01,  1.7968e+00, -1.3497e+00,  5.3392e+00, -2.3077e+00,\n",
            "         6.6569e-01,  3.0826e+00,  1.1149e+01,  2.6401e+00,  4.0081e+00,\n",
            "         2.6863e+00,  2.0868e+00,  1.3647e+00, -6.8540e-01,  1.5143e+00,\n",
            "         2.4258e+00,  3.1430e+00, -4.7337e-01, -2.8045e+00, -2.0541e+00,\n",
            "         1.0252e-01, -2.0832e+00, -2.5914e+00,  2.5205e+00,  7.9039e-01,\n",
            "         1.8476e+00, -4.0679e-01, -1.3694e+00, -5.0223e-01,  2.2287e+00,\n",
            "         1.3796e+00, -2.0531e+00,  7.2853e+00, -2.3242e+00, -1.1190e-01,\n",
            "         1.1627e+01,  5.9105e+00, -6.9605e-02,  1.4883e+00,  9.9481e-01,\n",
            "         1.8310e-01, -2.1833e+00,  3.3021e+00,  3.7581e+00,  1.6084e+00,\n",
            "        -3.4561e+00,  4.7478e-01,  1.1510e+00,  2.3107e+00, -9.2768e-01,\n",
            "         1.1495e+00,  3.2763e+00,  7.3218e+00,  2.3409e+00,  1.1507e+00,\n",
            "         2.7702e+00,  1.6799e+00, -2.3559e+00, -1.0141e+00,  1.0581e+00,\n",
            "         2.3152e+00,  1.1327e+00,  5.1325e-01,  4.2515e+00, -1.2079e-01,\n",
            "         3.9749e-01, -3.2156e-02,  1.3672e+00,  2.6892e+00,  5.2871e+00,\n",
            "         2.9755e-02,  3.6086e+00, -2.4585e+00,  6.3995e+00,  5.5111e-02,\n",
            "        -1.4184e+00,  8.2336e+00,  1.0810e+00, -1.3985e+00,  1.6742e+00,\n",
            "         8.1938e-02, -1.9116e+00, -5.7367e-02,  1.9542e+00,  6.3341e+00,\n",
            "         1.2910e+00,  2.1153e+00,  7.5239e-01, -2.8541e+00, -8.9276e-01,\n",
            "        -6.8763e-01, -2.0648e+00,  5.1649e-01,  6.8015e+00, -1.6142e+00,\n",
            "        -1.8758e+00,  2.0056e+00,  3.3627e+00, -5.7476e-01, -2.8867e+00,\n",
            "         1.4100e+00,  2.4852e+00,  1.1227e+00,  9.1287e+00, -2.1763e-01,\n",
            "        -2.3967e+00,  2.9653e+00,  2.3507e+00,  1.6193e+00, -5.7785e-01,\n",
            "        -6.1787e-01,  2.9140e+00, -2.3843e+00, -2.7069e+00, -1.3459e+00,\n",
            "        -7.3839e-02,  5.5823e+00,  2.3095e+00,  2.9147e+00,  2.4832e+00,\n",
            "        -1.7786e+00,  1.5053e+00,  3.9306e+00,  1.5690e+00,  3.9869e+00,\n",
            "        -4.5377e-01,  1.6232e+00,  1.1003e+00, -2.3344e-01,  3.5749e+00,\n",
            "         6.6400e-01,  3.7787e+00,  1.5614e+00,  2.2442e+00,  5.2401e-01,\n",
            "        -1.8189e+00, -7.7283e-01, -1.4642e+00, -9.5128e-01,  1.1042e+00,\n",
            "        -2.8489e+00,  8.0925e+00,  2.8300e+00,  1.5889e+00,  2.0898e+00,\n",
            "         2.7523e+00,  5.7592e+00,  5.8908e-01,  9.2830e-01,  4.8277e-01,\n",
            "         2.2740e-02, -1.0576e+00, -1.6390e+00, -6.0992e-01,  1.3702e-02,\n",
            "         1.6293e+00, -3.7499e-01,  6.4511e-01, -1.1797e+00, -3.4424e-01,\n",
            "         7.4906e-01, -9.7879e-01,  1.3749e+00,  6.3968e-01, -4.9405e-01,\n",
            "        -6.1090e-01, -1.8825e+00, -8.0416e-01, -1.5107e+00, -1.2828e+00,\n",
            "        -1.5708e+00, -1.0752e+00, -1.4636e+00, -7.8068e-02, -3.3839e-01,\n",
            "        -6.4295e-01,  1.5376e-01, -1.4884e+00,  5.9233e-01, -1.5157e+00,\n",
            "        -7.5620e-01, -1.1007e+00, -2.4014e+00, -1.4622e+00,  2.5111e-01,\n",
            "         1.8476e+00, -4.7324e-01,  9.4202e-01, -1.3886e+00,  6.4543e-01,\n",
            "        -9.0319e-01,  2.8206e+00,  4.0834e+00,  3.6344e+00,  1.2372e+00,\n",
            "         8.9566e-01, -2.1594e+00, -1.4536e+00,  2.1274e-01, -1.6526e+00,\n",
            "        -6.0113e-01, -1.9493e-01,  1.1088e+00,  1.9238e+00, -2.3808e+00,\n",
            "        -2.6660e+00,  1.6051e-01,  1.3903e+00, -2.5528e+00, -2.5208e+00,\n",
            "        -9.0419e-01, -5.1146e+00, -2.2596e-01, -1.4459e+00, -3.9826e+00,\n",
            "        -2.3378e+00, -2.6628e+00, -2.2559e+00, -1.3972e+00, -2.1787e+00,\n",
            "        -1.5164e+00,  6.8651e-01, -1.4177e+00,  3.9265e-01,  1.5406e-01])\n",
            "tensor([4.1942e-08, 1.3274e-07, 7.7394e-08, 2.5645e-08, 3.5794e-08, 1.4478e-06,\n",
            "        1.4839e-08, 4.7670e-08, 2.7242e-07, 1.8411e-07, 4.2324e-08, 3.0231e-08,\n",
            "        7.5053e-08, 1.1333e-08, 2.9274e-07, 3.0594e-07, 2.2337e-08, 1.0966e-07,\n",
            "        3.8081e-07, 6.4065e-08, 1.6731e-08, 6.4772e-08, 4.7246e-08, 2.8336e-08,\n",
            "        3.3917e-08, 3.6570e-09, 8.4751e-09, 2.9227e-08, 9.6428e-09, 3.3380e-08,\n",
            "        2.5256e-08, 3.8038e-09, 4.0453e-08, 9.8853e-08, 1.6191e-07, 2.9631e-08,\n",
            "        2.2189e-07, 2.1650e-08, 1.9714e-08, 5.2436e-08, 7.2128e-08, 5.6172e-08,\n",
            "        2.0361e-08, 7.2776e-08, 4.1012e-08, 2.1019e-07, 1.4489e-07, 9.1465e-09,\n",
            "        4.3406e-08, 2.2673e-08, 2.9441e-08, 2.2003e-08, 4.2837e-08, 1.8394e-07,\n",
            "        5.1817e-07, 3.1236e-08, 2.3386e-07, 2.0482e-08, 5.0431e-08, 3.6407e-07,\n",
            "        2.8610e-07, 3.3327e-08, 5.4740e-08, 3.5110e-07, 1.0207e-07, 1.7332e-07,\n",
            "        1.6830e-07, 1.1498e-06, 2.4002e-07, 7.5861e-08, 9.7841e-08, 4.0854e-08,\n",
            "        1.8212e-07, 1.7822e-07, 6.3658e-08, 1.0885e-07, 2.3659e-07, 5.9953e-07,\n",
            "        2.3418e-08, 4.1133e-08, 6.1431e-08, 3.7523e-08, 2.9522e-07, 7.4285e-08,\n",
            "        1.3184e-07, 1.4643e-07, 5.7289e-07, 3.3615e-08, 1.0898e-08, 8.2802e-08,\n",
            "        4.8267e-08, 2.0178e-07, 6.5275e-08, 2.4046e-08, 7.6557e-08, 8.7688e-08,\n",
            "        1.2116e-08, 1.6803e-08, 1.3697e-07, 1.7429e-08, 4.1827e-08, 1.3392e-08,\n",
            "        8.6021e-07, 6.5045e-08, 1.0705e-08, 2.4285e-08, 8.5069e-08, 2.4940e-07,\n",
            "        5.3744e-08, 1.7114e-07, 3.4039e-08, 4.0918e-07, 1.1033e-07, 4.6229e-08,\n",
            "        3.2433e-08, 4.6997e-08, 1.6048e-07, 5.8564e-08, 7.1729e-07, 5.3105e-08,\n",
            "        3.8507e-08, 6.6513e-08, 6.3392e-08, 1.1913e-07, 4.6524e-08, 1.6496e-08,\n",
            "        2.7409e-07, 6.6042e-08, 4.3067e-08, 2.4391e-08, 1.4211e-08, 2.3224e-08,\n",
            "        6.9378e-08, 4.4105e-08, 6.9171e-08, 2.8134e-07, 3.8425e-08, 5.0204e-08,\n",
            "        4.4252e-08, 1.3927e-07, 3.1944e-07, 2.4724e-08, 1.6449e-07, 1.7784e-08,\n",
            "        8.1084e-08, 1.7854e-07, 1.6956e-07, 9.1774e-08, 5.0591e-07, 6.8265e-08,\n",
            "        7.0714e-08, 3.8962e-07, 8.2379e-08, 8.7844e-08, 2.8391e-07, 2.7199e-07,\n",
            "        7.8437e-08, 5.0062e-08, 6.5601e-08, 3.0660e-07, 1.1918e-07, 5.6414e-07,\n",
            "        1.6969e-07, 1.4175e-07, 1.3581e-07, 1.2256e-07, 4.1396e-08, 3.7128e-07,\n",
            "        1.0892e-07, 7.4780e-08, 2.1603e-08, 3.3494e-08, 5.1784e-09, 2.4259e-08,\n",
            "        1.1153e-07, 2.1041e-07, 4.9234e-09, 2.4434e-08, 6.5899e-08, 1.9006e-08,\n",
            "        1.5216e-08, 1.3238e-07, 8.6380e-07, 4.7462e-07, 2.7117e-07, 1.0201e-05,\n",
            "        5.2051e-06, 2.3276e-07, 6.2425e-07, 5.1155e-07, 2.3580e-07, 4.3403e-07,\n",
            "        4.8302e-07, 2.5490e-07, 3.8266e-07, 8.9994e-08, 4.2322e-08, 1.0975e-07,\n",
            "        6.2714e-08, 1.0888e-06, 1.4582e-07, 4.3628e-08, 6.5284e-07, 2.9059e-07,\n",
            "        4.0720e-07, 6.0356e-08, 1.2379e-07, 4.0605e-07, 4.8024e-07, 4.0926e-08,\n",
            "        8.3347e-08, 1.1400e-06, 7.5129e-08, 7.0773e-08, 1.8625e-07, 6.7743e-07,\n",
            "        3.9693e-08, 5.0879e-08, 1.4963e-07, 5.9445e-07, 1.3752e-07, 1.1238e-07,\n",
            "        3.7700e-08, 1.8014e-07, 1.3610e-07, 4.0582e-08, 7.0301e-08, 3.0423e-08,\n",
            "        3.9230e-08, 1.0203e-07, 1.2994e-07, 2.7139e-07, 5.1936e-07, 9.2948e-07,\n",
            "        1.7648e-07, 1.5779e-07, 8.1636e-08, 5.4570e-08, 1.2049e-07, 7.4088e-07,\n",
            "        5.2334e-07, 1.0321e-07, 7.5748e-08, 5.3212e-08, 3.4256e-07, 1.3448e-07,\n",
            "        8.7716e-09, 2.2539e-07, 1.7482e-07, 5.5647e-08, 6.7262e-08, 2.7382e-07,\n",
            "        4.1980e-07, 4.1280e-08, 1.1643e-06, 1.4002e-07, 1.0100e-06, 1.6577e-07,\n",
            "        1.3992e-06, 7.4745e-07, 6.3331e-07, 4.7441e-08, 6.6107e-07, 4.5873e-07,\n",
            "        1.3099e-06, 2.2827e-06, 8.0437e-07, 2.9842e-07, 1.4218e-08, 1.8219e-07,\n",
            "        1.0225e-07, 6.8297e-08, 1.5596e-07, 2.4963e-07, 6.3454e-08, 1.2555e-08,\n",
            "        3.8331e-08, 3.8870e-07, 1.2718e-07, 2.2571e-07, 2.0565e-07, 1.1286e-06,\n",
            "        1.9720e-06, 1.5346e-06, 5.8679e-07, 6.6096e-07, 1.4355e-08, 3.8657e-07,\n",
            "        5.5390e-08, 3.2494e-08, 5.4635e-08, 2.8958e-08, 7.6495e-08, 6.5142e-07,\n",
            "        1.6941e-07, 1.8322e-07, 3.5118e-07, 4.9692e-08, 1.0223e-08, 2.3409e-07,\n",
            "        5.4468e-08, 2.3257e-08, 5.9902e-08, 2.6319e-08, 1.3757e-08, 6.0161e-08,\n",
            "        1.2856e-07, 2.1956e-08, 5.6237e-08, 2.0710e-07, 3.9926e-07, 1.5828e-07,\n",
            "        1.0848e-07, 1.4215e-06, 7.7694e-08, 6.6369e-08, 1.5392e-07, 3.7441e-08,\n",
            "        3.3495e-08, 1.7804e-07, 1.6282e-07, 4.3647e-08, 3.6960e-08, 6.3175e-08,\n",
            "        4.3090e-08, 1.7379e-08, 5.2005e-08, 4.8942e-08, 1.3875e-06, 4.2750e-07,\n",
            "        4.7509e-07, 1.3355e-07, 3.5419e-07, 6.7050e-07, 4.1315e-07, 3.7418e-07,\n",
            "        1.5092e-07, 2.4538e-06, 5.5823e-07, 1.6343e-08, 1.5970e-08, 4.6380e-08,\n",
            "        1.8930e-08, 5.1936e-09, 6.4302e-09, 2.6663e-08, 1.6079e-09, 9.7421e-08,\n",
            "        1.9341e-08, 1.0334e-08, 1.2327e-08, 2.7870e-08, 1.4604e-08, 9.0288e-08,\n",
            "        1.3475e-08, 7.5555e-08, 1.0481e-06, 3.1200e-07, 2.0086e-07, 1.5968e-07,\n",
            "        1.3752e-07, 3.4514e-07, 5.4366e-07, 9.1216e-08, 3.8224e-08, 4.1387e-08,\n",
            "        2.8309e-08, 1.1310e-07, 1.0494e-07, 4.8516e-08, 1.3860e-08, 5.5879e-08,\n",
            "        4.1357e-08, 2.2843e-08, 2.5487e-08, 4.4362e-09, 1.0441e-07, 2.6803e-08,\n",
            "        3.1175e-08, 2.2786e-08, 1.0186e-07, 1.1400e-08, 6.5424e-08, 8.7064e-08,\n",
            "        3.0423e-08, 1.7898e-09, 1.3278e-08, 1.7107e-07, 1.5468e-07, 6.5154e-08,\n",
            "        1.3499e-07, 7.9803e-08, 1.2529e-07, 1.7364e-08, 4.3648e-08, 1.5854e-07,\n",
            "        1.1245e-07, 1.4176e-07, 7.4176e-05, 1.4176e-06, 4.8617e-07, 8.7194e-06,\n",
            "        4.2054e-07, 7.2193e-08, 1.9370e-07, 3.3399e-07, 9.5149e-08, 1.0226e-07,\n",
            "        4.0689e-08, 6.0883e-05, 5.6646e-06, 2.7721e-07, 4.1716e-05, 3.5917e-08,\n",
            "        3.9718e-07, 1.5804e-06, 1.1853e-07, 1.4403e-06, 8.1958e-05, 1.5253e-05,\n",
            "        5.5881e-08, 2.3769e-06, 4.2878e-07, 5.8166e-06, 7.1249e-07, 7.0210e-08,\n",
            "        3.5890e-06, 3.5298e-07, 8.3376e-08, 1.8772e-07, 8.4590e-07, 4.7379e-07,\n",
            "        5.8555e-07, 2.2219e-07, 9.0320e-08, 4.8755e-06, 7.6867e-07, 2.3920e-06,\n",
            "        1.0834e-05, 4.1823e-07, 3.2103e-07, 5.1247e-07, 4.0826e-07, 2.2249e-07,\n",
            "        1.6203e-07, 2.0132e-07, 4.5784e-05, 1.7823e-06, 2.0960e-07, 1.2841e-07,\n",
            "        3.1765e-08, 1.0695e-06, 1.2668e-08, 1.1594e-06, 2.5746e-07, 9.9053e-07,\n",
            "        4.2696e-07, 6.8622e-08, 2.4834e-06, 2.4124e-08, 7.3772e-08, 9.7096e-07,\n",
            "        5.2789e-07, 8.8979e-07, 7.6178e-06, 4.7747e-07, 5.5366e-07, 5.5475e-08,\n",
            "        4.1958e-07, 3.3970e-07, 1.1299e-05, 1.3056e-07, 4.5826e-07, 2.4008e-06,\n",
            "        3.0100e-08, 2.5948e-06, 1.1149e-07, 3.5882e-05, 7.2800e-06, 7.1231e-06,\n",
            "        8.5819e-05, 7.0846e-06, 5.6504e-04, 5.5336e-08, 1.3115e-05, 4.5652e-05,\n",
            "        1.5360e-07, 1.1403e-03, 3.4373e-07, 2.6072e-07, 5.9427e-07, 5.7311e-08,\n",
            "        2.3439e-05, 6.4219e-06, 1.2147e-07, 1.7459e-07, 2.4671e-08, 2.7325e-06,\n",
            "        2.7204e-06, 9.7935e-07, 3.0261e-08, 9.4085e-08, 1.2333e-08, 3.8764e-06,\n",
            "        7.2185e-06, 1.5325e-06, 3.5338e-06, 4.3962e-05, 1.1341e-02, 9.8215e-08,\n",
            "        7.0062e-07, 4.4935e-06, 7.3284e-06, 4.0359e-07, 7.2730e-08, 1.7011e-07,\n",
            "        1.6095e-06, 3.0062e-07, 4.4199e-07, 6.5286e-06, 8.9020e-07, 3.1344e-07,\n",
            "        6.3521e-07, 3.5471e-07, 2.7406e-07, 2.2335e-08, 4.9801e-04, 1.5633e-01,\n",
            "        3.6756e-05, 5.8517e-08, 6.5062e-04, 3.8504e-04, 6.6717e-07, 2.3777e-06,\n",
            "        4.2559e-04, 8.1201e-08, 7.6473e-07, 6.4897e-08, 1.9063e-06, 5.1710e-06,\n",
            "        9.2615e-08, 5.8302e-07, 2.3863e-06, 5.1616e-06, 1.4434e-06, 5.5200e-06,\n",
            "        1.3499e-05, 2.2481e-08, 3.5710e-05, 6.7978e-06, 7.6089e-05, 1.3103e-04,\n",
            "        3.7207e-07, 6.2100e-05, 5.9249e-09, 3.1833e-08, 4.8819e-05, 2.8043e-06,\n",
            "        2.0793e-07, 1.8369e-05, 1.8721e-07, 7.4525e-07, 8.5488e-08, 6.3573e-06,\n",
            "        2.8959e-07, 8.0464e-08, 4.7941e-07, 4.7459e-07, 6.2761e-08, 7.7951e-08,\n",
            "        1.3697e-06, 2.2721e-06, 9.5033e-07, 1.2857e-07, 2.9176e-06, 1.9605e-06,\n",
            "        2.1769e-07, 3.6693e-08, 1.2379e-06, 7.1540e-06, 1.6053e-06, 2.5890e-05,\n",
            "        1.5768e-06, 1.0480e-05, 1.3429e-07, 9.9970e-07, 6.5453e-08, 1.3144e-06,\n",
            "        2.7309e-05, 1.1792e-06, 1.6625e-02, 2.7920e-07, 2.5274e-03, 3.2034e-06,\n",
            "        2.5135e-07, 2.3792e-07, 9.6813e-08, 1.0361e-07, 1.5794e-04, 5.8263e-05,\n",
            "        1.3973e-06, 1.4299e-07, 3.0103e-07, 1.3167e-08, 1.4339e-06, 1.6750e-03,\n",
            "        3.1284e-06, 7.4133e-08, 3.9990e-07, 7.6946e-07, 5.9086e-07, 2.5454e-06,\n",
            "        2.7228e-08, 1.1307e-04, 2.7769e-07, 2.2099e-07, 2.4320e-07, 9.0667e-06,\n",
            "        1.7504e-06, 8.2615e-06, 7.7914e-02, 4.4009e-07, 3.7639e-06, 2.0999e-05,\n",
            "        2.1056e-06, 2.1308e-07, 1.0177e-04, 2.9274e-06, 7.1963e-07, 4.6162e-06,\n",
            "        4.0592e-07, 5.6257e-06, 6.8974e-03, 2.2867e-05, 4.9517e-07, 6.0658e-05,\n",
            "        2.0445e-05, 1.1569e-06, 6.7054e-07, 1.3510e-06, 1.6382e-06, 1.8335e-07,\n",
            "        4.5373e-07, 5.1432e-08, 3.2980e-04, 1.0390e-07, 7.1108e-06, 4.8850e-06,\n",
            "        3.6121e-06, 3.2871e-08, 4.3157e-05, 6.5178e-04, 4.9258e-08, 1.4372e-07,\n",
            "        9.5355e-07, 7.6285e-07, 2.0200e-05, 4.5703e-07, 6.7783e-08, 1.7891e-07,\n",
            "        2.7592e-07, 1.5062e-07, 9.7638e-03, 3.2882e-08, 6.8911e-03, 3.6674e-08,\n",
            "        1.1017e-06, 2.4492e-07, 1.9266e-07, 2.1306e-08, 2.0891e-07, 1.6758e-08,\n",
            "        5.5398e-07, 2.3904e-03, 1.8861e-05, 3.9491e-06, 1.1799e-07, 9.5020e-06,\n",
            "        2.1729e-07, 8.1999e-07, 4.8274e-07, 6.1056e-01, 1.7120e-06, 4.4258e-07,\n",
            "        1.7821e-07, 4.7147e-08, 2.5009e-06, 9.8966e-07, 4.4494e-04, 5.1221e-08,\n",
            "        4.9333e-09, 1.9800e-07, 5.4357e-06, 1.7349e-07, 9.7797e-09, 5.5083e-07,\n",
            "        1.9035e-06, 9.1055e-08, 9.9637e-08, 1.1237e-07, 1.2104e-06, 4.7308e-08,\n",
            "        8.6256e-07, 9.3617e-07, 5.6247e-07, 4.1614e-07, 1.0729e-06, 9.8057e-06,\n",
            "        4.9688e-06, 4.8826e-06, 6.6561e-06, 1.2934e-04, 1.8453e-05, 3.2864e-04,\n",
            "        1.9872e-06, 5.9809e-09, 1.6968e-07, 1.6164e-06, 6.6404e-07, 2.9235e-07,\n",
            "        2.4898e-06, 9.0566e-08, 2.2055e-06, 1.0925e-07, 8.5021e-08, 1.4042e-06,\n",
            "        7.1953e-08, 5.9588e-07, 7.6286e-07, 8.7369e-06, 3.0863e-08, 5.5055e-07,\n",
            "        6.9698e-05, 3.3432e-06, 2.9228e-07, 1.9467e-08, 1.6458e-06, 6.5205e-07,\n",
            "        5.7188e-06, 6.8714e-07, 8.6140e-07, 4.6777e-07, 2.0015e-03, 1.2821e-07,\n",
            "        3.8056e-07, 1.4219e-04, 5.0851e-06, 6.0124e-07, 2.4501e-06, 1.8858e-06,\n",
            "        2.5026e-07, 2.0021e-07, 6.2915e-08, 2.9663e-06, 2.7172e-03, 1.0472e-06,\n",
            "        7.6637e-07, 1.8899e-06, 2.0726e-07, 2.9317e-05, 4.9311e-05, 4.0444e-05,\n",
            "        1.0639e-06, 2.9347e-07, 8.9333e-08, 6.2956e-06, 2.0320e-04, 5.4367e-06,\n",
            "        5.3965e-07, 7.0819e-07, 3.4115e-07, 2.1204e-05, 2.2176e-06, 3.3684e-06,\n",
            "        1.0697e-07, 2.8473e-07, 2.4663e-06, 1.0606e-07, 8.5213e-05, 4.0693e-08,\n",
            "        7.9584e-07, 8.9228e-06, 2.8428e-02, 5.7319e-06, 2.2511e-05, 6.0031e-06,\n",
            "        3.2962e-06, 1.6010e-06, 2.0609e-07, 1.8593e-06, 4.6262e-06, 9.4780e-06,\n",
            "        2.5477e-07, 2.4759e-08, 5.2438e-08, 4.5316e-07, 5.0932e-08, 3.0640e-08,\n",
            "        5.0858e-06, 9.0154e-07, 2.5948e-06, 2.7231e-07, 1.0399e-07, 2.4752e-07,\n",
            "        3.7986e-06, 1.6250e-06, 5.2487e-08, 5.9659e-04, 4.0025e-08, 3.6570e-07,\n",
            "        4.5820e-02, 1.5088e-04, 3.8150e-07, 1.8117e-06, 1.1060e-06, 4.9118e-07,\n",
            "        4.6084e-08, 1.1112e-05, 1.7532e-05, 2.0430e-06, 1.2906e-08, 6.5753e-07,\n",
            "        1.2930e-06, 4.1231e-06, 1.6175e-07, 1.2910e-06, 1.0830e-05, 6.1877e-04,\n",
            "        4.2499e-06, 1.2926e-06, 6.5286e-06, 2.1943e-06, 3.8776e-08, 1.4835e-07,\n",
            "        1.1782e-06, 4.1419e-06, 1.2696e-06, 6.8332e-07, 2.8718e-05, 3.6246e-07,\n",
            "        6.0863e-07, 3.9606e-07, 1.6050e-06, 6.0202e-06, 8.0891e-05, 4.2135e-07,\n",
            "        1.5098e-05, 3.4996e-08, 2.4602e-04, 4.3217e-07, 9.9021e-08, 1.5400e-03,\n",
            "        1.2056e-06, 1.0101e-07, 2.1817e-06, 4.4392e-07, 6.0465e-08, 3.8620e-07,\n",
            "        2.8868e-06, 2.3046e-04, 1.4872e-06, 3.3914e-06, 8.6793e-07, 2.3562e-08,\n",
            "        1.6750e-07, 2.0563e-07, 5.1881e-08, 6.8554e-07, 3.6778e-04, 8.1414e-08,\n",
            "        6.2675e-08, 3.0390e-06, 1.1807e-05, 2.3020e-07, 2.2805e-08, 1.6753e-06,\n",
            "        4.9093e-06, 1.2569e-06, 3.7692e-03, 3.2901e-07, 3.7227e-08, 7.9346e-06,\n",
            "        4.2914e-06, 2.0654e-06, 2.2949e-07, 2.2049e-07, 7.5383e-06, 3.7691e-08,\n",
            "        2.7297e-08, 1.0647e-07, 3.7989e-07, 1.0866e-04, 4.1184e-06, 7.5432e-06,\n",
            "        4.8994e-06, 6.9071e-08, 1.8427e-06, 2.0833e-05, 1.9640e-06, 2.2041e-05,\n",
            "        2.5981e-07, 2.0733e-06, 1.2291e-06, 3.2385e-07, 1.4597e-05, 7.9450e-07,\n",
            "        1.7898e-05, 1.9492e-06, 3.8580e-06, 6.9072e-07, 6.6342e-08, 1.8884e-07,\n",
            "        9.4588e-08, 1.5798e-07, 1.2339e-06, 2.3684e-08, 1.3373e-03, 6.9306e-06,\n",
            "        2.0033e-06, 3.3062e-06, 6.4128e-06, 1.2969e-04, 7.3715e-07, 1.0349e-06,\n",
            "        6.6281e-07, 4.1841e-07, 1.4204e-07, 7.9421e-08, 2.2225e-07, 4.1464e-07,\n",
            "        2.0859e-06, 2.8110e-07, 7.7964e-07, 1.2572e-07, 2.8988e-07, 8.6504e-07,\n",
            "        1.5369e-07, 1.6174e-06, 7.7541e-07, 2.4955e-07, 2.2203e-07, 6.2254e-08,\n",
            "        1.8301e-07, 9.0286e-08, 1.1340e-07, 8.5024e-08, 1.3956e-07, 9.4644e-08,\n",
            "        3.7829e-07, 2.9158e-07, 2.1503e-07, 4.7698e-07, 9.2329e-08, 7.3955e-07,\n",
            "        8.9835e-08, 1.9200e-07, 1.3604e-07, 3.7052e-08, 9.4777e-08, 5.2575e-07,\n",
            "        2.5950e-06, 2.5480e-07, 1.0492e-06, 1.0202e-07, 7.7989e-07, 1.6576e-07,\n",
            "        6.8660e-06, 2.4272e-05, 1.5492e-05, 1.4094e-06, 1.0016e-06, 4.7198e-08,\n",
            "        9.5594e-08, 5.0596e-07, 7.8341e-08, 2.2421e-07, 3.3656e-07, 1.2396e-06,\n",
            "        2.8005e-06, 3.7823e-08, 2.8439e-08, 4.8021e-07, 1.6426e-06, 3.1845e-08,\n",
            "        3.2881e-08, 1.6559e-07, 2.4575e-09, 3.2628e-07, 9.6333e-08, 7.6229e-09,\n",
            "        3.9487e-08, 2.8529e-08, 4.2853e-08, 1.0115e-07, 4.6296e-08, 8.9777e-08,\n",
            "        8.1259e-07, 9.9092e-08, 6.0569e-07, 4.7712e-07])\n"
          ]
        }
      ]
    },
    {
      "cell_type": "code",
      "source": [
        "# Load the labels from ImageNet\n",
        "LABELS_URL = \"https://raw.githubusercontent.com/anishathalye/imagenet-simple-labels/master/imagenet-simple-labels.json\"\n",
        "labels = urllib.request.urlopen(LABELS_URL).read()\n",
        "import json\n",
        "labels = json.loads(labels)\n",
        "\n",
        "# Find the index of the highest probability\n",
        "_, predicted_idx = torch.max(probabilities, dim=0)\n",
        "\n",
        "# Get the predicted label\n",
        "predicted_label = labels[predicted_idx]\n",
        "\n",
        "# Print the result\n",
        "print(f\"Predicted label: {predicted_label}\")\n",
        "print(f\"Probability: {probabilities[predicted_idx].item()}\")"
      ],
      "metadata": {
        "colab": {
          "base_uri": "https://localhost:8080/"
        },
        "id": "myCjqsQ8fVPr",
        "outputId": "3edc0de5-0689-4d53-dddc-f7f5a1cf9799"
      },
      "execution_count": null,
      "outputs": [
        {
          "output_type": "stream",
          "name": "stdout",
          "text": [
            "Predicted label: notebook computer\n",
            "Probability: 0.6105605959892273\n"
          ]
        }
      ]
    },
    {
      "cell_type": "markdown",
      "source": [],
      "metadata": {
        "id": "scKF5bALfVC3"
      }
    },
    {
      "cell_type": "code",
      "source": [
        "!pip install --upgrade torch torchvision"
      ],
      "metadata": {
        "id": "8TMf5Gs2nVAh"
      },
      "execution_count": null,
      "outputs": []
    },
    {
      "cell_type": "code",
      "source": [
        "import torch\n",
        "import torchvision\n",
        "print(torch.__version__)\n"
      ],
      "metadata": {
        "colab": {
          "base_uri": "https://localhost:8080/"
        },
        "id": "dbBE_eyrmBOB",
        "outputId": "56e7bf96-bc8c-4701-afaa-ff97fdca9506"
      },
      "execution_count": null,
      "outputs": [
        {
          "output_type": "stream",
          "name": "stdout",
          "text": [
            "2.3.0+cu121\n"
          ]
        }
      ]
    },
    {
      "cell_type": "markdown",
      "source": [
        "#VGG transfer learning with CIFAR10"
      ],
      "metadata": {
        "id": "EbdOISystSow"
      }
    },
    {
      "cell_type": "code",
      "source": [
        "import torch\n",
        "from torchvision import datasets, transforms, models\n",
        "from torch.utils.data import DataLoader\n",
        "import torch.nn as nn\n",
        "import torch.optim as optim\n",
        "\n",
        "# Define preprocessing transformations\n",
        "preprocess = transforms.Compose([\n",
        "    transforms.Resize(256),\n",
        "    transforms.CenterCrop(224),\n",
        "    transforms.ToTensor(),\n",
        "    transforms.Normalize(mean=[0.485, 0.456, 0.406], std=[0.229, 0.224, 0.225]),\n",
        "])\n",
        "\n",
        "# Load CIFAR-10 dataset\n",
        "train_dataset = datasets.CIFAR10(root='./data', train=True, download=True, transform=preprocess)\n",
        "train_loader = DataLoader(train_dataset, batch_size=32, shuffle=True)\n",
        "\n",
        "val_dataset = datasets.CIFAR10(root='./data', train=False, download=True, transform=preprocess)\n",
        "val_loader = DataLoader(val_dataset, batch_size=32, shuffle=False)\n",
        "\n",
        "# Load pretrained VGG16 model\n",
        "model = models.vgg16(pretrained=True)\n",
        "num_classes = 10  # CIFAR-10 has 10 classes\n",
        "model.classifier[6] = nn.Linear(model.classifier[6].in_features, num_classes)\n",
        "\n",
        "# Define loss function and optimizer\n",
        "criterion = nn.CrossEntropyLoss()\n",
        "optimizer = optim.SGD(model.parameters(), lr=0.001, momentum=0.9)\n",
        "\n",
        "# Move model to GPU if available\n",
        "if torch.cuda.is_available():\n",
        "    model = model.to('cuda')\n",
        "\n",
        "# Training loop\n",
        "def train_model(model, train_loader, criterion, optimizer, num_epochs=25):\n",
        "    model.train()\n",
        "    for epoch in range(num_epochs):\n",
        "        running_loss = 0.0\n",
        "        for inputs, labels in train_loader:\n",
        "            if torch.cuda.is_available():\n",
        "                inputs, labels = inputs.to('cuda'), labels.to('cuda')\n",
        "            optimizer.zero_grad()\n",
        "            outputs = model(inputs)\n",
        "            loss = criterion(outputs, labels)\n",
        "            loss.backward()\n",
        "            optimizer.step()\n",
        "            running_loss += loss.item() * inputs.size(0)\n",
        "\n",
        "        epoch_loss = running_loss / len(train_loader.dataset)\n",
        "        print(f'Epoch {epoch}/{num_epochs - 1}, Loss: {epoch_loss:.4f}')\n",
        "\n",
        "    return model\n",
        "\n",
        "# Fine-tune the model\n",
        "model = train_model(model, train_loader, criterion, optimizer, num_epochs=25)\n",
        "\n",
        "# Evaluate the model\n",
        "def evaluate_model(model, val_loader):\n",
        "    model.eval()\n",
        "    correct = 0\n",
        "    total = 0\n",
        "    with torch.no_grad():\n",
        "        for inputs, labels in val_loader:\n",
        "            if torch.cuda.is_available():\n",
        "                inputs, labels = inputs.to('cuda'), labels.to('cuda')\n",
        "            outputs = model(inputs)\n",
        "            _, predicted = torch.max(outputs, 1)\n",
        "            total += labels.size(0)\n",
        "            correct += (predicted == labels).sum().item()\n",
        "\n",
        "    accuracy = 100 * correct / total\n",
        "    print(f'Accuracy: {accuracy:.2f}%')\n",
        "\n",
        "# Evaluate the fine-tuned model\n",
        "evaluate_model(model, val_loader)"
      ],
      "metadata": {
        "colab": {
          "base_uri": "https://localhost:8080/",
          "height": 593
        },
        "id": "p_TMwlH-mBKL",
        "outputId": "ca22187e-b587-466f-d001-9d40a307235e"
      },
      "execution_count": null,
      "outputs": [
        {
          "output_type": "stream",
          "name": "stdout",
          "text": [
            "Downloading https://www.cs.toronto.edu/~kriz/cifar-10-python.tar.gz to ./data/cifar-10-python.tar.gz\n"
          ]
        },
        {
          "output_type": "stream",
          "name": "stderr",
          "text": [
            "100%|██████████| 170498071/170498071 [00:13<00:00, 12863455.67it/s]\n"
          ]
        },
        {
          "output_type": "stream",
          "name": "stdout",
          "text": [
            "Extracting ./data/cifar-10-python.tar.gz to ./data\n",
            "Files already downloaded and verified\n"
          ]
        },
        {
          "output_type": "stream",
          "name": "stderr",
          "text": [
            "/usr/local/lib/python3.10/dist-packages/torchvision/models/_utils.py:208: UserWarning: The parameter 'pretrained' is deprecated since 0.13 and may be removed in the future, please use 'weights' instead.\n",
            "  warnings.warn(\n",
            "/usr/local/lib/python3.10/dist-packages/torchvision/models/_utils.py:223: UserWarning: Arguments other than a weight enum or `None` for 'weights' are deprecated since 0.13 and may be removed in the future. The current behavior is equivalent to passing `weights=VGG16_Weights.IMAGENET1K_V1`. You can also use `weights=VGG16_Weights.DEFAULT` to get the most up-to-date weights.\n",
            "  warnings.warn(msg)\n",
            "Downloading: \"https://download.pytorch.org/models/vgg16-397923af.pth\" to /root/.cache/torch/hub/checkpoints/vgg16-397923af.pth\n",
            "100%|██████████| 528M/528M [00:07<00:00, 70.4MB/s]\n"
          ]
        },
        {
          "output_type": "stream",
          "name": "stdout",
          "text": [
            "Epoch 0/24, Loss: 0.4808\n",
            "Epoch 1/24, Loss: 0.2431\n",
            "Epoch 2/24, Loss: 0.1608\n"
          ]
        },
        {
          "output_type": "error",
          "ename": "KeyboardInterrupt",
          "evalue": "",
          "traceback": [
            "\u001b[0;31m---------------------------------------------------------------------------\u001b[0m",
            "\u001b[0;31mKeyboardInterrupt\u001b[0m                         Traceback (most recent call last)",
            "\u001b[0;32m<ipython-input-2-4c4b4e278550>\u001b[0m in \u001b[0;36m<cell line: 56>\u001b[0;34m()\u001b[0m\n\u001b[1;32m     54\u001b[0m \u001b[0;34m\u001b[0m\u001b[0m\n\u001b[1;32m     55\u001b[0m \u001b[0;31m# Fine-tune the model\u001b[0m\u001b[0;34m\u001b[0m\u001b[0;34m\u001b[0m\u001b[0m\n\u001b[0;32m---> 56\u001b[0;31m \u001b[0mmodel\u001b[0m \u001b[0;34m=\u001b[0m \u001b[0mtrain_model\u001b[0m\u001b[0;34m(\u001b[0m\u001b[0mmodel\u001b[0m\u001b[0;34m,\u001b[0m \u001b[0mtrain_loader\u001b[0m\u001b[0;34m,\u001b[0m \u001b[0mcriterion\u001b[0m\u001b[0;34m,\u001b[0m \u001b[0moptimizer\u001b[0m\u001b[0;34m,\u001b[0m \u001b[0mnum_epochs\u001b[0m\u001b[0;34m=\u001b[0m\u001b[0;36m25\u001b[0m\u001b[0;34m)\u001b[0m\u001b[0;34m\u001b[0m\u001b[0;34m\u001b[0m\u001b[0m\n\u001b[0m\u001b[1;32m     57\u001b[0m \u001b[0;34m\u001b[0m\u001b[0m\n\u001b[1;32m     58\u001b[0m \u001b[0;31m# Evaluate the model\u001b[0m\u001b[0;34m\u001b[0m\u001b[0;34m\u001b[0m\u001b[0m\n",
            "\u001b[0;32m<ipython-input-2-4c4b4e278550>\u001b[0m in \u001b[0;36mtrain_model\u001b[0;34m(model, train_loader, criterion, optimizer, num_epochs)\u001b[0m\n\u001b[1;32m     46\u001b[0m             \u001b[0mloss\u001b[0m\u001b[0;34m.\u001b[0m\u001b[0mbackward\u001b[0m\u001b[0;34m(\u001b[0m\u001b[0;34m)\u001b[0m\u001b[0;34m\u001b[0m\u001b[0;34m\u001b[0m\u001b[0m\n\u001b[1;32m     47\u001b[0m             \u001b[0moptimizer\u001b[0m\u001b[0;34m.\u001b[0m\u001b[0mstep\u001b[0m\u001b[0;34m(\u001b[0m\u001b[0;34m)\u001b[0m\u001b[0;34m\u001b[0m\u001b[0;34m\u001b[0m\u001b[0m\n\u001b[0;32m---> 48\u001b[0;31m             \u001b[0mrunning_loss\u001b[0m \u001b[0;34m+=\u001b[0m \u001b[0mloss\u001b[0m\u001b[0;34m.\u001b[0m\u001b[0mitem\u001b[0m\u001b[0;34m(\u001b[0m\u001b[0;34m)\u001b[0m \u001b[0;34m*\u001b[0m \u001b[0minputs\u001b[0m\u001b[0;34m.\u001b[0m\u001b[0msize\u001b[0m\u001b[0;34m(\u001b[0m\u001b[0;36m0\u001b[0m\u001b[0;34m)\u001b[0m\u001b[0;34m\u001b[0m\u001b[0;34m\u001b[0m\u001b[0m\n\u001b[0m\u001b[1;32m     49\u001b[0m \u001b[0;34m\u001b[0m\u001b[0m\n\u001b[1;32m     50\u001b[0m         \u001b[0mepoch_loss\u001b[0m \u001b[0;34m=\u001b[0m \u001b[0mrunning_loss\u001b[0m \u001b[0;34m/\u001b[0m \u001b[0mlen\u001b[0m\u001b[0;34m(\u001b[0m\u001b[0mtrain_loader\u001b[0m\u001b[0;34m.\u001b[0m\u001b[0mdataset\u001b[0m\u001b[0;34m)\u001b[0m\u001b[0;34m\u001b[0m\u001b[0;34m\u001b[0m\u001b[0m\n",
            "\u001b[0;31mKeyboardInterrupt\u001b[0m: "
          ]
        }
      ]
    },
    {
      "cell_type": "code",
      "source": [
        "import torch\n",
        "from torchvision import datasets, transforms, models\n",
        "from torch.utils.data import DataLoader\n",
        "import torch.nn as nn\n",
        "import torch.optim as optim\n",
        "import time\n",
        "\n",
        "# Define preprocessing transformations\n",
        "preprocess = transforms.Compose([\n",
        "    transforms.Resize(256),\n",
        "    transforms.CenterCrop(224),\n",
        "    transforms.ToTensor(),\n",
        "    transforms.Normalize(mean=[0.485, 0.456, 0.406], std=[0.229, 0.224, 0.225]),\n",
        "])\n",
        "\n",
        "# Load CIFAR-10 dataset\n",
        "train_dataset = datasets.CIFAR10(root='./data', train=True, download=True, transform=preprocess)\n",
        "train_loader = DataLoader(train_dataset, batch_size=32, shuffle=True)\n",
        "\n",
        "val_dataset = datasets.CIFAR10(root='./data', train=False, download=True, transform=preprocess)\n",
        "val_loader = DataLoader(val_dataset, batch_size=32, shuffle=False)\n",
        "\n",
        "# Load pretrained VGG16 model with updated weights argument\n",
        "model = models.vgg16(weights=models.VGG16_Weights.IMAGENET1K_V1)\n",
        "num_classes = 10  # CIFAR-10 has 10 classes\n",
        "model.classifier[6] = nn.Linear(model.classifier[6].in_features, num_classes)\n",
        "\n",
        "# Define loss function and optimizer\n",
        "criterion = nn.CrossEntropyLoss()\n",
        "optimizer = optim.SGD(model.classifier[6].parameters(), lr=0.001, momentum=0.9)  # Only fine-tuning the last layer\n",
        "\n",
        "# Move model to GPU if available\n",
        "if torch.cuda.is_available():\n",
        "    model = model.to('cuda')\n",
        "\n",
        "# Training loop\n",
        "def train_model(model, train_loader, criterion, optimizer, num_epochs=10):\n",
        "    model.train()\n",
        "    for epoch in range(num_epochs):\n",
        "        start_time = time.time()\n",
        "        running_loss = 0.0\n",
        "        for inputs, labels in train_loader:\n",
        "            if torch.cuda.is_available():\n",
        "                inputs, labels = inputs.to('cuda'), labels.to('cuda')\n",
        "            optimizer.zero_grad()\n",
        "            outputs = model(inputs)\n",
        "            loss = criterion(outputs, labels)\n",
        "            loss.backward()\n",
        "            optimizer.step()\n",
        "            running_loss += loss.item() * inputs.size(0)\n",
        "\n",
        "        epoch_loss = running_loss / len(train_loader.dataset)\n",
        "        epoch_time = time.time() - start_time\n",
        "        print(f'Epoch {epoch+1}/{num_epochs}, Loss: {epoch_loss:.4f}, Time: {epoch_time:.2f}s')\n",
        "\n",
        "    return model\n",
        "\n",
        "# Fine-tune the model\n",
        "num_epochs = 10\n",
        "model = train_model(model, train_loader, criterion, optimizer, num_epochs)\n",
        "\n",
        "# Evaluate the model\n",
        "def evaluate_model(model, val_loader):\n",
        "    model.eval()\n",
        "    correct = 0\n",
        "    total = 0\n",
        "    with torch.no_grad():\n",
        "        for inputs, labels in val_loader:\n",
        "            if torch.cuda.is_available():\n",
        "                inputs, labels = inputs.to('cuda'), labels.to('cuda')\n",
        "            outputs = model(inputs)\n",
        "            _, predicted = torch.max(outputs, 1)\n",
        "            total += labels.size(0)\n",
        "            correct += (predicted == labels).sum().item()\n",
        "\n",
        "    accuracy = 100 * correct / total\n",
        "    print(f'Accuracy: {accuracy:.2f}%')\n",
        "\n",
        "# Evaluate the fine-tuned model\n",
        "evaluate_model(model, val_loader)"
      ],
      "metadata": {
        "colab": {
          "base_uri": "https://localhost:8080/",
          "height": 376
        },
        "id": "cDcJArlW2WT3",
        "outputId": "9be74c18-46b6-4ac2-ec3f-077929c3fa69"
      },
      "execution_count": null,
      "outputs": [
        {
          "output_type": "stream",
          "name": "stdout",
          "text": [
            "Files already downloaded and verified\n",
            "Files already downloaded and verified\n"
          ]
        },
        {
          "output_type": "error",
          "ename": "KeyboardInterrupt",
          "evalue": "",
          "traceback": [
            "\u001b[0;31m---------------------------------------------------------------------------\u001b[0m",
            "\u001b[0;31mKeyboardInterrupt\u001b[0m                         Traceback (most recent call last)",
            "\u001b[0;32m<ipython-input-3-47a5dd6665e0>\u001b[0m in \u001b[0;36m<cell line: 60>\u001b[0;34m()\u001b[0m\n\u001b[1;32m     58\u001b[0m \u001b[0;31m# Fine-tune the model\u001b[0m\u001b[0;34m\u001b[0m\u001b[0;34m\u001b[0m\u001b[0m\n\u001b[1;32m     59\u001b[0m \u001b[0mnum_epochs\u001b[0m \u001b[0;34m=\u001b[0m \u001b[0;36m10\u001b[0m\u001b[0;34m\u001b[0m\u001b[0;34m\u001b[0m\u001b[0m\n\u001b[0;32m---> 60\u001b[0;31m \u001b[0mmodel\u001b[0m \u001b[0;34m=\u001b[0m \u001b[0mtrain_model\u001b[0m\u001b[0;34m(\u001b[0m\u001b[0mmodel\u001b[0m\u001b[0;34m,\u001b[0m \u001b[0mtrain_loader\u001b[0m\u001b[0;34m,\u001b[0m \u001b[0mcriterion\u001b[0m\u001b[0;34m,\u001b[0m \u001b[0moptimizer\u001b[0m\u001b[0;34m,\u001b[0m \u001b[0mnum_epochs\u001b[0m\u001b[0;34m)\u001b[0m\u001b[0;34m\u001b[0m\u001b[0;34m\u001b[0m\u001b[0m\n\u001b[0m\u001b[1;32m     61\u001b[0m \u001b[0;34m\u001b[0m\u001b[0m\n\u001b[1;32m     62\u001b[0m \u001b[0;31m# Evaluate the model\u001b[0m\u001b[0;34m\u001b[0m\u001b[0;34m\u001b[0m\u001b[0m\n",
            "\u001b[0;32m<ipython-input-3-47a5dd6665e0>\u001b[0m in \u001b[0;36mtrain_model\u001b[0;34m(model, train_loader, criterion, optimizer, num_epochs)\u001b[0m\n\u001b[1;32m     48\u001b[0m             \u001b[0mloss\u001b[0m\u001b[0;34m.\u001b[0m\u001b[0mbackward\u001b[0m\u001b[0;34m(\u001b[0m\u001b[0;34m)\u001b[0m\u001b[0;34m\u001b[0m\u001b[0;34m\u001b[0m\u001b[0m\n\u001b[1;32m     49\u001b[0m             \u001b[0moptimizer\u001b[0m\u001b[0;34m.\u001b[0m\u001b[0mstep\u001b[0m\u001b[0;34m(\u001b[0m\u001b[0;34m)\u001b[0m\u001b[0;34m\u001b[0m\u001b[0;34m\u001b[0m\u001b[0m\n\u001b[0;32m---> 50\u001b[0;31m             \u001b[0mrunning_loss\u001b[0m \u001b[0;34m+=\u001b[0m \u001b[0mloss\u001b[0m\u001b[0;34m.\u001b[0m\u001b[0mitem\u001b[0m\u001b[0;34m(\u001b[0m\u001b[0;34m)\u001b[0m \u001b[0;34m*\u001b[0m \u001b[0minputs\u001b[0m\u001b[0;34m.\u001b[0m\u001b[0msize\u001b[0m\u001b[0;34m(\u001b[0m\u001b[0;36m0\u001b[0m\u001b[0;34m)\u001b[0m\u001b[0;34m\u001b[0m\u001b[0;34m\u001b[0m\u001b[0m\n\u001b[0m\u001b[1;32m     51\u001b[0m \u001b[0;34m\u001b[0m\u001b[0m\n\u001b[1;32m     52\u001b[0m         \u001b[0mepoch_loss\u001b[0m \u001b[0;34m=\u001b[0m \u001b[0mrunning_loss\u001b[0m \u001b[0;34m/\u001b[0m \u001b[0mlen\u001b[0m\u001b[0;34m(\u001b[0m\u001b[0mtrain_loader\u001b[0m\u001b[0;34m.\u001b[0m\u001b[0mdataset\u001b[0m\u001b[0;34m)\u001b[0m\u001b[0;34m\u001b[0m\u001b[0;34m\u001b[0m\u001b[0m\n",
            "\u001b[0;31mKeyboardInterrupt\u001b[0m: "
          ]
        }
      ]
    },
    {
      "cell_type": "markdown",
      "source": [
        "Explanation\n",
        "\n",
        "\t1.\tPreprocessing Transformations:\n",
        "\t•\tResize the images to 256x256 pixels.\n",
        "\t•\tCenter crop to 224x224 pixels.\n",
        "\t•\tConvert images to tensors.\n",
        "\t•\tNormalize images with mean and standard deviation.\n",
        "\t2.\tLoad CIFAR-10 Dataset:\n",
        "\t•\tUse torchvision.datasets.CIFAR10 to download and load the training and validation datasets.\n",
        "\t•\tApply the preprocessing transformations to the datasets.\n",
        "\t•\tCreate data loaders for batching the data.\n",
        "\t3.\tLoad Pretrained VGG16 Model:\n",
        "\t•\tLoad the VGG16 model pretrained on ImageNet.\n",
        "\t•\tModify the final fully connected layer to match the number of classes in CIFAR-10.\n",
        "\t4.\tDefine Loss Function and Optimizer:\n",
        "\t•\tUse CrossEntropyLoss for classification.\n",
        "\t•\tUse SGD optimizer with a learning rate and momentum.\n",
        "\t5.\tTraining Loop:\n",
        "\t•\tTrain the model for a specified number of epochs.\n",
        "\t•\tCompute the loss and update the model weights.\n",
        "\t6.\tEvaluation:\n",
        "\t•\tEvaluate the fine-tuned model on the validation dataset.\n",
        "\t•\tPrint the accuracy of the model."
      ],
      "metadata": {
        "id": "sd4R2-CDuiRg"
      }
    },
    {
      "cell_type": "markdown",
      "source": [
        "#Semantic segmentation\n",
        "is a computer vision task that involves partitioning an image into regions and labeling each region with a class from a predefined set. Unlike image classification, which assigns a single label to an entire image, or object detection, which draws bounding boxes around objects, semantic segmentation assigns a class label to each pixel in the image. This enables the model to understand and differentiate between different objects and parts of the scene at a pixel level.\n",
        "\n",
        "Key Aspects of Semantic Segmentation\n",
        "\n",
        "\t1.\tPixel-Level Classification:\n",
        "\t•\tEach pixel in the image is classified into a specific class. For instance, in a road scene, pixels could be labeled as road, vehicle, pedestrian, building, etc.\n",
        "\t2.\tDense Prediction:\n",
        "\t•\tThe model outputs a dense prediction, meaning it produces a prediction for every pixel in the input image.\n",
        "\t3.\tApplications:\n",
        "\t•\tAutonomous driving: Understanding the layout of the road, detecting lane markings, vehicles, pedestrians, and obstacles.\n",
        "\t•\tMedical imaging: Segmenting different anatomical structures such as organs, tumors, etc.\n",
        "\t•\tSatellite image analysis: Classifying land use and land cover types.\n",
        "\n",
        "Example: Road Scene Segmentation\n",
        "\n",
        "An example of semantic segmentation in a road scene might involve labeling:\n",
        "\n",
        "\t•\tRoad as “road”\n",
        "\t•\tCars as “vehicle”\n",
        "\t•\tPeople as “pedestrian”\n",
        "\t•\tBuildings as “building”\n",
        "\t•\tTrees as “vegetation”\n",
        "\n",
        "Common Techniques and Architectures\n",
        "\n",
        "\t1.\tFully Convolutional Networks (FCNs):\n",
        "\t•\tFCNs are a type of neural network designed for semantic segmentation. They replace the fully connected layers in traditional convolutional neural networks (CNNs) with convolutional layers, allowing the network to output spatial maps of the same size as the input image.\n",
        "\t2.\tU-Net:\n",
        "\t•\tU-Net is a popular architecture for biomedical image segmentation. It consists of an encoder-decoder structure with skip connections that help retain spatial information from the encoder layers to the decoder layers.\n",
        "\t3.\tDeepLab:\n",
        "\t•\tDeepLab models (DeepLabv1, v2, v3, v3+) incorporate atrous (dilated) convolutions and spatial pyramid pooling to capture multi-scale context and improve segmentation performance."
      ],
      "metadata": {
        "id": "Jm_kk3j1w7sF"
      }
    },
    {
      "cell_type": "markdown",
      "source": [
        "#PRETRAINED SEMANTIC SEGMENTATION"
      ],
      "metadata": {
        "id": "ksb4ZJ13xIOw"
      }
    },
    {
      "cell_type": "code",
      "source": [
        "import torch\n",
        "from torchvision import models, transforms\n",
        "from PIL import Image\n",
        "import numpy as np\n",
        "import matplotlib.pyplot as plt\n",
        "\n",
        "# Load a pretrained DeepLabV3 model\n",
        "model = models.segmentation.deeplabv3_resnet101(pretrained=True)\n",
        "model.eval()\n",
        "\n",
        "# Define the preprocessing transformation\n",
        "preprocess = transforms.Compose([\n",
        "    transforms.ToTensor(),\n",
        "    transforms.Normalize(mean=[0.485, 0.456, 0.406], std=[0.229, 0.224, 0.225]),\n",
        "])\n",
        "\n",
        "# Load and preprocess the image\n",
        "input_image = Image.open(\"/content/download (1).jpeg\").convert(\"RGB\")\n",
        "input_tensor = preprocess(input_image)\n",
        "input_batch = input_tensor.unsqueeze(0)  # Create a mini-batch as expected by the model\n",
        "\n",
        "# Move the input to GPU if available\n",
        "if torch.cuda.is_available():\n",
        "    input_batch = input_batch.to('cuda')\n",
        "    model.to('cuda')\n",
        "\n",
        "# Perform inference\n",
        "with torch.no_grad():\n",
        "    output = model(input_batch)['out'][0]\n",
        "output_predictions = output.argmax(0)\n",
        "\n",
        "# Visualize the result\n",
        "palette = np.random.randint(0, 256, (21, 3), dtype=np.uint8)\n",
        "segmentation_image = palette[output_predictions.cpu().numpy()]\n",
        "plt.imshow(segmentation_image)\n",
        "plt.show()"
      ],
      "metadata": {
        "colab": {
          "base_uri": "https://localhost:8080/",
          "height": 434
        },
        "id": "VdDyXXoAqz62",
        "outputId": "fb7ac1df-b099-497a-e181-b43abc6dbe74"
      },
      "execution_count": null,
      "outputs": [
        {
          "output_type": "display_data",
          "data": {
            "text/plain": [
              "<Figure size 640x480 with 1 Axes>"
            ],
            "image/png": "[encoded data removed]"
          },
          "metadata": {}
        }
      ]
    },
    {
      "cell_type": "markdown",
      "source": [
        "Explanation:\n",
        "\n",
        "\t1.\tModel Loading:\n",
        "\t•\tLoad the DeepLabV3 model pretrained on the COCO dataset.\n",
        "\t2.\tPreprocessing:\n",
        "\t•\tNormalize the input image to match the expected input of the model.\n",
        "\t3.\tInference:\n",
        "\t•\tPerform a forward pass through the model to get the segmentation output.\n",
        "\t4.\tVisualization:\n",
        "\t•\tConvert the segmentation output to an RGB image using a color palette and display it."
      ],
      "metadata": {
        "id": "nP3QRBJ5xtr_"
      }
    },
    {
      "cell_type": "markdown",
      "source": [
        "#YOLO (You Only Look Once)\n",
        "is a state-of-the-art, real-time object detection system. Unlike traditional object detectors that perform classification and bounding box regression in a multi-step process, YOLO frames object detection as a single regression problem, directly from image pixels to bounding box coordinates and class probabilities.\n",
        "\n",
        "Here’s how you can use a pretrained YOLO model for object detection with PyTorch. We’ll use the YOLOv5 implementation provided by the ultralytics library, which simplifies the usage of YOLO models."
      ],
      "metadata": {
        "id": "CSOWIrwwx6P9"
      }
    },
    {
      "cell_type": "code",
      "source": [
        "!git clone https://github.com/ultralytics/yolov5\n",
        "!cd yolov5\n",
        "!pip install -r requirements.txt"
      ],
      "metadata": {
        "colab": {
          "base_uri": "https://localhost:8080/"
        },
        "id": "DBFVnud8x4qK",
        "outputId": "420c539d-5e97-4a5e-9cd9-f6278f09d8b2"
      },
      "execution_count": null,
      "outputs": [
        {
          "output_type": "stream",
          "name": "stdout",
          "text": [
            "Cloning into 'yolov5'...\n",
            "remote: Enumerating objects: 16623, done.\u001b[K\n",
            "remote: Counting objects: 100% (101/101), done.\u001b[K\n",
            "remote: Compressing objects: 100% (72/72), done.\u001b[K\n",
            "remote: Total 16623 (delta 56), reused 62 (delta 29), pack-reused 16522\u001b[K\n",
            "Receiving objects: 100% (16623/16623), 15.10 MiB | 8.95 MiB/s, done.\n",
            "Resolving deltas: 100% (11415/11415), done.\n",
            "\u001b[31mERROR: Could not open requirements file: [Errno 2] No such file or directory: 'requirements.txt'\u001b[0m\u001b[31m\n",
            "\u001b[0m"
          ]
        }
      ]
    },
    {
      "cell_type": "code",
      "source": [
        "\n",
        "import torch\n",
        "\n",
        "# Load YOLOv5 model\n",
        "model = torch.hub.load('ultralytics/yolov5', 'yolov5s', pretrained=True)\n",
        "\n",
        "# Load an image\n",
        "img = '/content/tttt.jpeg'\n",
        "\n",
        "# Perform inference\n",
        "results = model(img)\n",
        "\n",
        "# Show results\n",
        "results.show()"
      ],
      "metadata": {
        "colab": {
          "base_uri": "https://localhost:8080/"
        },
        "id": "BwfSFTOdxufL",
        "outputId": "7139df60-75b9-4ace-a672-cf4043586220"
      },
      "execution_count": null,
      "outputs": [
        {
          "output_type": "stream",
          "name": "stderr",
          "text": [
            "Using cache found in /root/.cache/torch/hub/ultralytics_yolov5_master\n",
            "YOLOv5 🚀 2024-5-22 Python-3.10.12 torch-2.3.0+cu121 CUDA:0 (Tesla T4, 15102MiB)\n",
            "\n",
            "Fusing layers... \n",
            "YOLOv5s summary: 213 layers, 7225885 parameters, 0 gradients, 16.4 GFLOPs\n",
            "Adding AutoShape... \n"
          ]
        }
      ]
    },
    {
      "cell_type": "markdown",
      "source": [
        "Explanation:\n",
        "\n",
        "\t1.\tLoad the YOLOv5 Model:\n",
        "\t•\tUse torch.hub.load to load a pretrained YOLOv5 model. Here, yolov5s is a smaller, faster version of YOLOv5.\n",
        "\t2.\tDefine a Function to Plot Results:\n",
        "\t•\tThe plot_results function takes the original image and the detection results to draw bounding boxes and labels on the image.\n",
        "\t3.\tLoad and Preprocess the Image:\n",
        "\t•\tLoad the image using PIL and convert it to RGB format.\n",
        "\t4.\tPerform Inference:\n",
        "\t•\tPass the image to the model to get the detection results.\n",
        "\t5.\tPlot the Results:\n",
        "\t•\tDraw bounding boxes and labels on the image and display it using matplotlib."
      ],
      "metadata": {
        "id": "QrTmGvvXx1Xj"
      }
    },
    {
      "cell_type": "markdown",
      "source": [
        "Purpose and Task\n",
        "\n",
        "\t1.\tYOLO (You Only Look Once)\n",
        "\t•\tTask: Object Detection\n",
        "\t•\tPurpose: YOLO is designed to detect multiple objects within an image, providing both the class labels and bounding box coordinates for each detected object.\n",
        "\t2.\tVGG16\n",
        "\t•\tTask: Image Classification\n",
        "\t•\tPurpose: VGG16 is designed to classify an entire image into one of many predefined categories, typically not providing any information about the location of objects within the image.\n",
        "\n",
        "Architecture\n",
        "\n",
        "\t1.\tYOLO\n",
        "\t•\tType: Single-stage object detector.\n",
        "\t•\tArchitecture: YOLO frames object detection as a single regression problem, straight from image pixels to bounding box coordinates and class probabilities. It divides the image into a grid and for each grid cell predicts bounding boxes and class probabilities.\n",
        "\t•\tFeature Extractor: Uses a convolutional neural network (CNN) as a backbone for feature extraction. YOLOv3, for example, uses the Darknet-53 architecture.\n",
        "\t•\tOutput: Provides bounding box coordinates and class probabilities for multiple objects within the image.\n",
        "\t2.\tVGG16\n",
        "\t•\tType: Image classifier.\n",
        "\t•\tArchitecture: VGG16 is a deep convolutional neural network with 16 weight layers, consisting of:\n",
        "\t•\tConvolutional Layers: 13 convolutional layers using 3x3 filters.\n",
        "\t•\tFully Connected Layers: 3 fully connected layers at the end of the network.\n",
        "\t•\tActivation Functions: Uses ReLU activation functions after each convolutional and fully connected layer.\n",
        "\t•\tPooling Layers: Uses max pooling after some convolutional layers to reduce the spatial dimensions.\n",
        "\t•\tOutput: Provides a single class probability distribution over the predefined classes.\n",
        "\n",
        "Speed and Performance\n",
        "\n",
        "\t1.\tYOLO\n",
        "\t•\tSpeed: Designed for real-time object detection, YOLO is significantly faster than many other object detection methods, processing images in milliseconds.\n",
        "\t•\tAccuracy: Offers a good trade-off between speed and accuracy but might not achieve state-of-the-art accuracy on challenging datasets compared to slower, more complex models.\n",
        "\t2.\tVGG16\n",
        "\t•\tSpeed: Slower compared to more modern architectures due to its depth and the number of parameters. It requires significant computational resources for both training and inference.\n",
        "\t•\tAccuracy: Known for its high accuracy in image classification tasks, VGG16 was state-of-the-art when it was introduced.\n",
        "\n",
        "Use Cases\n",
        "\n",
        "\t1.\tYOLO\n",
        "\t•\tApplications: Suitable for applications requiring real-time object detection such as surveillance systems, autonomous driving, and real-time video analysis.\n",
        "\t2.\tVGG16\n",
        "\t•\tApplications: Suitable for tasks requiring high accuracy image classification such as image recognition, visual search engines, and transfer learning for various vision tasks.\n"
      ],
      "metadata": {
        "id": "QV1iwgQNyctC"
      }
    },
    {
      "cell_type": "markdown",
      "source": [
        "#YOLO small code"
      ],
      "metadata": {
        "id": "vKu0WUowyi43"
      }
    },
    {
      "cell_type": "code",
      "source": [
        "\n",
        "import torch\n",
        "\n",
        "# Load YOLOv5 model\n",
        "model = torch.hub.load('ultralytics/yolov5', 'yolov5s', pretrained=True)\n",
        "\n",
        "# Load an image\n",
        "img = '/content/tttt.jpeg'\n",
        "\n",
        "# Perform inference\n",
        "results = model(img)\n",
        "\n",
        "# Show results\n",
        "results.show()"
      ],
      "metadata": {
        "colab": {
          "base_uri": "https://localhost:8080/",
          "height": 484
        },
        "id": "TaZqjFsUydaX",
        "outputId": "b04a274f-3d6c-497e-f8ab-1c664e65926b"
      },
      "execution_count": null,
      "outputs": [
        {
          "output_type": "stream",
          "name": "stderr",
          "text": [
            "Using cache found in /root/.cache/torch/hub/ultralytics_yolov5_master\n",
            "YOLOv5 🚀 2024-5-22 Python-3.10.12 torch-2.3.0+cu121 CUDA:0 (Tesla T4, 15102MiB)\n",
            "\n",
            "Fusing layers... \n",
            "YOLOv5s summary: 213 layers, 7225885 parameters, 0 gradients, 16.4 GFLOPs\n",
            "Adding AutoShape... \n"
          ]
        },
        {
          "output_type": "display_data",
          "data": {
            "text/plain": [
              "<PIL.Image.Image image mode=RGB size=546x360>"
            ],
            "image/png": "[encoded data removed]"
          },
          "metadata": {}
        }
      ]
    },
    {
      "cell_type": "markdown",
      "source": [
        "#VGG16 small code"
      ],
      "metadata": {
        "id": "O5sMSgnCyk-g"
      }
    },
    {
      "cell_type": "code",
      "source": [
        "import torch\n",
        "from torchvision import models, transforms\n",
        "from PIL import Image\n",
        "import json\n",
        "import urllib\n",
        "\n",
        "# Load VGG16 model\n",
        "model = models.vgg16(pretrained=True)\n",
        "model.eval()\n",
        "\n",
        "# Preprocess the image\n",
        "preprocess = transforms.Compose([\n",
        "    transforms.Resize(256),\n",
        "    transforms.CenterCrop(224),\n",
        "    transforms.ToTensor(),\n",
        "    transforms.Normalize(mean=[0.485, 0.456, 0.406], std=[0.229, 0.224, 0.225]),\n",
        "])\n",
        "\n",
        "# Load and preprocess the image\n",
        "img = Image.open('/content/tttt.jpeg')\n",
        "img_t = preprocess(img)\n",
        "batch_t = torch.unsqueeze(img_t, 0)\n",
        "\n",
        "# Perform inference\n",
        "with torch.no_grad():\n",
        "    out = model(batch_t)\n",
        "\n",
        "# Print top 5 predicted classes\n",
        "_, indices = torch.topk(out, 5)\n",
        "\n",
        "# Load ImageNet class names\n",
        "LABELS_URL = \"https://raw.githubusercontent.com/anishathalye/imagenet-simple-labels/master/imagenet-simple-labels.json\"\n",
        "with urllib.request.urlopen(LABELS_URL) as url:\n",
        "    labels = json.loads(url.read().decode())\n",
        "\n",
        "# Print the class names\n",
        "for idx in indices[0]:\n",
        "    print(labels[idx])"
      ],
      "metadata": {
        "colab": {
          "base_uri": "https://localhost:8080/"
        },
        "id": "ULx-uOLxynQE",
        "outputId": "f73e0aea-30d0-48f6-aff6-db4961310a71"
      },
      "execution_count": null,
      "outputs": [
        {
          "output_type": "stream",
          "name": "stdout",
          "text": [
            "cauliflower\n",
            "broccoli\n",
            "grocery store\n",
            "bell pepper\n",
            "cucumber\n"
          ]
        }
      ]
    },
    {
      "cell_type": "code",
      "source": [],
      "metadata": {
        "id": "Jo0tAlEm4q2N"
      },
      "execution_count": null,
      "outputs": []
    }
  ]
}