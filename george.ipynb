{
 "cells": [
  {
   "cell_type": "code",
   "execution_count": 11,
   "metadata": {},
   "outputs": [
    {
     "name": "stdout",
     "output_type": "stream",
     "text": [
      "173.21\n"
     ]
    }
   ],
   "source": [
    "a = float(input())\n",
    "area_equilateral_triangle = 1.7320508075688772/4 * (a ** 2)\n",
    "print(round(area_equilateral_triangle,2))"
   ]
  },
  {
   "cell_type": "code",
   "execution_count": 6,
   "metadata": {},
   "outputs": [
    {
     "name": "stdout",
     "output_type": "stream",
     "text": [
      "Square root of 3: 1.7320508075688772\n"
     ]
    }
   ],
   "source": [
    "import math\n",
    "\n",
    "# Calculate the square root of 3\n",
    "sqrt_of_3 = math.sqrt(3)\n",
    "\n",
    "print(\"Square root of 3:\", sqrt_of_3)"
   ]
  },
  {
   "cell_type": "code",
   "execution_count": 13,
   "metadata": {},
   "outputs": [
    {
     "name": "stdout",
     "output_type": "stream",
     "text": [
      "2 3\n",
      "4 3\n",
      "4 5\n",
      "2\n"
     ]
    }
   ],
   "source": [
    "a, b = list(map(int,input().split()))\n",
    "c, d = list(map(int,input().split()))\n",
    "e, f = list(map(int,input().split()))\n",
    "\n",
    "print(a,b)\n",
    "print(c,d)\n",
    "print(e,f)\n",
    "print(a)"
   ]
  },
  {
   "cell_type": "code",
   "execution_count": 18,
   "metadata": {},
   "outputs": [
    {
     "name": "stdout",
     "output_type": "stream",
     "text": [
      "3 6 9\n"
     ]
    }
   ],
   "source": [
    "number = int(input())\n",
    "i = 1\n",
    "multiples = []\n",
    "while i<4:\n",
    "    result = number*i\n",
    "    multiples.append(result)\n",
    "    i += 1\n",
    "pass\n",
    "print(*multiples, sep = ' ')\n",
    " "
   ]
  },
  {
   "cell_type": "code",
   "execution_count": 17,
   "metadata": {},
   "outputs": [
    {
     "name": "stdout",
     "output_type": "stream",
     "text": [
      "[4, 8, 12]\n"
     ]
    }
   ],
   "source": [
    "def print_multiples(number, count):\n",
    "    multiples = [number * i for i in range(1, count + 1)]\n",
    "    #print(multiples)\n",
    "    print(*multiples, sep=' ')\n",
    "\n",
    "# Example: Print the first 3 multiples of 4\n",
    "print_multiples(4, 3)"
   ]
  },
  {
   "cell_type": "code",
   "execution_count": 29,
   "metadata": {},
   "outputs": [
    {
     "name": "stdout",
     "output_type": "stream",
     "text": [
      "Even\n"
     ]
    }
   ],
   "source": [
    "a = float(input())\n",
    "round(a)\n",
    "\n",
    "if a == 0:\n",
    "    print(\"Zero\")\n",
    "\n",
    "elif a % 2 == 0:\n",
    "    print(\"Even\")\n",
    "    \n",
    "else:\n",
    "    print(\"Odd\")\n"
   ]
  },
  {
   "cell_type": "code",
   "execution_count": 28,
   "metadata": {},
   "outputs": [
    {
     "name": "stdout",
     "output_type": "stream",
     "text": [
      "4 6\n"
     ]
    }
   ],
   "source": [
    "a = input()\n",
    "b = input()\n",
    "c = input()\n",
    "result = max(a,b,c)\n",
    "print(result)\n"
   ]
  },
  {
   "cell_type": "code",
   "execution_count": 32,
   "metadata": {},
   "outputs": [
    {
     "name": "stdout",
     "output_type": "stream",
     "text": [
      "valid card\n",
      "access granted\n",
      "Your current balance is  13000.0\n"
     ]
    }
   ],
   "source": [
    "card = input()\n",
    "balance = 10000\n",
    "if card ==\"card\":\n",
    "   print(\"valid card\")\n",
    "   pin= input(\"enter pin\")\n",
    "   if pin==\"1111\":\n",
    "       print(\"access granted\")\n",
    "       tt=input(\"enter W for wihdrawl or D for Deposit\")\n",
    "       if tt == 'W':\n",
    "        amount= float(input(\"Enter the amount\"))\n",
    "        print(\"Transaction is processed\")\n",
    "        balanced_Amount = balance - amount\n",
    "        print(\"Your balanced amount is \", balanced_Amount)        \n",
    "       else:\n",
    "          deposit_amount = float(input(\"Enter the amount for Deposit\"))\n",
    "          balance = balance+ deposit_amount\n",
    "          print(\"Your current balance is \", balance)\n",
    "   else:\n",
    "       print(\"access denied\")\n",
    "else:\n",
    "   print(\"invalid card\")"
   ]
  },
  {
   "cell_type": "code",
   "execution_count": 33,
   "metadata": {},
   "outputs": [
    {
     "name": "stdout",
     "output_type": "stream",
     "text": [
      "Enter the Marks\n"
     ]
    },
    {
     "ename": "TypeError",
     "evalue": "'>=' not supported between instances of 'str' and 'int'",
     "output_type": "error",
     "traceback": [
      "\u001b[1;31m---------------------------------------------------------------------------\u001b[0m",
      "\u001b[1;31mTypeError\u001b[0m                                 Traceback (most recent call last)",
      "Cell \u001b[1;32mIn[33], line 3\u001b[0m\n\u001b[0;32m      1\u001b[0m \u001b[38;5;28mprint\u001b[39m(\u001b[38;5;124m\"\u001b[39m\u001b[38;5;124mEnter the Marks\u001b[39m\u001b[38;5;124m\"\u001b[39m)\n\u001b[0;32m      2\u001b[0m mark \u001b[38;5;241m=\u001b[39m \u001b[38;5;28minput\u001b[39m()\n\u001b[1;32m----> 3\u001b[0m \u001b[38;5;28;01mif\u001b[39;00m (\u001b[43mmark\u001b[49m\u001b[43m \u001b[49m\u001b[38;5;241;43m>\u001b[39;49m\u001b[38;5;241;43m=\u001b[39;49m\u001b[43m \u001b[49m\u001b[38;5;241;43m0\u001b[39;49m \u001b[38;5;129;01mand\u001b[39;00m mark \u001b[38;5;241m<\u001b[39m \u001b[38;5;241m35\u001b[39m):\n\u001b[0;32m      4\u001b[0m     \u001b[38;5;28mprint\u001b[39m(\u001b[38;5;124m\"\u001b[39m\u001b[38;5;124mFail\u001b[39m\u001b[38;5;124m\"\u001b[39m)\n\u001b[0;32m      5\u001b[0m \u001b[38;5;28;01melif\u001b[39;00m(mark \u001b[38;5;241m>\u001b[39m \u001b[38;5;241m35\u001b[39m \u001b[38;5;129;01mand\u001b[39;00m mark \u001b[38;5;241m<\u001b[39m \u001b[38;5;241m60\u001b[39m):\n",
      "\u001b[1;31mTypeError\u001b[0m: '>=' not supported between instances of 'str' and 'int'"
     ]
    }
   ],
   "source": [
    "print(\"Enter the Marks\")\n",
    "mark = int(input())\n",
    "if (mark >= 0 and mark < 35):\n",
    "    print(\"Fail\")\n",
    "elif(mark > 35 and mark < 60):\n",
    "    print(\"Average\")\n",
    "elif(mark > 60 and mark < 80):\n",
    "    print(\"First class\")\n",
    "elif(mark > 80 and mark <=100):\n",
    "    print(\"Distinction\")\n",
    "else:\n",
    "    print(\"pass\")"
   ]
  }
 ],
 "metadata": {
  "kernelspec": {
   "display_name": "Python 3",
   "language": "python",
   "name": "python3"
  },
  "language_info": {
   "codemirror_mode": {
    "name": "ipython",
    "version": 3
   },
   "file_extension": ".py",
   "mimetype": "text/x-python",
   "name": "python",
   "nbconvert_exporter": "python",
   "pygments_lexer": "ipython3",
   "version": "3.12.2"
  }
 },
 "nbformat": 4,
 "nbformat_minor": 2
}
